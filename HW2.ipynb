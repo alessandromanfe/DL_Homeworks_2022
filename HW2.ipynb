{
  "cells": [
    {
      "cell_type": "markdown",
      "metadata": {
        "id": "raUKrVPW0SO1"
      },
      "source": [
        "#**Deep Learning Homework 2: *Optimize and Train Deep Models***\n",
        "### MSc Computer Science, Data Science, Cybersecurity @UniPD\n",
        "### 2nd semester - 6 ECTS\n",
        "### Prof. Nicolò Navarin & Prof. Alessandro Sperduti\n",
        "---"
      ]
    },
    {
      "cell_type": "markdown",
      "metadata": {
        "id": "QUc9frYnVBI_"
      },
      "source": [
        "In this homework, we will explore how to develop a simple Deep Neural Network for a classification problem. We will explore two common libraries: TensorFlow and Keras.\n",
        "Then we will explore how to face a well known problem that is common to encounter during the training phase: the Overfitting.\n",
        "Finally, we will study how to perform a fair model selection.\n",
        "Hint: Before starting the exercise take a look at how Tensorflow and Keras are designed.  https://keras.io/"
      ]
    },
    {
      "cell_type": "markdown",
      "metadata": {
        "id": "e-Nc7mFSVEiU"
      },
      "source": [
        "##Exercise 2.1: Text Classficiation with Tensorflow and Keras\n",
        "\n",
        "In this first exercise we will develop a 3 layers Neural Network to perfrom classification.\n",
        "\n",
        "Let's start importing the libraries we will need and setting a couple of environmental variables.\n"
      ]
    },
    {
      "cell_type": "code",
      "execution_count": 3,
      "metadata": {
        "id": "bWn9FzneVqJo"
      },
      "outputs": [],
      "source": [
        "import matplotlib as mpl\n",
        "import matplotlib.pyplot as plt\n",
        "import numpy as np\n",
        "import os\n",
        "import pandas as pd\n",
        "import sklearn\n",
        "import sys\n",
        "import tensorflow as tf\n",
        "from tensorflow import keras  # tf.keras\n",
        "import tensorflow_datasets as tfds\n",
        "import time\n",
        "\n",
        "import logging\n",
        "logging.disable(logging.WARNING)\n",
        "os.environ[\"TF_CPP_MIN_LOG_LEVEL\"] = \"3\" \n",
        "\n",
        "tf.random.set_seed(42)\n",
        "# os.environ['TF_DETERMINISTIC_OPS']='1'"
      ]
    },
    {
      "cell_type": "markdown",
      "metadata": {
        "id": "LT2HMYDEXcx0"
      },
      "source": [
        "### Load Data: AG News Subset\n",
        "\n",
        "In this HW, we use the AG News Subset that is available in Tensorflow Dataset. The AG's news topic classification dataset is constructed by choosing the 4 largest topic classes from a larger news corups. The total number of training samples is 120,000 and testing 7,600. Each class contains 30,000 training samples and 1,900 testing samples. Each sample contains both the title and an excerpt of the article, but in this exercise we will use only the excerpt as input.\n",
        "\n",
        "We will split the training set into two 90%-10% splits in order to have a validation set."
      ]
    },
    {
      "cell_type": "code",
      "execution_count": 4,
      "metadata": {
        "id": "d8xZASzs26zD",
        "colab": {
          "base_uri": "https://localhost:8080/",
          "height": 319,
          "referenced_widgets": [
            "310ec5beaa7143529d4b1a24c5d2633b",
            "6769e2f883084f48a0bb1fe2c7bf4585",
            "d9fc587b3ee74d46b5b9513572294408",
            "efaefac1dab04cfdbf7e0f419d317692",
            "2c06e702ede44db4a3353284edfd2e99",
            "96fe2b91a2e348b686e1710f820e6165",
            "77e06a202a3f41e9a2b9fff6bbb9719c",
            "f1bf86f429f94cf4a093f8b7a210fe57",
            "e217673dc16641fc83a6c49b2127c5c4",
            "466cfd8b34a54299ab0de8231f976fe7",
            "2dacad80547244d4a876ee85f8d654fa",
            "6ab6818ab15e473d8a96d6293c51b773",
            "e9a87993de07443792b1a019cce1e787",
            "847cd7db996243cd85094d7972171c26",
            "a1575932d60148c1a81c999a998113be",
            "e5d9ece9acd340b1850020f34c2fd657",
            "efd1fc343c0a409eaff1f5e95fd1d6ac",
            "a1ba8b510173445c83c50de050863f62",
            "2fbaf7a7ca2b48e09414f9de2d14c93e",
            "81ef94b0dbc340dea62bb111fac92725",
            "5788e316daf84750acae733c4592ceea",
            "9305b0028eea48dd88b8651eb3aeb13e",
            "cc1fec97cd844142a7e98ee2246d3581",
            "476b1f40496c4921ab12f1b28fe083b2",
            "37eeda44511e4292a879216afef97a2c",
            "fd61b3d625d1483587f699ae734f2182",
            "0186e2c36fca4295800ab4b203ee71cf",
            "f89f55042e1546f8b10480b2a0f47bc1",
            "9f1b121208024c1ebaf1e8ccc14573f7",
            "e44f45dc869d41e19d700e327e8dd26b",
            "6f41266a7c7a4ea1b42d2ea9629d3875",
            "3fe16598c94247908be3d7dc8ed60a5a",
            "c7f10546e55b4d288a05d55a66369a08",
            "1f5c2c7c6e954144a206e73966295082",
            "1845d674112443c1931532c875906110",
            "bbdc62c0ad8a4dd89e6a65cd9cd3a139",
            "6551a6d22c724db18561b4fb4ff0c6ad",
            "dac03c599051400097536ca0957b091b",
            "2332c3bfbe1347a598cf14b6562265c0",
            "837fafff76114e5bab13bbe975dda49e",
            "eac19ddbae444cc8a9a7dbbfc2d419f3",
            "683be22a55714929aedbe9c2cb9abc9a",
            "6b934a33725e4c89bbba4cabf678f6e0",
            "4abf57f89fd445fcade9dc51da5dc60b",
            "606d1d56a003496db6b92c8f264dcd60",
            "658d32b49ed744358cf1248ec11f7696",
            "81755f8bb88244daac1aff9624c8f632",
            "81c6a34dfe9443a3b003803a326a1f9d",
            "2342fbc65ef6424586071197da5a8346",
            "07ac76dc201644f6b2b8cc4ba75d628c",
            "43357f8dc23d475499dcf62529e985f0",
            "4ce926320c704f26be36b580daef2e80",
            "0a60dfc7cd504cb793c87650fa9119ad",
            "b01f90942e494b909d88408e469b4c7d",
            "9a9ea94eed514027963ef7b757f555e7",
            "0072d3b2a9f24664939026acdc0f180b",
            "08aa1f45a02749e0916c77388053118f",
            "a95168e564c1405a9127d99057b6b1da",
            "4a47c9df775447c887d2239585732c75",
            "b75fc15e65bf47c09dbd96b8cf67748e",
            "00a235af9c8f4d4996d8c310bf400db7",
            "2893f0d5ee1340c0a6db8ce7b4870fd7",
            "bf29711c08a241b1bc638ac6d09a4741",
            "daeb9e8805f14e8cb658fece861c6483",
            "8e2cc6ec63e84350b0175803c851018d",
            "29cf250db7cb4252b9dd5581b0b749db",
            "1dc4dcc2e62d45178d954d95bbda8160",
            "f815a82038a14bf092e1aaa23238cd41",
            "ab2340164a564213b92abbce41524d3a",
            "4ed76884d4da4877a82536671a054ae6",
            "2bfda299ad6b4cd883a0da535e5e934f",
            "b4b9a0140bbf430ebe58337760997923",
            "bcf86c3061db4c88b29ffa8db9bd1123",
            "3358ab108eca421dabb8edf71e824e28",
            "eff9635647104b21969990443f0f7689",
            "4c69d296ca134c8dbf454fda91fb9706",
            "3923a30860724da9ad468c5c74aba624"
          ]
        },
        "outputId": "0073f982-5c9b-4cf6-d54e-496516b868ac"
      },
      "outputs": [
        {
          "output_type": "stream",
          "name": "stdout",
          "text": [
            "\u001b[1mDownloading and preparing dataset ag_news_subset/1.0.0 (download: 11.24 MiB, generated: 35.79 MiB, total: 47.03 MiB) to /root/tensorflow_datasets/ag_news_subset/1.0.0...\u001b[0m\n"
          ]
        },
        {
          "output_type": "display_data",
          "data": {
            "text/plain": [
              "Dl Completed...: 0 url [00:00, ? url/s]"
            ],
            "application/vnd.jupyter.widget-view+json": {
              "version_major": 2,
              "version_minor": 0,
              "model_id": "310ec5beaa7143529d4b1a24c5d2633b"
            }
          },
          "metadata": {}
        },
        {
          "output_type": "display_data",
          "data": {
            "text/plain": [
              "Dl Size...: 0 MiB [00:00, ? MiB/s]"
            ],
            "application/vnd.jupyter.widget-view+json": {
              "version_major": 2,
              "version_minor": 0,
              "model_id": "6ab6818ab15e473d8a96d6293c51b773"
            }
          },
          "metadata": {}
        },
        {
          "output_type": "display_data",
          "data": {
            "text/plain": [
              "Extraction completed...: 0 file [00:00, ? file/s]"
            ],
            "application/vnd.jupyter.widget-view+json": {
              "version_major": 2,
              "version_minor": 0,
              "model_id": "cc1fec97cd844142a7e98ee2246d3581"
            }
          },
          "metadata": {}
        },
        {
          "output_type": "stream",
          "name": "stdout",
          "text": [
            "\n",
            "\n",
            "\n"
          ]
        },
        {
          "output_type": "display_data",
          "data": {
            "text/plain": [
              "0 examples [00:00, ? examples/s]"
            ],
            "application/vnd.jupyter.widget-view+json": {
              "version_major": 2,
              "version_minor": 0,
              "model_id": "1f5c2c7c6e954144a206e73966295082"
            }
          },
          "metadata": {}
        },
        {
          "output_type": "stream",
          "name": "stdout",
          "text": [
            "Shuffling and writing examples to /root/tensorflow_datasets/ag_news_subset/1.0.0.incompleteB8CXM5/ag_news_subset-train.tfrecord\n"
          ]
        },
        {
          "output_type": "display_data",
          "data": {
            "text/plain": [
              "  0%|          | 0/120000 [00:00<?, ? examples/s]"
            ],
            "application/vnd.jupyter.widget-view+json": {
              "version_major": 2,
              "version_minor": 0,
              "model_id": "606d1d56a003496db6b92c8f264dcd60"
            }
          },
          "metadata": {}
        },
        {
          "output_type": "display_data",
          "data": {
            "text/plain": [
              "0 examples [00:00, ? examples/s]"
            ],
            "application/vnd.jupyter.widget-view+json": {
              "version_major": 2,
              "version_minor": 0,
              "model_id": "0072d3b2a9f24664939026acdc0f180b"
            }
          },
          "metadata": {}
        },
        {
          "output_type": "stream",
          "name": "stdout",
          "text": [
            "Shuffling and writing examples to /root/tensorflow_datasets/ag_news_subset/1.0.0.incompleteB8CXM5/ag_news_subset-test.tfrecord\n"
          ]
        },
        {
          "output_type": "display_data",
          "data": {
            "text/plain": [
              "  0%|          | 0/7600 [00:00<?, ? examples/s]"
            ],
            "application/vnd.jupyter.widget-view+json": {
              "version_major": 2,
              "version_minor": 0,
              "model_id": "1dc4dcc2e62d45178d954d95bbda8160"
            }
          },
          "metadata": {}
        },
        {
          "output_type": "stream",
          "name": "stdout",
          "text": [
            "\u001b[1mDataset ag_news_subset downloaded and prepared to /root/tensorflow_datasets/ag_news_subset/1.0.0. Subsequent calls will reuse this data.\u001b[0m\n"
          ]
        }
      ],
      "source": [
        "### NOTE ### \n",
        "# running this cell might yield download-related errors.\n",
        "# just repeating the execution a couple of times should solve the error.\n",
        "\n",
        "train_ds, valid_ds, test_ds = tfds.load('ag_news_subset',\n",
        "                                        as_supervised=True, # return a set of (text, label) tuples \n",
        "                                        split=['train[:90%]', 'train[-10%:]', 'test'],\n",
        "                                        batch_size=-1)  \n",
        "                                        # ^ using batch_size=-1 returns Tensors instead of Dataset objects"
      ]
    },
    {
      "cell_type": "code",
      "execution_count": 5,
      "metadata": {
        "id": "BYkXCTv3NrvC"
      },
      "outputs": [],
      "source": [
        "# Tensors have two elements, data and labels; let's split them\n",
        "# so we can transform the data\n",
        "X_train, y_train = train_ds\n",
        "X_valid, y_valid = valid_ds\n",
        "X_test, y_test = test_ds"
      ]
    },
    {
      "cell_type": "markdown",
      "metadata": {
        "id": "8prUBtqq8JW7"
      },
      "source": [
        "The AG News Subset dataset consists in news articles, each one composed by a sequence of words. In order to encode each article in a single tensor with a fixed number of elements, we will use multi-hot encoding. For testing purposes, we will only consider the first 10,000  most common words. Multi-hot-encoding our lists means turning them into vectors of 0s and 1s. Concretely, this would mean for instance turning the sequence [3, 5] into a 10,000-dimensional vector that would be all-zeros except for indices 3 and 5, which would be ones. The obtained input representation indicates which words are present (at least one time) in the sentence."
      ]
    },
    {
      "cell_type": "code",
      "execution_count": 6,
      "metadata": {
        "id": "Brt087tDIDpe"
      },
      "outputs": [],
      "source": [
        "num_words = 1000\n",
        "vectorize_layer = tf.keras.layers.TextVectorization(\n",
        " max_tokens=num_words,\n",
        " standardize=\"lower_and_strip_punctuation\",\n",
        " split=\"whitespace\",\n",
        " output_mode='multi_hot',\n",
        " pad_to_max_tokens=True)\n",
        "\n",
        "vectorize_layer.adapt(X_train)"
      ]
    },
    {
      "cell_type": "code",
      "execution_count": 7,
      "metadata": {
        "id": "seuFLH2lNiDT"
      },
      "outputs": [],
      "source": [
        "X_train = vectorize_layer(X_train)\n",
        "X_valid = vectorize_layer(X_valid)\n",
        "X_test  = vectorize_layer(X_test)"
      ]
    },
    {
      "cell_type": "markdown",
      "metadata": {
        "id": "jGUg8TexZMNf"
      },
      "source": [
        "### Define the model:\n",
        "\n",
        "Let's build a Sequential model (`keras.models.Sequential`) and add four layers to it by calling its `add()` method:\n",
        "\n",
        "\n",
        "*   a input layer (`tf.keras.Input`) that is the first layer in your model. With this layer you should specify the `input_shape` argument, leaving out the batch size: `(num_words,)`;\n",
        "*  a Dense layer (`keras.layers.Dense`) with 16 neurons, and the \"relu\" activation function;\n",
        "* another Dense layer with 16 neurons, also with the \"relu\" activation function;\n",
        "* a final Dense layer with 4 output neurons, and with the \"softmax\" activation (since we considering a classification task with four classes)."
      ]
    },
    {
      "cell_type": "code",
      "execution_count": 8,
      "metadata": {
        "id": "OaoEISyaZL56"
      },
      "outputs": [],
      "source": [
        "model = keras.models.Sequential()\n",
        "model.add(tf.keras.Input(shape=(num_words,)))\n",
        "model.add(keras.layers.Dense(16, activation=\"relu\"))\n",
        "model.add(keras.layers.Dense(16, activation=\"relu\"))\n",
        "model.add(keras.layers.Dense(4, activation=\"softmax\"))"
      ]
    },
    {
      "cell_type": "markdown",
      "metadata": {
        "id": "fYfxUOQVZljh"
      },
      "source": [
        "Call the model's `summary()` method to check if the model has been built correctly. Also, try using `keras.utils.plot_model()` to save an image of your model's architecture."
      ]
    },
    {
      "cell_type": "code",
      "execution_count": 9,
      "metadata": {
        "id": "IpGkQl5dZoWq",
        "colab": {
          "base_uri": "https://localhost:8080/"
        },
        "outputId": "940caece-65f1-4d52-dc78-6003c2cbf1a9"
      },
      "outputs": [
        {
          "output_type": "stream",
          "name": "stdout",
          "text": [
            "Model: \"sequential\"\n",
            "_________________________________________________________________\n",
            " Layer (type)                Output Shape              Param #   \n",
            "=================================================================\n",
            " dense (Dense)               (None, 16)                16016     \n",
            "                                                                 \n",
            " dense_1 (Dense)             (None, 16)                272       \n",
            "                                                                 \n",
            " dense_2 (Dense)             (None, 4)                 68        \n",
            "                                                                 \n",
            "=================================================================\n",
            "Total params: 16,356\n",
            "Trainable params: 16,356\n",
            "Non-trainable params: 0\n",
            "_________________________________________________________________\n"
          ]
        }
      ],
      "source": [
        "model.summary()"
      ]
    },
    {
      "cell_type": "code",
      "execution_count": 10,
      "metadata": {
        "id": "b1NbkrXRZwOA",
        "colab": {
          "base_uri": "https://localhost:8080/",
          "height": 422
        },
        "outputId": "65b7458b-e0b7-49fb-ccb9-9d5af6c916d2"
      },
      "outputs": [
        {
          "output_type": "execute_result",
          "data": {
            "text/plain": [
              "<IPython.core.display.Image object>"
            ],
            "image/png": "[encoded data removed]"
          },
          "metadata": {},
          "execution_count": 10
        }
      ],
      "source": [
        "keras.utils.plot_model(model, \"my_model.png\", show_shapes=True)"
      ]
    },
    {
      "cell_type": "markdown",
      "metadata": {
        "id": "Mc3xzuA-33WH"
      },
      "source": [
        "As you can see, the first dimension of each layer is not defined (`None`), indeed this dimension in each layer is variable and depends on the batch size."
      ]
    },
    {
      "cell_type": "markdown",
      "metadata": {
        "id": "6FAjFixuHSA_"
      },
      "source": [
        "Instaed of using `add()` method it is also possibile to define the model using the following syntax"
      ]
    },
    {
      "cell_type": "code",
      "execution_count": 11,
      "metadata": {
        "id": "yOhr57M9GPHy",
        "colab": {
          "base_uri": "https://localhost:8080/",
          "height": 682
        },
        "outputId": "141be705-5680-4ab0-8cf2-a749196c5bf4"
      },
      "outputs": [
        {
          "output_type": "stream",
          "name": "stdout",
          "text": [
            "Model: \"sequential_1\"\n",
            "_________________________________________________________________\n",
            " Layer (type)                Output Shape              Param #   \n",
            "=================================================================\n",
            " dense_3 (Dense)             (None, 16)                16016     \n",
            "                                                                 \n",
            " dense_4 (Dense)             (None, 16)                272       \n",
            "                                                                 \n",
            " dense_5 (Dense)             (None, 4)                 68        \n",
            "                                                                 \n",
            "=================================================================\n",
            "Total params: 16,356\n",
            "Trainable params: 16,356\n",
            "Non-trainable params: 0\n",
            "_________________________________________________________________\n"
          ]
        },
        {
          "output_type": "execute_result",
          "data": {
            "text/plain": [
              "<IPython.core.display.Image object>"
            ],
            "image/png": "[encoded data removed]"
          },
          "metadata": {},
          "execution_count": 11
        }
      ],
      "source": [
        "model = keras.models.Sequential([\n",
        "    tf.keras.Input(shape=(num_words,)),\n",
        "    keras.layers.Dense(16, activation=\"relu\"),\n",
        "    keras.layers.Dense(16, activation=\"relu\"),\n",
        "    keras.layers.Dense(4, activation=\"softmax\")\n",
        "])\n",
        "model.summary()\n",
        "keras.utils.plot_model(model, \"my_model.png\", show_shapes=True)"
      ]
    },
    {
      "cell_type": "markdown",
      "metadata": {
        "id": "2ySdJmzxaSuz"
      },
      "source": [
        "### Optimize the model:\n",
        "\n",
        "After the model has been created, you must call its `compile()` method to specify the loss function and the optimizer to use.\n",
        "\n",
        "Since the model performs a classification task, and we have labels encoded as integers, we use the sparse categorical cross-entropy loss. As optimizer we use Adam.\n",
        "\n",
        "Moreover, you can optionally specify a list of additional metrics that should be measured during training. In this case we specify `metrics=[\"accuracy\"]`."
      ]
    },
    {
      "cell_type": "code",
      "execution_count": 12,
      "metadata": {
        "id": "x3bbsY3uaeh5"
      },
      "outputs": [],
      "source": [
        "model.compile(loss=\"sparse_categorical_crossentropy\",\n",
        "              optimizer=keras.optimizers.Adam(learning_rate=1e-4),\n",
        "              metrics=[\"accuracy\"])"
      ]
    },
    {
      "cell_type": "markdown",
      "metadata": {
        "id": "NB9SV0MpaeTg"
      },
      "source": [
        "Now our model is ready to be trained. Call its `fit()` method, passing to it the input features (`X_train`) and the target classes (`y_train`). Set the number of epochs to 20. \n",
        "In order to validate our model we will also pass the validation data by setting `validation_data=(X_valid, y_valid)`. Keras will compute the loss and the additional metrics (the accuracy in this case) on the validation set at the end of each epoch. If the loss on the training set is much lower than the one on the validation set, your model is probably overfitting the training set. Note: the `fit()` method will return a `History` object containing training stats."
      ]
    },
    {
      "cell_type": "code",
      "execution_count": 13,
      "metadata": {
        "id": "5whx-LU3aoKn",
        "colab": {
          "base_uri": "https://localhost:8080/"
        },
        "outputId": "81a725df-e74f-4c61-c519-140e9cc8c989"
      },
      "outputs": [
        {
          "output_type": "stream",
          "name": "stdout",
          "text": [
            "Epoch 1/20\n",
            "3375/3375 [==============================] - 8s 2ms/step - loss: 0.8503 - accuracy: 0.6761 - val_loss: 0.5107 - val_accuracy: 0.8314\n",
            "Epoch 2/20\n",
            "3375/3375 [==============================] - 7s 2ms/step - loss: 0.4583 - accuracy: 0.8449 - val_loss: 0.4452 - val_accuracy: 0.8475\n",
            "Epoch 3/20\n",
            "3375/3375 [==============================] - 8s 2ms/step - loss: 0.4222 - accuracy: 0.8546 - val_loss: 0.4318 - val_accuracy: 0.8507\n",
            "Epoch 4/20\n",
            "3375/3375 [==============================] - 11s 3ms/step - loss: 0.4089 - accuracy: 0.8573 - val_loss: 0.4241 - val_accuracy: 0.8509\n",
            "Epoch 5/20\n",
            "3375/3375 [==============================] - 7s 2ms/step - loss: 0.4012 - accuracy: 0.8590 - val_loss: 0.4210 - val_accuracy: 0.8525\n",
            "Epoch 6/20\n",
            "3375/3375 [==============================] - 6s 2ms/step - loss: 0.3959 - accuracy: 0.8601 - val_loss: 0.4175 - val_accuracy: 0.8531\n",
            "Epoch 7/20\n",
            "3375/3375 [==============================] - 7s 2ms/step - loss: 0.3917 - accuracy: 0.8615 - val_loss: 0.4149 - val_accuracy: 0.8535\n",
            "Epoch 8/20\n",
            "3375/3375 [==============================] - 7s 2ms/step - loss: 0.3882 - accuracy: 0.8617 - val_loss: 0.4132 - val_accuracy: 0.8550\n",
            "Epoch 9/20\n",
            "3375/3375 [==============================] - 7s 2ms/step - loss: 0.3851 - accuracy: 0.8627 - val_loss: 0.4109 - val_accuracy: 0.8540\n",
            "Epoch 10/20\n",
            "3375/3375 [==============================] - 7s 2ms/step - loss: 0.3825 - accuracy: 0.8629 - val_loss: 0.4096 - val_accuracy: 0.8534\n",
            "Epoch 11/20\n",
            "3375/3375 [==============================] - 7s 2ms/step - loss: 0.3799 - accuracy: 0.8637 - val_loss: 0.4081 - val_accuracy: 0.8539\n",
            "Epoch 12/20\n",
            "3375/3375 [==============================] - 7s 2ms/step - loss: 0.3775 - accuracy: 0.8638 - val_loss: 0.4064 - val_accuracy: 0.8543\n",
            "Epoch 13/20\n",
            "3375/3375 [==============================] - 7s 2ms/step - loss: 0.3753 - accuracy: 0.8645 - val_loss: 0.4051 - val_accuracy: 0.8538\n",
            "Epoch 14/20\n",
            "3375/3375 [==============================] - 7s 2ms/step - loss: 0.3731 - accuracy: 0.8649 - val_loss: 0.4053 - val_accuracy: 0.8543\n",
            "Epoch 15/20\n",
            "3375/3375 [==============================] - 8s 2ms/step - loss: 0.3709 - accuracy: 0.8660 - val_loss: 0.4035 - val_accuracy: 0.8553\n",
            "Epoch 16/20\n",
            "3375/3375 [==============================] - 7s 2ms/step - loss: 0.3689 - accuracy: 0.8661 - val_loss: 0.4027 - val_accuracy: 0.8553\n",
            "Epoch 17/20\n",
            "3375/3375 [==============================] - 7s 2ms/step - loss: 0.3669 - accuracy: 0.8668 - val_loss: 0.4011 - val_accuracy: 0.8565\n",
            "Epoch 18/20\n",
            "3375/3375 [==============================] - 7s 2ms/step - loss: 0.3649 - accuracy: 0.8672 - val_loss: 0.4003 - val_accuracy: 0.8554\n",
            "Epoch 19/20\n",
            "3375/3375 [==============================] - 7s 2ms/step - loss: 0.3630 - accuracy: 0.8679 - val_loss: 0.3992 - val_accuracy: 0.8559\n",
            "Epoch 20/20\n",
            "3375/3375 [==============================] - 7s 2ms/step - loss: 0.3612 - accuracy: 0.8684 - val_loss: 0.3993 - val_accuracy: 0.8564\n"
          ]
        }
      ],
      "source": [
        "history = model.fit(X_train, y_train, epochs=20,\n",
        "                    validation_data=(X_valid, y_valid))"
      ]
    },
    {
      "cell_type": "markdown",
      "metadata": {
        "id": "EPxiw8iCADr-"
      },
      "source": [
        "Let's plot the loss and the accuracy trends on both training and validation sets. We define the `plot_learning_acc_and_loss` function because we will reuse it in the next steps."
      ]
    },
    {
      "cell_type": "code",
      "execution_count": 14,
      "metadata": {
        "id": "AJg-F7mUa7st",
        "colab": {
          "base_uri": "https://localhost:8080/",
          "height": 320
        },
        "outputId": "20b426b9-3c07-4376-f716-5908f5c16435"
      },
      "outputs": [
        {
          "output_type": "display_data",
          "data": {
            "text/plain": [
              "<Figure size 576x360 with 1 Axes>"
            ],
            "image/png": "[encoded data removed]"
          },
          "metadata": {
            "needs_background": "light"
          }
        }
      ],
      "source": [
        "def plot_learning_acc_and_loss(history):\n",
        "    pd.DataFrame(history.history).plot(figsize=(8, 5))\n",
        "    plt.grid(True)\n",
        "    plt.show()\n",
        "plot_learning_acc_and_loss(history)"
      ]
    },
    {
      "cell_type": "markdown",
      "metadata": {
        "id": "9O3-sLmxansJ"
      },
      "source": [
        "### [TO COMPLETE] Evaluate the model:\n",
        "\n",
        "Now, our model has been optimized on the training set, and as you can see the performance on the validation set in quite similar (so it does not overfit the training data). Let's now evaluate the performance of our model using the test set."
      ]
    },
    {
      "cell_type": "code",
      "execution_count": 15,
      "metadata": {
        "id": "q-ZvJEcObdyB",
        "colab": {
          "base_uri": "https://localhost:8080/"
        },
        "outputId": "4b3cf5d0-0975-4546-ad43-ce570eb25b7f"
      },
      "outputs": [
        {
          "output_type": "stream",
          "name": "stdout",
          "text": [
            "238/238 [==============================] - 1s 2ms/step - loss: 0.4093 - accuracy: 0.8521\n"
          ]
        },
        {
          "output_type": "execute_result",
          "data": {
            "text/plain": [
              "[0.40926671028137207, 0.8521052598953247]"
            ]
          },
          "metadata": {},
          "execution_count": 15
        }
      ],
      "source": [
        "model.evaluate(X_test, y_test)"
      ]
    },
    {
      "cell_type": "markdown",
      "metadata": {
        "id": "KTSxlnwrII-n"
      },
      "source": [
        "[TO COMPLETE] Explain why it is important to use test and validation, and why it is important to evaluate the model on the test set instead of the validation set. Finally, explain what is the usefulness of the validation set. Insert the discussion in this cell.\n",
        "\n",
        "Training the model using only the training set could lead to overfitting: the loss on this set will be lower and lower with more training iteration, but the overall ability to generalize on other samples can be compromised by fact that the model fits the set \"too well\". Validation set is used in this case to provide brand new samples on which evaluate the model after the training phase and to provide a reference to calibrate (tune) the hyperparameters. Following the same reasoning, after training and validation phase, a fresh set of samples ( test set ) is used to make prediction and evaluate the final performance of the model.\n"
      ]
    },
    {
      "cell_type": "markdown",
      "metadata": {
        "id": "aeGlzKe864Gq"
      },
      "source": [
        "## [TO COMPLETE] Exercise 2.2: Overfiting\n",
        "\n",
        "A common problem that occurs when you train a deep neural network is overfittig. Overfitting occurs when you achieve a good fit of your model on the training data, while it does not generalize well on new, unseen data. In other words, the model learned patterns specific to the training data, which are irrelevant in other data.\n",
        "As we have seen in the previous exercise, our model does not overfit the training data. In this exercise, we try to modify the training parameters in order to have a model that overfits.\n",
        "Overfitting can have many causes and usually is a combination of some of them, for instance: too many parameters/ layers, too few training samples, wrong learning rate (usualy too high), etc..\n",
        "\n",
        "[TO COMPLETE] In the next cell define a new model (similar to the previuos one) that overfits the training data; then plot the trend of the loss in training and validation set."
      ]
    },
    {
      "cell_type": "code",
      "execution_count": 16,
      "metadata": {
        "id": "T2B2DFEC8f88",
        "colab": {
          "base_uri": "https://localhost:8080/"
        },
        "outputId": "5aeeeccb-fa0f-4a73-d84a-84da97b148ac"
      },
      "outputs": [
        {
          "output_type": "stream",
          "name": "stdout",
          "text": [
            "Epoch 1/20\n",
            "3375/3375 [==============================] - 8s 2ms/step - loss: 0.4742 - accuracy: 0.8221 - val_loss: 0.4211 - val_accuracy: 0.8487\n",
            "Epoch 2/20\n",
            "3375/3375 [==============================] - 8s 2ms/step - loss: 0.3970 - accuracy: 0.8545 - val_loss: 0.4048 - val_accuracy: 0.8528\n",
            "Epoch 3/20\n",
            "3375/3375 [==============================] - 8s 2ms/step - loss: 0.3767 - accuracy: 0.8621 - val_loss: 0.3945 - val_accuracy: 0.8587\n",
            "Epoch 4/20\n",
            "3375/3375 [==============================] - 7s 2ms/step - loss: 0.3609 - accuracy: 0.8670 - val_loss: 0.3973 - val_accuracy: 0.8577\n",
            "Epoch 5/20\n",
            "3375/3375 [==============================] - 8s 2ms/step - loss: 0.3475 - accuracy: 0.8731 - val_loss: 0.3920 - val_accuracy: 0.8608\n",
            "Epoch 6/20\n",
            "3375/3375 [==============================] - 8s 2ms/step - loss: 0.3359 - accuracy: 0.8767 - val_loss: 0.3975 - val_accuracy: 0.8587\n",
            "Epoch 7/20\n",
            "3375/3375 [==============================] - 8s 2ms/step - loss: 0.3259 - accuracy: 0.8805 - val_loss: 0.4203 - val_accuracy: 0.8487\n",
            "Epoch 8/20\n",
            "3375/3375 [==============================] - 8s 2ms/step - loss: 0.3175 - accuracy: 0.8840 - val_loss: 0.4014 - val_accuracy: 0.8578\n",
            "Epoch 9/20\n",
            "3375/3375 [==============================] - 7s 2ms/step - loss: 0.3100 - accuracy: 0.8865 - val_loss: 0.4214 - val_accuracy: 0.8528\n",
            "Epoch 10/20\n",
            "3375/3375 [==============================] - 7s 2ms/step - loss: 0.3039 - accuracy: 0.8890 - val_loss: 0.4211 - val_accuracy: 0.8543\n",
            "Epoch 11/20\n",
            "3375/3375 [==============================] - 7s 2ms/step - loss: 0.2980 - accuracy: 0.8918 - val_loss: 0.4174 - val_accuracy: 0.8546\n",
            "Epoch 12/20\n",
            "3375/3375 [==============================] - 7s 2ms/step - loss: 0.2925 - accuracy: 0.8936 - val_loss: 0.4253 - val_accuracy: 0.8542\n",
            "Epoch 13/20\n",
            "3375/3375 [==============================] - 8s 2ms/step - loss: 0.2877 - accuracy: 0.8955 - val_loss: 0.4359 - val_accuracy: 0.8525\n",
            "Epoch 14/20\n",
            "3375/3375 [==============================] - 8s 2ms/step - loss: 0.2820 - accuracy: 0.8976 - val_loss: 0.4390 - val_accuracy: 0.8495\n",
            "Epoch 15/20\n",
            "3375/3375 [==============================] - 8s 2ms/step - loss: 0.2786 - accuracy: 0.8994 - val_loss: 0.4454 - val_accuracy: 0.8505\n",
            "Epoch 16/20\n",
            "3375/3375 [==============================] - 8s 2ms/step - loss: 0.2751 - accuracy: 0.9012 - val_loss: 0.4440 - val_accuracy: 0.8503\n",
            "Epoch 17/20\n",
            "3375/3375 [==============================] - 7s 2ms/step - loss: 0.2708 - accuracy: 0.9021 - val_loss: 0.4569 - val_accuracy: 0.8504\n",
            "Epoch 18/20\n",
            "3375/3375 [==============================] - 7s 2ms/step - loss: 0.2673 - accuracy: 0.9033 - val_loss: 0.4550 - val_accuracy: 0.8487\n",
            "Epoch 19/20\n",
            "3375/3375 [==============================] - 7s 2ms/step - loss: 0.2643 - accuracy: 0.9054 - val_loss: 0.4596 - val_accuracy: 0.8497\n",
            "Epoch 20/20\n",
            "3375/3375 [==============================] - 7s 2ms/step - loss: 0.2613 - accuracy: 0.9057 - val_loss: 0.4630 - val_accuracy: 0.8461\n",
            "Model Evaluation\n",
            "238/238 [==============================] - 1s 2ms/step - loss: 0.4546 - accuracy: 0.8432\n"
          ]
        },
        {
          "output_type": "execute_result",
          "data": {
            "text/plain": [
              "[0.4546426832675934, 0.8431578874588013]"
            ]
          },
          "metadata": {},
          "execution_count": 16
        }
      ],
      "source": [
        "model = keras.models.Sequential()\n",
        "#[TO COMPLETE] modify the previuos model in order to obtain a new model that overfits the training data\n",
        "\n",
        "model.add(tf.keras.Input(shape=(num_words,)))\n",
        "model.add(keras.layers.Dense(16, activation=\"relu\"))\n",
        "model.add(keras.layers.Dense(32, activation=\"relu\"))\n",
        "model.add(keras.layers.Dense(32, activation=\"relu\"))\n",
        "model.add(keras.layers.Dense(16, activation=\"relu\"))\n",
        "model.add(keras.layers.Dense(4, activation=\"softmax\"))\n",
        "\n",
        "model.compile(loss=\"sparse_categorical_crossentropy\",\n",
        "              optimizer=keras.optimizers.Adam(learning_rate=1e-3),#[TO COMPLETE] learning rate\n",
        "              metrics=[\"accuracy\"])\n",
        "\n",
        "history = model.fit(X_train, y_train, epochs=20,#[TO COMPLETE] epochs\n",
        "                    validation_data=(X_valid, y_valid))\n",
        "\n",
        "print(\"Model Evaluation\")\n",
        "model.evaluate(X_test, y_test)"
      ]
    },
    {
      "cell_type": "markdown",
      "metadata": {
        "id": "MS0fujEqh_m3"
      },
      "source": [
        "Define the `plot_learning_curves` function that plots only the losses (not the accuracy)."
      ]
    },
    {
      "cell_type": "code",
      "execution_count": 17,
      "metadata": {
        "id": "q5EsklC0DZYH",
        "colab": {
          "base_uri": "https://localhost:8080/",
          "height": 336
        },
        "outputId": "1a88e656-fd80-421b-fe79-a1906d922fae"
      },
      "outputs": [
        {
          "output_type": "display_data",
          "data": {
            "text/plain": [
              "<Figure size 576x360 with 1 Axes>"
            ],
            "image/png": "[encoded data removed]"
          },
          "metadata": {
            "needs_background": "light"
          }
        }
      ],
      "source": [
        "def plot_learning_curves(history):\n",
        "    plt.figure(figsize=(8, 5))\n",
        "    plt.plot(history.epoch,history.history['loss'], label='train loss')\n",
        "    plt.plot(history.epoch,history.history['val_loss'], label='valid loss')\n",
        "    plt.legend()\n",
        "    plt.title('loss')\n",
        "    plt.grid(True)\n",
        "    plt.show()\n",
        "plot_learning_curves(history)"
      ]
    },
    {
      "cell_type": "markdown",
      "metadata": {
        "id": "OW4Kf4fgDfOs"
      },
      "source": [
        "### [TO COMPLETE] L1 norm\n",
        "\n",
        "One possible way to solve the overitting issue is by using regularization methods. The two most common regularization methods in Deep Learning are the L1-norm regularization and the L2-norm regularization. Both These techniques are based on limiting the capacity of models, by adding a parameter norm penalty to the objective function $\\mathcal{J}$:\n",
        "$$\n",
        "\\hat{\\mathcal{J}}(\\theta,\\mathbf{X},\\mathbf{y}) = \\mathcal{J}(\\theta,\\mathbf{X},\\mathbf{y}) + \\alpha \\Omega(\\theta)\n",
        "$$\n",
        "where $\\alpha$ is a hyperparameter that weighs the relative contribution of the norm penalty $\\Omega$.\n",
        "Lets start by considering the L1-norm regularization where the regularization term is defined as:\n",
        "$$\n",
        " \\Omega(\\theta)=||\\mathbf{W}||_1=\\sum_i |\\mathbf{w}|\n",
        "$$\n",
        "Let's find the values for the $\\alpha$ parameters that allow to remove the overfitting effect."
      ]
    },
    {
      "cell_type": "code",
      "execution_count": 18,
      "metadata": {
        "id": "QzD8520dDgw3",
        "colab": {
          "base_uri": "https://localhost:8080/",
          "height": 1000
        },
        "outputId": "aa40fe60-28b7-4af4-9899-fc26e8c3bfde"
      },
      "outputs": [
        {
          "output_type": "stream",
          "name": "stdout",
          "text": [
            "Epoch 1/20\n",
            "3375/3375 [==============================] - 9s 3ms/step - loss: 0.8536 - accuracy: 0.7740 - val_loss: 0.7331 - val_accuracy: 0.8215\n",
            "Epoch 2/20\n",
            "3375/3375 [==============================] - 8s 2ms/step - loss: 0.6965 - accuracy: 0.8268 - val_loss: 0.6813 - val_accuracy: 0.8311\n",
            "Epoch 3/20\n",
            "3375/3375 [==============================] - 8s 2ms/step - loss: 0.6663 - accuracy: 0.8298 - val_loss: 0.6626 - val_accuracy: 0.8295\n",
            "Epoch 4/20\n",
            "3375/3375 [==============================] - 8s 2ms/step - loss: 0.6491 - accuracy: 0.8315 - val_loss: 0.6550 - val_accuracy: 0.8278\n",
            "Epoch 5/20\n",
            "3375/3375 [==============================] - 8s 2ms/step - loss: 0.6383 - accuracy: 0.8328 - val_loss: 0.6455 - val_accuracy: 0.8306\n",
            "Epoch 6/20\n",
            "3375/3375 [==============================] - 8s 2ms/step - loss: 0.6279 - accuracy: 0.8348 - val_loss: 0.6283 - val_accuracy: 0.8382\n",
            "Epoch 7/20\n",
            "3375/3375 [==============================] - 8s 2ms/step - loss: 0.6159 - accuracy: 0.8396 - val_loss: 0.6209 - val_accuracy: 0.8377\n",
            "Epoch 8/20\n",
            "3375/3375 [==============================] - 8s 2ms/step - loss: 0.6019 - accuracy: 0.8425 - val_loss: 0.6031 - val_accuracy: 0.8433\n",
            "Epoch 9/20\n",
            "3375/3375 [==============================] - 8s 2ms/step - loss: 0.5926 - accuracy: 0.8443 - val_loss: 0.6000 - val_accuracy: 0.8417\n",
            "Epoch 10/20\n",
            "3375/3375 [==============================] - 8s 2ms/step - loss: 0.5880 - accuracy: 0.8436 - val_loss: 0.5979 - val_accuracy: 0.8428\n",
            "Epoch 11/20\n",
            "3375/3375 [==============================] - 8s 2ms/step - loss: 0.5845 - accuracy: 0.8437 - val_loss: 0.5898 - val_accuracy: 0.8405\n",
            "Epoch 12/20\n",
            "3375/3375 [==============================] - 8s 2ms/step - loss: 0.5817 - accuracy: 0.8438 - val_loss: 0.5839 - val_accuracy: 0.8437\n",
            "Epoch 13/20\n",
            "3375/3375 [==============================] - 8s 2ms/step - loss: 0.5802 - accuracy: 0.8435 - val_loss: 0.5793 - val_accuracy: 0.8432\n",
            "Epoch 14/20\n",
            "3375/3375 [==============================] - 8s 2ms/step - loss: 0.5776 - accuracy: 0.8441 - val_loss: 0.5904 - val_accuracy: 0.8389\n",
            "Epoch 15/20\n",
            "3375/3375 [==============================] - 8s 2ms/step - loss: 0.5761 - accuracy: 0.8431 - val_loss: 0.5792 - val_accuracy: 0.8405\n",
            "Epoch 16/20\n",
            "3375/3375 [==============================] - 8s 2ms/step - loss: 0.5743 - accuracy: 0.8439 - val_loss: 0.5787 - val_accuracy: 0.8405\n",
            "Epoch 17/20\n",
            "3375/3375 [==============================] - 8s 2ms/step - loss: 0.5724 - accuracy: 0.8440 - val_loss: 0.5756 - val_accuracy: 0.8469\n",
            "Epoch 18/20\n",
            "3375/3375 [==============================] - 8s 2ms/step - loss: 0.5711 - accuracy: 0.8443 - val_loss: 0.5752 - val_accuracy: 0.8413\n",
            "Epoch 19/20\n",
            "3375/3375 [==============================] - 8s 2ms/step - loss: 0.5700 - accuracy: 0.8434 - val_loss: 0.5713 - val_accuracy: 0.8461\n",
            "Epoch 20/20\n",
            "3375/3375 [==============================] - 8s 2ms/step - loss: 0.5689 - accuracy: 0.8433 - val_loss: 0.5803 - val_accuracy: 0.8433\n",
            "Model Evaluation\n",
            "238/238 [==============================] - 1s 2ms/step - loss: 0.5913 - accuracy: 0.8354\n"
          ]
        },
        {
          "output_type": "display_data",
          "data": {
            "text/plain": [
              "<Figure size 576x360 with 1 Axes>"
            ],
            "image/png": "[encoded data removed]"
          },
          "metadata": {
            "needs_background": "light"
          }
        }
      ],
      "source": [
        "#In Keras is neccesary to add the regularizer by using the attribute kernel_regularizer\n",
        "#to each layer whose weights will be considered in the Omega function.\n",
        "#is it also possibile to consider the bias by using the attribute bias_regularizer \n",
        "#tf.keras.regularizers.l1(alpha) perfroms the L1-norm regularization\n",
        "\n",
        "#[TO COMPLETE] copy the model that you previously defined that overfits the \n",
        "#training data, and add the L1-norm regularization. Use a proper value for the\n",
        "#alpha hyper-parameter, that prevents the model from overfitting. The results  \n",
        "#reached by the model in terms of loss and accuracy (in all data sets) should be\n",
        "#comparable with the ones obtained by the initial model defined in Exercise 2.1 \n",
        "\n",
        "#In general, a layer that exploits L1-norm regularization is defined as follows:\n",
        "\n",
        "#model.add(keras.layers.Dense(units=[TO COMPLETE], activation=[TO COMPLETE], kernel_regularizer=tf.keras.regularizers.l1([TO COMPLETE]))) \n",
        "\n",
        "model = keras.models.Sequential()\n",
        "#[TO COMPLETE]\n",
        "alpha = 1e-3\n",
        "model.add(tf.keras.Input(shape=(num_words,)))\n",
        "model.add(keras.layers.Dense(16, activation=\"relu\", kernel_regularizer=tf.keras.regularizers.l1(alpha)))\n",
        "model.add(keras.layers.Dense(32, activation=\"relu\", kernel_regularizer=tf.keras.regularizers.l1(alpha)))\n",
        "model.add(keras.layers.Dense(32, activation=\"relu\", kernel_regularizer=tf.keras.regularizers.l1(alpha)))\n",
        "model.add(keras.layers.Dense(16, activation=\"relu\", kernel_regularizer=tf.keras.regularizers.l1(alpha)))\n",
        "model.add(keras.layers.Dense(4, activation=\"softmax\", kernel_regularizer=tf.keras.regularizers.l1(alpha)))\n",
        "\n",
        "\n",
        "model.compile(loss=\"sparse_categorical_crossentropy\",\n",
        "              optimizer=keras.optimizers.Adam(learning_rate=1e-3),#[TO COMPLETE] learning rate\n",
        "              metrics=[\"accuracy\"])\n",
        "\n",
        "history = model.fit(X_train, y_train, epochs=20,#[TO COMPLETE] epochs\n",
        "                    validation_data=(X_valid, y_valid))\n",
        "\n",
        "print(\"Model Evaluation\")\n",
        "model.evaluate(X_test, y_test)\n",
        "plot_learning_curves(history)"
      ]
    },
    {
      "cell_type": "markdown",
      "metadata": {
        "id": "CgnCGYUvDqbC"
      },
      "source": [
        "### [TO COMPLETE] L2-norm\n",
        "\n",
        "L2-norm regularization is also known as weight decay. This strategy drives the weights closer to the origin by adding the regularization term omega which is defined as:\n",
        "$$\n",
        " \\Omega(\\theta)=\\frac{1}{2}||\\mathbf{W}||_2^2\n",
        "$$\n",
        "\n",
        "Let's find the values for the $\\alpha$ parameters that allow removing remove the overfitting effect with L2-norm."
      ]
    },
    {
      "cell_type": "code",
      "execution_count": 19,
      "metadata": {
        "id": "qqNhu350DtJo",
        "colab": {
          "base_uri": "https://localhost:8080/",
          "height": 1000
        },
        "outputId": "0ea0ceeb-05e5-4a0d-bee9-268d2b0e5746"
      },
      "outputs": [
        {
          "output_type": "stream",
          "name": "stdout",
          "text": [
            "Epoch 1/20\n",
            "3375/3375 [==============================] - 8s 2ms/step - loss: 0.5765 - accuracy: 0.8221 - val_loss: 0.5320 - val_accuracy: 0.8423\n",
            "Epoch 2/20\n",
            "3375/3375 [==============================] - 8s 2ms/step - loss: 0.5090 - accuracy: 0.8462 - val_loss: 0.5043 - val_accuracy: 0.8474\n",
            "Epoch 3/20\n",
            "3375/3375 [==============================] - 8s 2ms/step - loss: 0.4956 - accuracy: 0.8499 - val_loss: 0.5007 - val_accuracy: 0.8478\n",
            "Epoch 4/20\n",
            "3375/3375 [==============================] - 8s 2ms/step - loss: 0.4891 - accuracy: 0.8516 - val_loss: 0.5010 - val_accuracy: 0.8469\n",
            "Epoch 5/20\n",
            "3375/3375 [==============================] - 8s 2ms/step - loss: 0.4836 - accuracy: 0.8545 - val_loss: 0.4998 - val_accuracy: 0.8496\n",
            "Epoch 6/20\n",
            "3375/3375 [==============================] - 8s 2ms/step - loss: 0.4799 - accuracy: 0.8561 - val_loss: 0.4936 - val_accuracy: 0.8503\n",
            "Epoch 7/20\n",
            "3375/3375 [==============================] - 8s 2ms/step - loss: 0.4766 - accuracy: 0.8574 - val_loss: 0.5061 - val_accuracy: 0.8479\n",
            "Epoch 8/20\n",
            "3375/3375 [==============================] - 8s 2ms/step - loss: 0.4751 - accuracy: 0.8582 - val_loss: 0.4937 - val_accuracy: 0.8518\n",
            "Epoch 9/20\n",
            "3375/3375 [==============================] - 8s 2ms/step - loss: 0.4732 - accuracy: 0.8598 - val_loss: 0.4958 - val_accuracy: 0.8529\n",
            "Epoch 10/20\n",
            "3375/3375 [==============================] - 8s 2ms/step - loss: 0.4726 - accuracy: 0.8597 - val_loss: 0.5011 - val_accuracy: 0.8488\n",
            "Epoch 11/20\n",
            "3375/3375 [==============================] - 8s 2ms/step - loss: 0.4719 - accuracy: 0.8599 - val_loss: 0.4915 - val_accuracy: 0.8512\n",
            "Epoch 12/20\n",
            "3375/3375 [==============================] - 8s 2ms/step - loss: 0.4710 - accuracy: 0.8602 - val_loss: 0.4901 - val_accuracy: 0.8533\n",
            "Epoch 13/20\n",
            "3375/3375 [==============================] - 7s 2ms/step - loss: 0.4707 - accuracy: 0.8605 - val_loss: 0.4867 - val_accuracy: 0.8546\n",
            "Epoch 14/20\n",
            "3375/3375 [==============================] - 8s 2ms/step - loss: 0.4687 - accuracy: 0.8614 - val_loss: 0.4980 - val_accuracy: 0.8494\n",
            "Epoch 15/20\n",
            "3375/3375 [==============================] - 8s 2ms/step - loss: 0.4685 - accuracy: 0.8621 - val_loss: 0.4918 - val_accuracy: 0.8535\n",
            "Epoch 16/20\n",
            "3375/3375 [==============================] - 8s 2ms/step - loss: 0.4677 - accuracy: 0.8627 - val_loss: 0.4886 - val_accuracy: 0.8542\n",
            "Epoch 17/20\n",
            "3375/3375 [==============================] - 8s 2ms/step - loss: 0.4679 - accuracy: 0.8616 - val_loss: 0.4863 - val_accuracy: 0.8568\n",
            "Epoch 18/20\n",
            "3375/3375 [==============================] - 8s 2ms/step - loss: 0.4671 - accuracy: 0.8617 - val_loss: 0.4878 - val_accuracy: 0.8526\n",
            "Epoch 19/20\n",
            "3375/3375 [==============================] - 8s 2ms/step - loss: 0.4671 - accuracy: 0.8618 - val_loss: 0.4844 - val_accuracy: 0.8560\n",
            "Epoch 20/20\n",
            "3375/3375 [==============================] - 8s 2ms/step - loss: 0.4659 - accuracy: 0.8629 - val_loss: 0.4990 - val_accuracy: 0.8489\n",
            "Model Evaluation\n",
            "238/238 [==============================] - 1s 2ms/step - loss: 0.5078 - accuracy: 0.8462\n"
          ]
        },
        {
          "output_type": "display_data",
          "data": {
            "text/plain": [
              "<Figure size 576x360 with 1 Axes>"
            ],
            "image/png": "[encoded data removed]"
          },
          "metadata": {
            "needs_background": "light"
          }
        }
      ],
      "source": [
        "#[TO COMPLETE] insert the model that you previously defined that overfit the \n",
        "#trainig data, and add the L2-norm regularization. Use proper values for the\n",
        "#alpha hyper-parameters, that prevents the model from overfitting. The results  \n",
        "#reached by the model in terms of loss and accuracy (in all data sets) should be\n",
        "#comparable with the ones obtained by the initial model defined in Exercise 2.1\n",
        "\n",
        "#In general, a layer that exploits L2-norm regularization is defined as follow:\n",
        "\n",
        "#model.add(keras.layers.Dense(units=[TO COMPLETE], activation=[TO COMPLETE],kernel_regularizer=tf.keras.regularizers.l2([TO COMPLETE]))) \n",
        "\n",
        "model = keras.models.Sequential()\n",
        "#[TO COMPLETE]\n",
        "alpha = 1e-3\n",
        "model.add(tf.keras.Input(shape=(num_words,)))\n",
        "model.add(keras.layers.Dense(16, activation=\"relu\", kernel_regularizer=tf.keras.regularizers.l2(alpha)))\n",
        "model.add(keras.layers.Dense(32, activation=\"relu\", kernel_regularizer=tf.keras.regularizers.l2(alpha)))\n",
        "model.add(keras.layers.Dense(32, activation=\"relu\", kernel_regularizer=tf.keras.regularizers.l2(alpha)))\n",
        "model.add(keras.layers.Dense(16, activation=\"relu\", kernel_regularizer=tf.keras.regularizers.l2(alpha)))\n",
        "model.add(keras.layers.Dense(4, activation=\"softmax\", kernel_regularizer=tf.keras.regularizers.l2(alpha)))\n",
        "\n",
        "\n",
        "model.compile(loss=\"sparse_categorical_crossentropy\",\n",
        "              optimizer=keras.optimizers.Adam(learning_rate=1e-3),#[TO COMPLETE] learning rate\n",
        "              metrics=[\"accuracy\"])\n",
        "\n",
        "history = model.fit(X_train, y_train, epochs=20,#[TO COMPLETE] epochs\n",
        "                    validation_data=(X_valid, y_valid))\n",
        "\n",
        "print(\"Model Evaluation\")\n",
        "model.evaluate(X_test, y_test)\n",
        "plot_learning_curves(history)"
      ]
    },
    {
      "cell_type": "markdown",
      "metadata": {
        "id": "xvyKPb4DD25G"
      },
      "source": [
        "###[TO COMPLETE] Early stopping\n",
        "\n",
        "Early Stopping is a form of regularization used to avoid overfitting. It is designed to monitor the generalization error of one model and stop training when generalization error begins to degrade. In order to evaluate the generalization error, early stopping requires that a validation dataset is evaluated during training. Then, when the validation error does not improve for a specific number of epochs (`patience` hyper-parameter), it stops the training phase."
      ]
    },
    {
      "cell_type": "code",
      "execution_count": 20,
      "metadata": {
        "id": "MqNOOZ11D7cq",
        "colab": {
          "base_uri": "https://localhost:8080/",
          "height": 738
        },
        "outputId": "a92193cf-8d18-4fc4-a68b-3937dd713057"
      },
      "outputs": [
        {
          "output_type": "stream",
          "name": "stdout",
          "text": [
            "Epoch 1/20\n",
            "3375/3375 [==============================] - 8s 2ms/step - loss: 0.4805 - accuracy: 0.8230 - val_loss: 0.4245 - val_accuracy: 0.8492\n",
            "Epoch 2/20\n",
            "3375/3375 [==============================] - 7s 2ms/step - loss: 0.3987 - accuracy: 0.8554 - val_loss: 0.4021 - val_accuracy: 0.8546\n",
            "Epoch 3/20\n",
            "3375/3375 [==============================] - 7s 2ms/step - loss: 0.3762 - accuracy: 0.8633 - val_loss: 0.3949 - val_accuracy: 0.8572\n",
            "Epoch 4/20\n",
            "3375/3375 [==============================] - 8s 2ms/step - loss: 0.3598 - accuracy: 0.8680 - val_loss: 0.4020 - val_accuracy: 0.8543\n",
            "Epoch 5/20\n",
            "3375/3375 [==============================] - 8s 2ms/step - loss: 0.3471 - accuracy: 0.8736 - val_loss: 0.3937 - val_accuracy: 0.8592\n",
            "Epoch 6/20\n",
            "3375/3375 [==============================] - 7s 2ms/step - loss: 0.3356 - accuracy: 0.8778 - val_loss: 0.4025 - val_accuracy: 0.8575\n",
            "Epoch 7/20\n",
            "3375/3375 [==============================] - 7s 2ms/step - loss: 0.3266 - accuracy: 0.8811 - val_loss: 0.4102 - val_accuracy: 0.8542\n",
            "Epoch 8/20\n",
            "3375/3375 [==============================] - 7s 2ms/step - loss: 0.3179 - accuracy: 0.8846 - val_loss: 0.4018 - val_accuracy: 0.8573\n",
            "Epoch 9/20\n",
            "3375/3375 [==============================] - 7s 2ms/step - loss: 0.3106 - accuracy: 0.8878 - val_loss: 0.4076 - val_accuracy: 0.8547\n",
            "Epoch 10/20\n",
            "3375/3375 [==============================] - 7s 2ms/step - loss: 0.3047 - accuracy: 0.8891 - val_loss: 0.4186 - val_accuracy: 0.8528\n",
            "Model Evaluation\n",
            "238/238 [==============================] - 0s 1ms/step - loss: 0.4034 - accuracy: 0.8541\n"
          ]
        },
        {
          "output_type": "display_data",
          "data": {
            "text/plain": [
              "<Figure size 576x360 with 1 Axes>"
            ],
            "image/png": "[encoded data removed]"
          },
          "metadata": {
            "needs_background": "light"
          }
        }
      ],
      "source": [
        "#[TO COMPLETE] insert the model that you previously defined that overfit the \n",
        "#trainnig data\n",
        "model = keras.models.Sequential()\n",
        "\n",
        "model.add(tf.keras.Input(shape=(num_words,)))\n",
        "model.add(keras.layers.Dense(16, activation=\"relu\"))\n",
        "model.add(keras.layers.Dense(32, activation=\"relu\"))\n",
        "model.add(keras.layers.Dense(32, activation=\"relu\"))\n",
        "model.add(keras.layers.Dense(16, activation=\"relu\"))\n",
        "model.add(keras.layers.Dense(4, activation=\"softmax\"))\n",
        "\n",
        "\n",
        "model.compile(loss=\"sparse_categorical_crossentropy\",\n",
        "              optimizer=keras.optimizers.Adam(learning_rate=1e-3),#[TO COMPLETE] learning rate\n",
        "\n",
        "              metrics=[\"accuracy\"])\n",
        "\n",
        "#Let's define a log dir in order to save the checkpoint file\n",
        "logdir = os.path.join(os.curdir, \"my_logs\", \"run_{}\".format(time.time()))\n",
        "\n",
        "#In Keras the early stopping is manage by using the callbacks argument.\n",
        "callbacks = [\n",
        "    keras.callbacks.TensorBoard(logdir),\n",
        "    keras.callbacks.EarlyStopping(patience=5),#[TO COMPLETE] play with patience and find the value that prevents the model from overfitting.\n",
        "\n",
        "\n",
        "    #Saving the checkpoints file allows to load the \"best\" model when the Early \n",
        "    #stopping detect that the generalization error degrade (after 'patience' epochs)\n",
        "    keras.callbacks.ModelCheckpoint(\"my_mnist_model.h5\", save_best_only=True),\n",
        "]\n",
        "\n",
        "history = model.fit(X_train, y_train, epochs=20,#[TO COMPLETE] epochs\n",
        "                    validation_data=(X_valid, y_valid),\n",
        "                    callbacks=callbacks)\n",
        "\n",
        "print(\"Model Evaluation\")\n",
        "#The early stopping stopped training after few epochs without progress, so your\n",
        "#model may already have started to overfit the training set. Since the \n",
        "#ModelCheckpoint callback only saved the best models (on the validation set) the\n",
        "#last saved model is the best on the validation set.\n",
        "model = keras.models.load_model(\"my_mnist_model.h5\")\n",
        "model.evaluate(X_test, y_test)\n",
        "plot_learning_curves(history)"
      ]
    },
    {
      "cell_type": "markdown",
      "metadata": {
        "id": "DCV8pwVzl9GK"
      },
      "source": [
        "\n",
        "## Exercise 2.3: Model Selection\n",
        "\n",
        "Hyperparameters are the parameters of the learning method itself which we have to specify a priori, i.e., before model fitting. In contrast, model parameters are parameters which arise as a result of the fit (the network weights). The aim of model selection is selecting the best hyperparameters for our deep network. Finding the right hyperparameters for a model can be crucial for the model performance on given data. For istance lets consider our model trained by using different values for the learning rate: "
      ]
    },
    {
      "cell_type": "code",
      "execution_count": 21,
      "metadata": {
        "id": "Fw8Hs-AEmLKh"
      },
      "outputs": [],
      "source": [
        "learning_rates = [1e-4, 1e-2, 1e-1]"
      ]
    },
    {
      "cell_type": "code",
      "execution_count": 22,
      "metadata": {
        "id": "mym4GOgUmWqD",
        "colab": {
          "base_uri": "https://localhost:8080/"
        },
        "outputId": "5194e983-353e-4e53-b8ea-ad1dd2109656"
      },
      "outputs": [
        {
          "output_type": "stream",
          "name": "stdout",
          "text": [
            "Epoch 1/10\n",
            "3375/3375 [==============================] - 7s 2ms/step - loss: 0.8283 - accuracy: 0.6949 - val_loss: 0.5060 - val_accuracy: 0.8302\n",
            "Epoch 2/10\n",
            "3375/3375 [==============================] - 7s 2ms/step - loss: 0.4555 - accuracy: 0.8432 - val_loss: 0.4428 - val_accuracy: 0.8478\n",
            "Epoch 3/10\n",
            "3375/3375 [==============================] - 7s 2ms/step - loss: 0.4191 - accuracy: 0.8530 - val_loss: 0.4279 - val_accuracy: 0.8505\n",
            "Epoch 4/10\n",
            "3375/3375 [==============================] - 7s 2ms/step - loss: 0.4051 - accuracy: 0.8570 - val_loss: 0.4195 - val_accuracy: 0.8513\n",
            "Epoch 5/10\n",
            "3375/3375 [==============================] - 7s 2ms/step - loss: 0.3973 - accuracy: 0.8588 - val_loss: 0.4161 - val_accuracy: 0.8533\n",
            "Epoch 6/10\n",
            "3375/3375 [==============================] - 7s 2ms/step - loss: 0.3922 - accuracy: 0.8598 - val_loss: 0.4135 - val_accuracy: 0.8520\n",
            "Epoch 7/10\n",
            "3375/3375 [==============================] - 7s 2ms/step - loss: 0.3884 - accuracy: 0.8610 - val_loss: 0.4114 - val_accuracy: 0.8541\n",
            "Epoch 8/10\n",
            "3375/3375 [==============================] - 7s 2ms/step - loss: 0.3853 - accuracy: 0.8618 - val_loss: 0.4101 - val_accuracy: 0.8547\n",
            "Epoch 9/10\n",
            "3375/3375 [==============================] - 6s 2ms/step - loss: 0.3827 - accuracy: 0.8622 - val_loss: 0.4082 - val_accuracy: 0.8546\n",
            "Epoch 10/10\n",
            "3375/3375 [==============================] - 7s 2ms/step - loss: 0.3806 - accuracy: 0.8624 - val_loss: 0.4078 - val_accuracy: 0.8549\n",
            "evaluation on test set\n",
            "238/238 [==============================] - 1s 2ms/step - loss: 0.4173 - accuracy: 0.8463\n",
            "Epoch 1/10\n",
            "3375/3375 [==============================] - 7s 2ms/step - loss: 0.4641 - accuracy: 0.8316 - val_loss: 0.4336 - val_accuracy: 0.8459\n",
            "Epoch 2/10\n",
            "3375/3375 [==============================] - 7s 2ms/step - loss: 0.4093 - accuracy: 0.8508 - val_loss: 0.4217 - val_accuracy: 0.8490\n",
            "Epoch 3/10\n",
            "3375/3375 [==============================] - 6s 2ms/step - loss: 0.3893 - accuracy: 0.8591 - val_loss: 0.4179 - val_accuracy: 0.8549\n",
            "Epoch 4/10\n",
            "3375/3375 [==============================] - 7s 2ms/step - loss: 0.3744 - accuracy: 0.8642 - val_loss: 0.4203 - val_accuracy: 0.8502\n",
            "Epoch 5/10\n",
            "3375/3375 [==============================] - 7s 2ms/step - loss: 0.3628 - accuracy: 0.8692 - val_loss: 0.4482 - val_accuracy: 0.8402\n",
            "evaluation on test set\n",
            "238/238 [==============================] - 1s 2ms/step - loss: 0.4564 - accuracy: 0.8371\n",
            "Epoch 1/10\n",
            "3375/3375 [==============================] - 7s 2ms/step - loss: 0.6753 - accuracy: 0.7723 - val_loss: 0.7392 - val_accuracy: 0.7669\n",
            "Epoch 2/10\n",
            "3375/3375 [==============================] - 7s 2ms/step - loss: 0.6970 - accuracy: 0.7739 - val_loss: 0.6227 - val_accuracy: 0.8053\n",
            "Epoch 3/10\n",
            "3375/3375 [==============================] - 7s 2ms/step - loss: 0.6794 - accuracy: 0.7798 - val_loss: 0.7389 - val_accuracy: 0.7679\n",
            "Epoch 4/10\n",
            "3375/3375 [==============================] - 7s 2ms/step - loss: 0.6942 - accuracy: 0.7716 - val_loss: 0.9302 - val_accuracy: 0.5927\n",
            "evaluation on test set\n",
            "238/238 [==============================] - 1s 2ms/step - loss: 0.9265 - accuracy: 0.5793\n"
          ]
        }
      ],
      "source": [
        "histories = []\n",
        "for learning_rate in learning_rates:\n",
        "    model = keras.models.Sequential([\n",
        "                                    tf.keras.Input(shape=(num_words,)),\n",
        "                                    keras.layers.Dense(16, activation=\"relu\"),\n",
        "                                    keras.layers.Dense(16, activation=\"relu\"),\n",
        "                                    keras.layers.Dense(4, activation=\"softmax\")\n",
        "                                     ])\n",
        "    model.compile(loss=\"sparse_categorical_crossentropy\",\n",
        "              optimizer=keras.optimizers.Adam(learning_rate=learning_rate),\n",
        "              metrics=[\"accuracy\"])\n",
        "              \n",
        "    callbacks = [keras.callbacks.EarlyStopping(patience=2)]\n",
        "\n",
        "    history = model.fit(X_train, y_train,\n",
        "                        validation_data=(X_valid, y_valid), epochs=10,\n",
        "                        callbacks=callbacks)\n",
        "    histories.append(history)\n",
        "    print(\"evaluation on test set\")\n",
        "    model.evaluate(X_test, y_test)"
      ]
    },
    {
      "cell_type": "markdown",
      "metadata": {
        "id": "RzTSjfwptkHJ"
      },
      "source": [
        "Let's plot the results"
      ]
    },
    {
      "cell_type": "code",
      "execution_count": 23,
      "metadata": {
        "id": "cIlN1vlioIYh",
        "colab": {
          "base_uri": "https://localhost:8080/",
          "height": 978
        },
        "outputId": "e6bfbca4-958c-44b4-f52b-ee0838f6cae9"
      },
      "outputs": [
        {
          "output_type": "stream",
          "name": "stdout",
          "text": [
            "Learning rate: 0.0001\n"
          ]
        },
        {
          "output_type": "display_data",
          "data": {
            "text/plain": [
              "<Figure size 576x360 with 1 Axes>"
            ],
            "image/png": "[encoded data removed]"
          },
          "metadata": {
            "needs_background": "light"
          }
        },
        {
          "output_type": "stream",
          "name": "stdout",
          "text": [
            "Learning rate: 0.01\n"
          ]
        },
        {
          "output_type": "display_data",
          "data": {
            "text/plain": [
              "<Figure size 576x360 with 1 Axes>"
            ],
            "image/png": "[encoded data removed]"
          },
          "metadata": {
            "needs_background": "light"
          }
        },
        {
          "output_type": "stream",
          "name": "stdout",
          "text": [
            "Learning rate: 0.1\n"
          ]
        },
        {
          "output_type": "display_data",
          "data": {
            "text/plain": [
              "<Figure size 576x360 with 1 Axes>"
            ],
            "image/png": "[encoded data removed]"
          },
          "metadata": {
            "needs_background": "light"
          }
        }
      ],
      "source": [
        "for learning_rate, history in zip(learning_rates, histories):\n",
        "    print(\"Learning rate:\", learning_rate)\n",
        "    plot_learning_acc_and_loss(history)"
      ]
    },
    {
      "cell_type": "markdown",
      "metadata": {
        "id": "_JntujSWq3e5"
      },
      "source": [
        "### [TO COMPLETE] GRID Search:\n",
        "\n",
        "Since a deep net has many hyperparameters, in order to find the best ones, we have to consider all the possible combinations of all of the possible values. One common method to perform this complex task is Grid-Search.\n",
        "Given a set of values for each hyper-parameter, Grid-Search will build a model on each parameter combination possible. It iterates through every parameter combination and stores a model for each combination. Finally, the model that obtained the best result on the validation set will be select.\n",
        "\n",
        "In order to perfrom Grid-Search we will use the `GridSearchCV` class from `scikit-learn`."
      ]
    },
    {
      "cell_type": "markdown",
      "metadata": {
        "id": "CPz629YSrDhN"
      },
      "source": [
        "Let's Create a `build_model()` function that takes two arguments, `n_neurons` and `learning_rate`, and builds, compiles and returns a model with the given number of of neurons and the given learning rate.\n",
        "In order to limit the time requirements of the process we will consider only these two hyper-paramters.\n",
        "\n",
        "[TO COMPLETE] in the following code cell define the `build_model` function."
      ]
    },
    {
      "cell_type": "code",
      "execution_count": 24,
      "metadata": {
        "id": "oGSKWTTtqxZ4",
        "colab": {
          "base_uri": "https://localhost:8080/"
        },
        "outputId": "36f96232-c53b-41ba-abf7-7065041eb3a4"
      },
      "outputs": [
        {
          "output_type": "stream",
          "name": "stderr",
          "text": [
            "/usr/local/lib/python3.7/dist-packages/ipykernel_launcher.py:26: DeprecationWarning: KerasRegressor is deprecated, use Sci-Keras (https://github.com/adriangb/scikeras) instead. See https://www.adriangb.com/scikeras/stable/migration.html for help migrating.\n"
          ]
        }
      ],
      "source": [
        "def build_model(n_units=30, learning_rate=1e-3):\n",
        "    # The function has to build a model similar to the ones we used in previuous execises:\n",
        "    #- a input layer \n",
        "    #- one or two Dense layers composed of n_units and that exploit Relu activation function \n",
        "    #- the output layer that uses the sigmoid activation function\n",
        "    # Then, the model has to be compiled.\n",
        "    model = keras.models.Sequential([\n",
        "                                    #[TO COMPLETE]\n",
        "                                    tf.keras.Input(shape=(num_words,)),\n",
        "                                    keras.layers.Dense(n_units, activation=\"relu\"),\n",
        "                                    keras.layers.Dense(n_units, activation=\"relu\"),\n",
        "                                    keras.layers.Dense(4, activation=\"softmax\")\n",
        "                                     ])\n",
        "    \n",
        "    # [TO COMPLETE] Then, the model has to be compiled.\n",
        "\n",
        "    model.compile(loss=\"sparse_categorical_crossentropy\",\n",
        "              optimizer=keras.optimizers.Adam(learning_rate=learning_rate),\n",
        "              metrics=[\"accuracy\"])\n",
        "    \n",
        "    return model\n",
        "\n",
        "    \n",
        "#Create a keras.wrappers.scikit_learn.KerasRegressor and pass the build_model \n",
        "#function to the constructor. This gives you a Scikit-Learn compatible predictor\n",
        "keras_reg = keras.wrappers.scikit_learn.KerasRegressor(build_model)"
      ]
    },
    {
      "cell_type": "markdown",
      "metadata": {
        "id": "PS6W3A2LxDg5"
      },
      "source": [
        "Let's define the lists of hyper-parameters' values. Also in this case, we use a very limited size lists, but in a real-world scenario a reasonable amount of possible values should be considered (try to add some values and check how much the time required to perform the Grid-Search increases)"
      ]
    },
    {
      "cell_type": "code",
      "execution_count": 25,
      "metadata": {
        "id": "y-uldCW3ru24"
      },
      "outputs": [],
      "source": [
        "param_distribs = {\n",
        "    \"n_units\": [10,20,30],# [TO COMPLETE] insert a list that contains few (2 or 3) reasonable value\n",
        "    \"learning_rate\": [1e-2, 1e-3, 1e-4] #[TO COMPLETE] insert a list that contains few (2 or 3) reasonable values\n",
        "    #Check how the time required to perform GRID search increases when increasing the number of values for each hyper-parameter.\n",
        "}"
      ]
    },
    {
      "cell_type": "markdown",
      "metadata": {
        "id": "bEiBxVYtx_sK"
      },
      "source": [
        "Use a `sklearn.model_selection.GridSearchCV` to search the hyperparameter space of your `KerasRegressor`"
      ]
    },
    {
      "cell_type": "code",
      "execution_count": 26,
      "metadata": {
        "id": "iobF2Bvdr9ER"
      },
      "outputs": [],
      "source": [
        "from sklearn.model_selection import GridSearchCV\n",
        "\n",
        "grid_search = GridSearchCV(keras_reg, param_distribs)"
      ]
    },
    {
      "cell_type": "markdown",
      "metadata": {
        "id": "LVGMcZz_yKSX"
      },
      "source": [
        "Run the Grid-Search"
      ]
    },
    {
      "cell_type": "code",
      "execution_count": 27,
      "metadata": {
        "id": "-BA3vgTjr-hw",
        "colab": {
          "base_uri": "https://localhost:8080/"
        },
        "outputId": "54edcd26-120e-4f9e-87b8-b24809f0ea4e"
      },
      "outputs": [
        {
          "output_type": "stream",
          "name": "stdout",
          "text": [
            "Epoch 1/5\n",
            "2700/2700 [==============================] - 6s 2ms/step - loss: 0.4772 - accuracy: 0.8263 - val_loss: 0.4496 - val_accuracy: 0.8378\n",
            "Epoch 2/5\n",
            "2700/2700 [==============================] - 5s 2ms/step - loss: 0.4170 - accuracy: 0.8490 - val_loss: 0.4297 - val_accuracy: 0.8486\n",
            "Epoch 3/5\n",
            "2700/2700 [==============================] - 5s 2ms/step - loss: 0.3993 - accuracy: 0.8549 - val_loss: 0.4383 - val_accuracy: 0.8474\n",
            "Epoch 4/5\n",
            "2700/2700 [==============================] - 5s 2ms/step - loss: 0.3872 - accuracy: 0.8597 - val_loss: 0.4334 - val_accuracy: 0.8468\n",
            "Epoch 5/5\n",
            "2700/2700 [==============================] - 5s 2ms/step - loss: 0.3778 - accuracy: 0.8630 - val_loss: 0.4362 - val_accuracy: 0.8488\n",
            "675/675 [==============================] - 1s 1ms/step - loss: 0.4207 - accuracy: 0.8514\n",
            "Epoch 1/5\n",
            "2700/2700 [==============================] - 6s 2ms/step - loss: 0.4732 - accuracy: 0.8291 - val_loss: 0.4406 - val_accuracy: 0.8417\n",
            "Epoch 2/5\n",
            "2700/2700 [==============================] - 6s 2ms/step - loss: 0.4172 - accuracy: 0.8485 - val_loss: 0.4364 - val_accuracy: 0.8474\n",
            "Epoch 3/5\n",
            "2700/2700 [==============================] - 5s 2ms/step - loss: 0.4005 - accuracy: 0.8539 - val_loss: 0.4296 - val_accuracy: 0.8491\n",
            "Epoch 4/5\n",
            "2700/2700 [==============================] - 6s 2ms/step - loss: 0.3890 - accuracy: 0.8586 - val_loss: 0.4228 - val_accuracy: 0.8528\n",
            "Epoch 5/5\n",
            "2700/2700 [==============================] - 6s 2ms/step - loss: 0.3778 - accuracy: 0.8624 - val_loss: 0.4335 - val_accuracy: 0.8478\n",
            "675/675 [==============================] - 1s 1ms/step - loss: 0.4335 - accuracy: 0.8409\n",
            "Epoch 1/5\n",
            "2700/2700 [==============================] - 6s 2ms/step - loss: 0.4708 - accuracy: 0.8312 - val_loss: 0.4426 - val_accuracy: 0.8417\n",
            "Epoch 2/5\n",
            "2700/2700 [==============================] - 6s 2ms/step - loss: 0.4148 - accuracy: 0.8506 - val_loss: 0.4335 - val_accuracy: 0.8449\n",
            "Epoch 3/5\n",
            "2700/2700 [==============================] - 5s 2ms/step - loss: 0.3989 - accuracy: 0.8554 - val_loss: 0.4242 - val_accuracy: 0.8481\n",
            "Epoch 4/5\n",
            "2700/2700 [==============================] - 5s 2ms/step - loss: 0.3868 - accuracy: 0.8619 - val_loss: 0.4316 - val_accuracy: 0.8473\n",
            "Epoch 5/5\n",
            "2700/2700 [==============================] - 6s 2ms/step - loss: 0.3771 - accuracy: 0.8644 - val_loss: 0.4364 - val_accuracy: 0.8480\n",
            "675/675 [==============================] - 1s 1ms/step - loss: 0.4397 - accuracy: 0.8448\n",
            "Epoch 1/5\n",
            "2700/2700 [==============================] - 6s 2ms/step - loss: 0.4812 - accuracy: 0.8268 - val_loss: 0.4540 - val_accuracy: 0.8368\n",
            "Epoch 2/5\n",
            "2700/2700 [==============================] - 6s 2ms/step - loss: 0.4172 - accuracy: 0.8485 - val_loss: 0.4268 - val_accuracy: 0.8452\n",
            "Epoch 3/5\n",
            "2700/2700 [==============================] - 5s 2ms/step - loss: 0.3984 - accuracy: 0.8555 - val_loss: 0.4198 - val_accuracy: 0.8508\n",
            "Epoch 4/5\n",
            "2700/2700 [==============================] - 5s 2ms/step - loss: 0.3877 - accuracy: 0.8599 - val_loss: 0.4266 - val_accuracy: 0.8485\n",
            "Epoch 5/5\n",
            "2700/2700 [==============================] - 5s 2ms/step - loss: 0.3786 - accuracy: 0.8620 - val_loss: 0.4245 - val_accuracy: 0.8485\n",
            "675/675 [==============================] - 1s 1ms/step - loss: 0.4159 - accuracy: 0.8529\n",
            "Epoch 1/5\n",
            "2700/2700 [==============================] - 6s 2ms/step - loss: 0.4736 - accuracy: 0.8287 - val_loss: 0.4443 - val_accuracy: 0.8405\n",
            "Epoch 2/5\n",
            "2700/2700 [==============================] - 5s 2ms/step - loss: 0.4161 - accuracy: 0.8491 - val_loss: 0.4321 - val_accuracy: 0.8463\n",
            "Epoch 3/5\n",
            "2700/2700 [==============================] - 6s 2ms/step - loss: 0.3989 - accuracy: 0.8556 - val_loss: 0.4297 - val_accuracy: 0.8469\n",
            "Epoch 4/5\n",
            "2700/2700 [==============================] - 5s 2ms/step - loss: 0.3866 - accuracy: 0.8594 - val_loss: 0.4291 - val_accuracy: 0.8493\n",
            "Epoch 5/5\n",
            "2700/2700 [==============================] - 5s 2ms/step - loss: 0.3775 - accuracy: 0.8635 - val_loss: 0.4261 - val_accuracy: 0.8484\n",
            "675/675 [==============================] - 1s 1ms/step - loss: 0.4371 - accuracy: 0.8483\n",
            "Epoch 1/5\n",
            "2700/2700 [==============================] - 6s 2ms/step - loss: 0.4738 - accuracy: 0.8283 - val_loss: 0.4748 - val_accuracy: 0.8308\n",
            "Epoch 2/5\n",
            "2700/2700 [==============================] - 6s 2ms/step - loss: 0.4121 - accuracy: 0.8502 - val_loss: 0.4200 - val_accuracy: 0.8527\n",
            "Epoch 3/5\n",
            "2700/2700 [==============================] - 5s 2ms/step - loss: 0.3869 - accuracy: 0.8594 - val_loss: 0.4258 - val_accuracy: 0.8528\n",
            "Epoch 4/5\n",
            "2700/2700 [==============================] - 6s 2ms/step - loss: 0.3688 - accuracy: 0.8663 - val_loss: 0.4202 - val_accuracy: 0.8497\n",
            "Epoch 5/5\n",
            "2700/2700 [==============================] - 6s 2ms/step - loss: 0.3531 - accuracy: 0.8706 - val_loss: 0.4545 - val_accuracy: 0.8441\n",
            "675/675 [==============================] - 1s 1ms/step - loss: 0.4443 - accuracy: 0.8437\n",
            "Epoch 1/5\n",
            "2700/2700 [==============================] - 6s 2ms/step - loss: 0.4718 - accuracy: 0.8278 - val_loss: 0.4340 - val_accuracy: 0.8461\n",
            "Epoch 2/5\n",
            "2700/2700 [==============================] - 6s 2ms/step - loss: 0.4083 - accuracy: 0.8524 - val_loss: 0.4319 - val_accuracy: 0.8506\n",
            "Epoch 3/5\n",
            "2700/2700 [==============================] - 6s 2ms/step - loss: 0.3840 - accuracy: 0.8614 - val_loss: 0.4256 - val_accuracy: 0.8497\n",
            "Epoch 4/5\n",
            "2700/2700 [==============================] - 5s 2ms/step - loss: 0.3657 - accuracy: 0.8685 - val_loss: 0.4272 - val_accuracy: 0.8498\n",
            "Epoch 5/5\n",
            "2700/2700 [==============================] - 6s 2ms/step - loss: 0.3493 - accuracy: 0.8742 - val_loss: 0.4404 - val_accuracy: 0.8504\n",
            "675/675 [==============================] - 1s 1ms/step - loss: 0.4382 - accuracy: 0.8449\n",
            "Epoch 1/5\n",
            "2700/2700 [==============================] - 6s 2ms/step - loss: 0.4677 - accuracy: 0.8318 - val_loss: 0.4379 - val_accuracy: 0.8408\n",
            "Epoch 2/5\n",
            "2700/2700 [==============================] - 5s 2ms/step - loss: 0.4051 - accuracy: 0.8515 - val_loss: 0.4187 - val_accuracy: 0.8483\n",
            "Epoch 3/5\n",
            "2700/2700 [==============================] - 6s 2ms/step - loss: 0.3786 - accuracy: 0.8615 - val_loss: 0.4172 - val_accuracy: 0.8499\n",
            "Epoch 4/5\n",
            "2700/2700 [==============================] - 5s 2ms/step - loss: 0.3596 - accuracy: 0.8704 - val_loss: 0.4225 - val_accuracy: 0.8487\n",
            "Epoch 5/5\n",
            "2700/2700 [==============================] - 6s 2ms/step - loss: 0.3413 - accuracy: 0.8760 - val_loss: 0.4234 - val_accuracy: 0.8533\n",
            "675/675 [==============================] - 1s 1ms/step - loss: 0.4400 - accuracy: 0.8461\n",
            "Epoch 1/5\n",
            "2700/2700 [==============================] - 6s 2ms/step - loss: 0.4744 - accuracy: 0.8281 - val_loss: 0.4504 - val_accuracy: 0.8402\n",
            "Epoch 2/5\n",
            "2700/2700 [==============================] - 5s 2ms/step - loss: 0.4078 - accuracy: 0.8519 - val_loss: 0.4260 - val_accuracy: 0.8485\n",
            "Epoch 3/5\n",
            "2700/2700 [==============================] - 5s 2ms/step - loss: 0.3831 - accuracy: 0.8611 - val_loss: 0.4185 - val_accuracy: 0.8491\n",
            "Epoch 4/5\n",
            "2700/2700 [==============================] - 5s 2ms/step - loss: 0.3614 - accuracy: 0.8697 - val_loss: 0.4311 - val_accuracy: 0.8465\n",
            "Epoch 5/5\n",
            "2700/2700 [==============================] - 6s 2ms/step - loss: 0.3450 - accuracy: 0.8747 - val_loss: 0.4284 - val_accuracy: 0.8483\n",
            "675/675 [==============================] - 1s 1ms/step - loss: 0.4184 - accuracy: 0.8525\n",
            "Epoch 1/5\n",
            "2700/2700 [==============================] - 6s 2ms/step - loss: 0.4724 - accuracy: 0.8293 - val_loss: 0.4472 - val_accuracy: 0.8397\n",
            "Epoch 2/5\n",
            "2700/2700 [==============================] - 6s 2ms/step - loss: 0.4082 - accuracy: 0.8522 - val_loss: 0.4226 - val_accuracy: 0.8482\n",
            "Epoch 3/5\n",
            "2700/2700 [==============================] - 6s 2ms/step - loss: 0.3818 - accuracy: 0.8619 - val_loss: 0.4220 - val_accuracy: 0.8533\n",
            "Epoch 4/5\n",
            "2700/2700 [==============================] - 6s 2ms/step - loss: 0.3622 - accuracy: 0.8692 - val_loss: 0.4227 - val_accuracy: 0.8468\n",
            "Epoch 5/5\n",
            "2700/2700 [==============================] - 6s 2ms/step - loss: 0.3476 - accuracy: 0.8740 - val_loss: 0.4292 - val_accuracy: 0.8462\n",
            "675/675 [==============================] - 1s 1ms/step - loss: 0.4452 - accuracy: 0.8455\n",
            "Epoch 1/5\n",
            "2700/2700 [==============================] - 6s 2ms/step - loss: 0.4736 - accuracy: 0.8286 - val_loss: 0.4508 - val_accuracy: 0.8382\n",
            "Epoch 2/5\n",
            "2700/2700 [==============================] - 6s 2ms/step - loss: 0.4085 - accuracy: 0.8515 - val_loss: 0.4246 - val_accuracy: 0.8492\n",
            "Epoch 3/5\n",
            "2700/2700 [==============================] - 6s 2ms/step - loss: 0.3799 - accuracy: 0.8603 - val_loss: 0.4316 - val_accuracy: 0.8503\n",
            "Epoch 4/5\n",
            "2700/2700 [==============================] - 6s 2ms/step - loss: 0.3571 - accuracy: 0.8695 - val_loss: 0.4323 - val_accuracy: 0.8461\n",
            "Epoch 5/5\n",
            "2700/2700 [==============================] - 6s 2ms/step - loss: 0.3374 - accuracy: 0.8758 - val_loss: 0.4483 - val_accuracy: 0.8472\n",
            "675/675 [==============================] - 1s 1ms/step - loss: 0.4335 - accuracy: 0.8504\n",
            "Epoch 1/5\n",
            "2700/2700 [==============================] - 7s 2ms/step - loss: 0.4727 - accuracy: 0.8287 - val_loss: 0.4327 - val_accuracy: 0.8429\n",
            "Epoch 2/5\n",
            "2700/2700 [==============================] - 6s 2ms/step - loss: 0.4033 - accuracy: 0.8552 - val_loss: 0.4229 - val_accuracy: 0.8531\n",
            "Epoch 3/5\n",
            "2700/2700 [==============================] - 6s 2ms/step - loss: 0.3699 - accuracy: 0.8672 - val_loss: 0.4374 - val_accuracy: 0.8477\n",
            "Epoch 4/5\n",
            "2700/2700 [==============================] - 6s 2ms/step - loss: 0.3436 - accuracy: 0.8773 - val_loss: 0.4329 - val_accuracy: 0.8509\n",
            "Epoch 5/5\n",
            "2700/2700 [==============================] - 6s 2ms/step - loss: 0.3204 - accuracy: 0.8860 - val_loss: 0.4533 - val_accuracy: 0.8459\n",
            "675/675 [==============================] - 1s 1ms/step - loss: 0.4389 - accuracy: 0.8455\n",
            "Epoch 1/5\n",
            "2700/2700 [==============================] - 6s 2ms/step - loss: 0.4717 - accuracy: 0.8315 - val_loss: 0.4391 - val_accuracy: 0.8435\n",
            "Epoch 2/5\n",
            "2700/2700 [==============================] - 6s 2ms/step - loss: 0.4021 - accuracy: 0.8546 - val_loss: 0.4157 - val_accuracy: 0.8489\n",
            "Epoch 3/5\n",
            "2700/2700 [==============================] - 6s 2ms/step - loss: 0.3685 - accuracy: 0.8671 - val_loss: 0.4178 - val_accuracy: 0.8512\n",
            "Epoch 4/5\n",
            "2700/2700 [==============================] - 6s 2ms/step - loss: 0.3411 - accuracy: 0.8771 - val_loss: 0.4329 - val_accuracy: 0.8498\n",
            "Epoch 5/5\n",
            "2700/2700 [==============================] - 6s 2ms/step - loss: 0.3177 - accuracy: 0.8858 - val_loss: 0.4490 - val_accuracy: 0.8478\n",
            "675/675 [==============================] - 1s 1ms/step - loss: 0.4631 - accuracy: 0.8428\n",
            "Epoch 1/5\n",
            "2700/2700 [==============================] - 6s 2ms/step - loss: 0.4746 - accuracy: 0.8290 - val_loss: 0.4515 - val_accuracy: 0.8398\n",
            "Epoch 2/5\n",
            "2700/2700 [==============================] - 6s 2ms/step - loss: 0.4060 - accuracy: 0.8523 - val_loss: 0.4172 - val_accuracy: 0.8493\n",
            "Epoch 3/5\n",
            "2700/2700 [==============================] - 6s 2ms/step - loss: 0.3740 - accuracy: 0.8637 - val_loss: 0.4258 - val_accuracy: 0.8458\n",
            "Epoch 4/5\n",
            "2700/2700 [==============================] - 6s 2ms/step - loss: 0.3478 - accuracy: 0.8743 - val_loss: 0.4393 - val_accuracy: 0.8396\n",
            "Epoch 5/5\n",
            "2700/2700 [==============================] - 6s 2ms/step - loss: 0.3223 - accuracy: 0.8825 - val_loss: 0.4352 - val_accuracy: 0.8478\n",
            "675/675 [==============================] - 1s 1ms/step - loss: 0.4334 - accuracy: 0.8495\n",
            "Epoch 1/5\n",
            "2700/2700 [==============================] - 6s 2ms/step - loss: 0.4717 - accuracy: 0.8295 - val_loss: 0.4374 - val_accuracy: 0.8406\n",
            "Epoch 2/5\n",
            "2700/2700 [==============================] - 6s 2ms/step - loss: 0.4024 - accuracy: 0.8537 - val_loss: 0.4299 - val_accuracy: 0.8447\n",
            "Epoch 3/5\n",
            "2700/2700 [==============================] - 6s 2ms/step - loss: 0.3715 - accuracy: 0.8643 - val_loss: 0.4213 - val_accuracy: 0.8502\n",
            "Epoch 4/5\n",
            "2700/2700 [==============================] - 6s 2ms/step - loss: 0.3433 - accuracy: 0.8753 - val_loss: 0.4372 - val_accuracy: 0.8459\n",
            "Epoch 5/5\n",
            "2700/2700 [==============================] - 6s 2ms/step - loss: 0.3210 - accuracy: 0.8833 - val_loss: 0.4449 - val_accuracy: 0.8472\n",
            "675/675 [==============================] - 1s 2ms/step - loss: 0.4554 - accuracy: 0.8460\n",
            "Epoch 1/5\n",
            "2700/2700 [==============================] - 6s 2ms/step - loss: 0.5141 - accuracy: 0.8135 - val_loss: 0.4363 - val_accuracy: 0.8453\n",
            "Epoch 2/5\n",
            "2700/2700 [==============================] - 6s 2ms/step - loss: 0.4099 - accuracy: 0.8526 - val_loss: 0.4150 - val_accuracy: 0.8499\n",
            "Epoch 3/5\n",
            "2700/2700 [==============================] - 5s 2ms/step - loss: 0.3937 - accuracy: 0.8567 - val_loss: 0.4152 - val_accuracy: 0.8513\n",
            "Epoch 4/5\n",
            "2700/2700 [==============================] - 6s 2ms/step - loss: 0.3819 - accuracy: 0.8597 - val_loss: 0.4099 - val_accuracy: 0.8518\n",
            "Epoch 5/5\n",
            "2700/2700 [==============================] - 6s 2ms/step - loss: 0.3719 - accuracy: 0.8624 - val_loss: 0.4081 - val_accuracy: 0.8528\n",
            "675/675 [==============================] - 1s 1ms/step - loss: 0.3951 - accuracy: 0.8570\n",
            "Epoch 1/5\n",
            "2700/2700 [==============================] - 7s 2ms/step - loss: 0.5192 - accuracy: 0.8116 - val_loss: 0.4358 - val_accuracy: 0.8483\n",
            "Epoch 2/5\n",
            "2700/2700 [==============================] - 8s 3ms/step - loss: 0.4094 - accuracy: 0.8527 - val_loss: 0.4207 - val_accuracy: 0.8501\n",
            "Epoch 3/5\n",
            "2700/2700 [==============================] - 6s 2ms/step - loss: 0.3911 - accuracy: 0.8578 - val_loss: 0.4200 - val_accuracy: 0.8519\n",
            "Epoch 4/5\n",
            "2700/2700 [==============================] - 6s 2ms/step - loss: 0.3782 - accuracy: 0.8617 - val_loss: 0.4127 - val_accuracy: 0.8526\n",
            "Epoch 5/5\n",
            "2700/2700 [==============================] - 6s 2ms/step - loss: 0.3676 - accuracy: 0.8655 - val_loss: 0.4106 - val_accuracy: 0.8543\n",
            "675/675 [==============================] - 1s 1ms/step - loss: 0.4030 - accuracy: 0.8526\n",
            "Epoch 1/5\n",
            "2700/2700 [==============================] - 6s 2ms/step - loss: 0.5204 - accuracy: 0.8108 - val_loss: 0.4313 - val_accuracy: 0.8482\n",
            "Epoch 2/5\n",
            "2700/2700 [==============================] - 6s 2ms/step - loss: 0.4031 - accuracy: 0.8549 - val_loss: 0.4128 - val_accuracy: 0.8527\n",
            "Epoch 3/5\n",
            "2700/2700 [==============================] - 6s 2ms/step - loss: 0.3868 - accuracy: 0.8595 - val_loss: 0.4086 - val_accuracy: 0.8510\n",
            "Epoch 4/5\n",
            "2700/2700 [==============================] - 6s 2ms/step - loss: 0.3739 - accuracy: 0.8640 - val_loss: 0.4090 - val_accuracy: 0.8523\n",
            "Epoch 5/5\n",
            "2700/2700 [==============================] - 6s 2ms/step - loss: 0.3643 - accuracy: 0.8669 - val_loss: 0.4018 - val_accuracy: 0.8531\n",
            "675/675 [==============================] - 1s 1ms/step - loss: 0.4083 - accuracy: 0.8510\n",
            "Epoch 1/5\n",
            "2700/2700 [==============================] - 6s 2ms/step - loss: 0.5223 - accuracy: 0.8138 - val_loss: 0.4236 - val_accuracy: 0.8489\n",
            "Epoch 2/5\n",
            "2700/2700 [==============================] - 6s 2ms/step - loss: 0.4053 - accuracy: 0.8532 - val_loss: 0.4104 - val_accuracy: 0.8541\n",
            "Epoch 3/5\n",
            "2700/2700 [==============================] - 6s 2ms/step - loss: 0.3900 - accuracy: 0.8576 - val_loss: 0.4070 - val_accuracy: 0.8562\n",
            "Epoch 4/5\n",
            "2700/2700 [==============================] - 6s 2ms/step - loss: 0.3793 - accuracy: 0.8614 - val_loss: 0.4095 - val_accuracy: 0.8533\n",
            "Epoch 5/5\n",
            "2700/2700 [==============================] - 6s 2ms/step - loss: 0.3702 - accuracy: 0.8634 - val_loss: 0.4020 - val_accuracy: 0.8552\n",
            "675/675 [==============================] - 1s 1ms/step - loss: 0.3919 - accuracy: 0.8580\n",
            "Epoch 1/5\n",
            "2700/2700 [==============================] - 6s 2ms/step - loss: 0.5131 - accuracy: 0.8203 - val_loss: 0.4192 - val_accuracy: 0.8517\n",
            "Epoch 2/5\n",
            "2700/2700 [==============================] - 6s 2ms/step - loss: 0.4012 - accuracy: 0.8542 - val_loss: 0.4125 - val_accuracy: 0.8512\n",
            "Epoch 3/5\n",
            "2700/2700 [==============================] - 6s 2ms/step - loss: 0.3882 - accuracy: 0.8583 - val_loss: 0.4081 - val_accuracy: 0.8539\n",
            "Epoch 4/5\n",
            "2700/2700 [==============================] - 6s 2ms/step - loss: 0.3786 - accuracy: 0.8600 - val_loss: 0.4053 - val_accuracy: 0.8536\n",
            "Epoch 5/5\n",
            "2700/2700 [==============================] - 6s 2ms/step - loss: 0.3706 - accuracy: 0.8629 - val_loss: 0.4064 - val_accuracy: 0.8530\n",
            "675/675 [==============================] - 1s 1ms/step - loss: 0.4099 - accuracy: 0.8528\n",
            "Epoch 1/5\n",
            "2700/2700 [==============================] - 6s 2ms/step - loss: 0.4935 - accuracy: 0.8219 - val_loss: 0.4320 - val_accuracy: 0.8456\n",
            "Epoch 2/5\n",
            "2700/2700 [==============================] - 6s 2ms/step - loss: 0.4004 - accuracy: 0.8545 - val_loss: 0.4062 - val_accuracy: 0.8544\n",
            "Epoch 3/5\n",
            "2700/2700 [==============================] - 6s 2ms/step - loss: 0.3773 - accuracy: 0.8615 - val_loss: 0.4033 - val_accuracy: 0.8570\n",
            "Epoch 4/5\n",
            "2700/2700 [==============================] - 6s 2ms/step - loss: 0.3599 - accuracy: 0.8683 - val_loss: 0.4005 - val_accuracy: 0.8563\n",
            "Epoch 5/5\n",
            "2700/2700 [==============================] - 6s 2ms/step - loss: 0.3442 - accuracy: 0.8735 - val_loss: 0.4011 - val_accuracy: 0.8555\n",
            "675/675 [==============================] - 1s 1ms/step - loss: 0.3869 - accuracy: 0.8606\n",
            "Epoch 1/5\n",
            "2700/2700 [==============================] - 6s 2ms/step - loss: 0.4885 - accuracy: 0.8238 - val_loss: 0.4309 - val_accuracy: 0.8474\n",
            "Epoch 2/5\n",
            "2700/2700 [==============================] - 6s 2ms/step - loss: 0.4012 - accuracy: 0.8551 - val_loss: 0.4108 - val_accuracy: 0.8520\n",
            "Epoch 3/5\n",
            "2700/2700 [==============================] - 6s 2ms/step - loss: 0.3795 - accuracy: 0.8610 - val_loss: 0.4068 - val_accuracy: 0.8547\n",
            "Epoch 4/5\n",
            "2700/2700 [==============================] - 6s 2ms/step - loss: 0.3611 - accuracy: 0.8673 - val_loss: 0.4029 - val_accuracy: 0.8546\n",
            "Epoch 5/5\n",
            "2700/2700 [==============================] - 6s 2ms/step - loss: 0.3445 - accuracy: 0.8734 - val_loss: 0.4040 - val_accuracy: 0.8574\n",
            "675/675 [==============================] - 1s 1ms/step - loss: 0.3967 - accuracy: 0.8555\n",
            "Epoch 1/5\n",
            "2700/2700 [==============================] - 6s 2ms/step - loss: 0.4881 - accuracy: 0.8231 - val_loss: 0.4332 - val_accuracy: 0.8464\n",
            "Epoch 2/5\n",
            "2700/2700 [==============================] - 6s 2ms/step - loss: 0.4013 - accuracy: 0.8546 - val_loss: 0.4120 - val_accuracy: 0.8507\n",
            "Epoch 3/5\n",
            "2700/2700 [==============================] - 6s 2ms/step - loss: 0.3818 - accuracy: 0.8596 - val_loss: 0.4043 - val_accuracy: 0.8528\n",
            "Epoch 4/5\n",
            "2700/2700 [==============================] - 6s 2ms/step - loss: 0.3648 - accuracy: 0.8656 - val_loss: 0.4076 - val_accuracy: 0.8531\n",
            "Epoch 5/5\n",
            "2700/2700 [==============================] - 6s 2ms/step - loss: 0.3493 - accuracy: 0.8710 - val_loss: 0.3999 - val_accuracy: 0.8555\n",
            "675/675 [==============================] - 1s 1ms/step - loss: 0.4036 - accuracy: 0.8530\n",
            "Epoch 1/5\n",
            "2700/2700 [==============================] - 7s 2ms/step - loss: 0.4908 - accuracy: 0.8222 - val_loss: 0.4184 - val_accuracy: 0.8495\n",
            "Epoch 2/5\n",
            "2700/2700 [==============================] - 6s 2ms/step - loss: 0.3994 - accuracy: 0.8545 - val_loss: 0.4043 - val_accuracy: 0.8554\n",
            "Epoch 3/5\n",
            "2700/2700 [==============================] - 6s 2ms/step - loss: 0.3781 - accuracy: 0.8602 - val_loss: 0.3995 - val_accuracy: 0.8538\n",
            "Epoch 4/5\n",
            "2700/2700 [==============================] - 6s 2ms/step - loss: 0.3612 - accuracy: 0.8667 - val_loss: 0.3968 - val_accuracy: 0.8562\n",
            "Epoch 5/5\n",
            "2700/2700 [==============================] - 6s 2ms/step - loss: 0.3453 - accuracy: 0.8721 - val_loss: 0.3943 - val_accuracy: 0.8569\n",
            "675/675 [==============================] - 1s 2ms/step - loss: 0.3846 - accuracy: 0.8628\n",
            "Epoch 1/5\n",
            "2700/2700 [==============================] - 6s 2ms/step - loss: 0.4893 - accuracy: 0.8219 - val_loss: 0.4181 - val_accuracy: 0.8519\n",
            "Epoch 2/5\n",
            "2700/2700 [==============================] - 6s 2ms/step - loss: 0.3973 - accuracy: 0.8550 - val_loss: 0.4106 - val_accuracy: 0.8505\n",
            "Epoch 3/5\n",
            "2700/2700 [==============================] - 6s 2ms/step - loss: 0.3767 - accuracy: 0.8612 - val_loss: 0.4050 - val_accuracy: 0.8528\n",
            "Epoch 4/5\n",
            "2700/2700 [==============================] - 6s 2ms/step - loss: 0.3583 - accuracy: 0.8678 - val_loss: 0.4030 - val_accuracy: 0.8545\n",
            "Epoch 5/5\n",
            "2700/2700 [==============================] - 6s 2ms/step - loss: 0.3421 - accuracy: 0.8735 - val_loss: 0.4061 - val_accuracy: 0.8549\n",
            "675/675 [==============================] - 1s 2ms/step - loss: 0.4069 - accuracy: 0.8557\n",
            "Epoch 1/5\n",
            "2700/2700 [==============================] - 7s 2ms/step - loss: 0.4799 - accuracy: 0.8270 - val_loss: 0.4292 - val_accuracy: 0.8437\n",
            "Epoch 2/5\n",
            "2700/2700 [==============================] - 6s 2ms/step - loss: 0.3937 - accuracy: 0.8558 - val_loss: 0.4009 - val_accuracy: 0.8533\n",
            "Epoch 3/5\n",
            "2700/2700 [==============================] - 6s 2ms/step - loss: 0.3659 - accuracy: 0.8651 - val_loss: 0.4026 - val_accuracy: 0.8542\n",
            "Epoch 4/5\n",
            "2700/2700 [==============================] - 6s 2ms/step - loss: 0.3421 - accuracy: 0.8746 - val_loss: 0.4019 - val_accuracy: 0.8561\n",
            "Epoch 5/5\n",
            "2700/2700 [==============================] - 6s 2ms/step - loss: 0.3189 - accuracy: 0.8832 - val_loss: 0.4100 - val_accuracy: 0.8523\n",
            "675/675 [==============================] - 1s 2ms/step - loss: 0.3952 - accuracy: 0.8578\n",
            "Epoch 1/5\n",
            "2700/2700 [==============================] - 7s 2ms/step - loss: 0.4773 - accuracy: 0.8282 - val_loss: 0.4276 - val_accuracy: 0.8466\n",
            "Epoch 2/5\n",
            "2700/2700 [==============================] - 6s 2ms/step - loss: 0.3929 - accuracy: 0.8562 - val_loss: 0.4058 - val_accuracy: 0.8535\n",
            "Epoch 3/5\n",
            "2700/2700 [==============================] - 6s 2ms/step - loss: 0.3656 - accuracy: 0.8651 - val_loss: 0.4066 - val_accuracy: 0.8550\n",
            "Epoch 4/5\n",
            "2700/2700 [==============================] - 6s 2ms/step - loss: 0.3410 - accuracy: 0.8744 - val_loss: 0.4054 - val_accuracy: 0.8555\n",
            "Epoch 5/5\n",
            "2700/2700 [==============================] - 6s 2ms/step - loss: 0.3187 - accuracy: 0.8831 - val_loss: 0.4073 - val_accuracy: 0.8559\n",
            "675/675 [==============================] - 1s 1ms/step - loss: 0.4041 - accuracy: 0.8535\n",
            "Epoch 1/5\n",
            "2700/2700 [==============================] - 7s 2ms/step - loss: 0.4805 - accuracy: 0.8262 - val_loss: 0.4243 - val_accuracy: 0.8491\n",
            "Epoch 2/5\n",
            "2700/2700 [==============================] - 6s 2ms/step - loss: 0.3924 - accuracy: 0.8567 - val_loss: 0.4042 - val_accuracy: 0.8519\n",
            "Epoch 3/5\n",
            "2700/2700 [==============================] - 6s 2ms/step - loss: 0.3655 - accuracy: 0.8659 - val_loss: 0.3993 - val_accuracy: 0.8558\n",
            "Epoch 4/5\n",
            "2700/2700 [==============================] - 6s 2ms/step - loss: 0.3409 - accuracy: 0.8751 - val_loss: 0.4041 - val_accuracy: 0.8540\n",
            "Epoch 5/5\n",
            "2700/2700 [==============================] - 6s 2ms/step - loss: 0.3184 - accuracy: 0.8848 - val_loss: 0.4088 - val_accuracy: 0.8565\n",
            "675/675 [==============================] - 1s 1ms/step - loss: 0.4149 - accuracy: 0.8492\n",
            "Epoch 1/5\n",
            "2700/2700 [==============================] - 7s 2ms/step - loss: 0.4820 - accuracy: 0.8248 - val_loss: 0.4191 - val_accuracy: 0.8472\n",
            "Epoch 2/5\n",
            "2700/2700 [==============================] - 6s 2ms/step - loss: 0.3966 - accuracy: 0.8553 - val_loss: 0.4022 - val_accuracy: 0.8543\n",
            "Epoch 3/5\n",
            "2700/2700 [==============================] - 6s 2ms/step - loss: 0.3688 - accuracy: 0.8634 - val_loss: 0.3969 - val_accuracy: 0.8554\n",
            "Epoch 4/5\n",
            "2700/2700 [==============================] - 6s 2ms/step - loss: 0.3449 - accuracy: 0.8724 - val_loss: 0.3995 - val_accuracy: 0.8558\n",
            "Epoch 5/5\n",
            "2700/2700 [==============================] - 6s 2ms/step - loss: 0.3227 - accuracy: 0.8808 - val_loss: 0.3971 - val_accuracy: 0.8571\n",
            "675/675 [==============================] - 1s 2ms/step - loss: 0.3907 - accuracy: 0.8595\n",
            "Epoch 1/5\n",
            "2700/2700 [==============================] - 7s 2ms/step - loss: 0.4774 - accuracy: 0.8273 - val_loss: 0.4164 - val_accuracy: 0.8519\n",
            "Epoch 2/5\n",
            "2700/2700 [==============================] - 6s 2ms/step - loss: 0.3923 - accuracy: 0.8557 - val_loss: 0.4056 - val_accuracy: 0.8523\n",
            "Epoch 3/5\n",
            "2700/2700 [==============================] - 6s 2ms/step - loss: 0.3664 - accuracy: 0.8654 - val_loss: 0.3972 - val_accuracy: 0.8562\n",
            "Epoch 4/5\n",
            "2700/2700 [==============================] - 6s 2ms/step - loss: 0.3428 - accuracy: 0.8742 - val_loss: 0.3972 - val_accuracy: 0.8587\n",
            "Epoch 5/5\n",
            "2700/2700 [==============================] - 6s 2ms/step - loss: 0.3202 - accuracy: 0.8827 - val_loss: 0.4055 - val_accuracy: 0.8558\n",
            "675/675 [==============================] - 1s 2ms/step - loss: 0.4131 - accuracy: 0.8549\n",
            "Epoch 1/5\n",
            "2700/2700 [==============================] - 7s 2ms/step - loss: 0.9693 - accuracy: 0.6628 - val_loss: 0.6136 - val_accuracy: 0.8152\n",
            "Epoch 2/5\n",
            "2700/2700 [==============================] - 6s 2ms/step - loss: 0.5150 - accuracy: 0.8328 - val_loss: 0.4744 - val_accuracy: 0.8410\n",
            "Epoch 3/5\n",
            "2700/2700 [==============================] - 6s 2ms/step - loss: 0.4449 - accuracy: 0.8479 - val_loss: 0.4453 - val_accuracy: 0.8469\n",
            "Epoch 4/5\n",
            "2700/2700 [==============================] - 6s 2ms/step - loss: 0.4226 - accuracy: 0.8536 - val_loss: 0.4330 - val_accuracy: 0.8483\n",
            "Epoch 5/5\n",
            "2700/2700 [==============================] - 6s 2ms/step - loss: 0.4111 - accuracy: 0.8560 - val_loss: 0.4269 - val_accuracy: 0.8498\n",
            "675/675 [==============================] - 1s 1ms/step - loss: 0.4145 - accuracy: 0.8545\n",
            "Epoch 1/5\n",
            "2700/2700 [==============================] - 6s 2ms/step - loss: 1.0195 - accuracy: 0.6125 - val_loss: 0.6773 - val_accuracy: 0.8043\n",
            "Epoch 2/5\n",
            "2700/2700 [==============================] - 6s 2ms/step - loss: 0.5618 - accuracy: 0.8275 - val_loss: 0.5105 - val_accuracy: 0.8352\n",
            "Epoch 3/5\n",
            "2700/2700 [==============================] - 6s 2ms/step - loss: 0.4702 - accuracy: 0.8448 - val_loss: 0.4684 - val_accuracy: 0.8438\n",
            "Epoch 4/5\n",
            "2700/2700 [==============================] - 6s 2ms/step - loss: 0.4389 - accuracy: 0.8512 - val_loss: 0.4500 - val_accuracy: 0.8482\n",
            "Epoch 5/5\n",
            "2700/2700 [==============================] - 6s 2ms/step - loss: 0.4228 - accuracy: 0.8546 - val_loss: 0.4402 - val_accuracy: 0.8492\n",
            "675/675 [==============================] - 1s 1ms/step - loss: 0.4320 - accuracy: 0.8489\n",
            "Epoch 1/5\n",
            "2700/2700 [==============================] - 6s 2ms/step - loss: 1.0372 - accuracy: 0.5793 - val_loss: 0.6795 - val_accuracy: 0.7997\n",
            "Epoch 2/5\n",
            "2700/2700 [==============================] - 6s 2ms/step - loss: 0.5506 - accuracy: 0.8258 - val_loss: 0.4970 - val_accuracy: 0.8331\n",
            "Epoch 3/5\n",
            "2700/2700 [==============================] - 6s 2ms/step - loss: 0.4580 - accuracy: 0.8451 - val_loss: 0.4589 - val_accuracy: 0.8442\n",
            "Epoch 4/5\n",
            "2700/2700 [==============================] - 6s 2ms/step - loss: 0.4296 - accuracy: 0.8524 - val_loss: 0.4437 - val_accuracy: 0.8470\n",
            "Epoch 5/5\n",
            "2700/2700 [==============================] - 6s 2ms/step - loss: 0.4157 - accuracy: 0.8560 - val_loss: 0.4357 - val_accuracy: 0.8497\n",
            "675/675 [==============================] - 1s 1ms/step - loss: 0.4394 - accuracy: 0.8439\n",
            "Epoch 1/5\n",
            "2700/2700 [==============================] - 7s 2ms/step - loss: 0.9452 - accuracy: 0.6386 - val_loss: 0.6257 - val_accuracy: 0.8093\n",
            "Epoch 2/5\n",
            "2700/2700 [==============================] - 6s 2ms/step - loss: 0.5297 - accuracy: 0.8262 - val_loss: 0.4877 - val_accuracy: 0.8356\n",
            "Epoch 3/5\n",
            "2700/2700 [==============================] - 6s 2ms/step - loss: 0.4565 - accuracy: 0.8422 - val_loss: 0.4556 - val_accuracy: 0.8434\n",
            "Epoch 4/5\n",
            "2700/2700 [==============================] - 6s 2ms/step - loss: 0.4320 - accuracy: 0.8484 - val_loss: 0.4412 - val_accuracy: 0.8485\n",
            "Epoch 5/5\n",
            "2700/2700 [==============================] - 6s 2ms/step - loss: 0.4190 - accuracy: 0.8528 - val_loss: 0.4330 - val_accuracy: 0.8487\n",
            "675/675 [==============================] - 1s 2ms/step - loss: 0.4216 - accuracy: 0.8542\n",
            "Epoch 1/5\n",
            "2700/2700 [==============================] - 7s 2ms/step - loss: 1.1496 - accuracy: 0.4744 - val_loss: 0.8487 - val_accuracy: 0.7476\n",
            "Epoch 2/5\n",
            "2700/2700 [==============================] - 6s 2ms/step - loss: 0.6446 - accuracy: 0.8159 - val_loss: 0.5344 - val_accuracy: 0.8327\n",
            "Epoch 3/5\n",
            "2700/2700 [==============================] - 6s 2ms/step - loss: 0.4836 - accuracy: 0.8432 - val_loss: 0.4701 - val_accuracy: 0.8428\n",
            "Epoch 4/5\n",
            "2700/2700 [==============================] - 6s 2ms/step - loss: 0.4411 - accuracy: 0.8513 - val_loss: 0.4478 - val_accuracy: 0.8463\n",
            "Epoch 5/5\n",
            "2700/2700 [==============================] - 6s 2ms/step - loss: 0.4222 - accuracy: 0.8555 - val_loss: 0.4367 - val_accuracy: 0.8474\n",
            "675/675 [==============================] - 1s 2ms/step - loss: 0.4367 - accuracy: 0.8478\n",
            "Epoch 1/5\n",
            "2700/2700 [==============================] - 6s 2ms/step - loss: 0.8346 - accuracy: 0.6997 - val_loss: 0.5227 - val_accuracy: 0.8257\n",
            "Epoch 2/5\n",
            "2700/2700 [==============================] - 6s 2ms/step - loss: 0.4666 - accuracy: 0.8409 - val_loss: 0.4504 - val_accuracy: 0.8440\n",
            "Epoch 3/5\n",
            "2700/2700 [==============================] - 6s 2ms/step - loss: 0.4245 - accuracy: 0.8524 - val_loss: 0.4335 - val_accuracy: 0.8492\n",
            "Epoch 4/5\n",
            "2700/2700 [==============================] - 6s 2ms/step - loss: 0.4093 - accuracy: 0.8568 - val_loss: 0.4255 - val_accuracy: 0.8505\n",
            "Epoch 5/5\n",
            "2700/2700 [==============================] - 6s 2ms/step - loss: 0.4010 - accuracy: 0.8591 - val_loss: 0.4217 - val_accuracy: 0.8512\n",
            "675/675 [==============================] - 1s 2ms/step - loss: 0.4066 - accuracy: 0.8558\n",
            "Epoch 1/5\n",
            "2700/2700 [==============================] - 6s 2ms/step - loss: 0.8238 - accuracy: 0.7180 - val_loss: 0.4972 - val_accuracy: 0.8343\n",
            "Epoch 2/5\n",
            "2700/2700 [==============================] - 6s 2ms/step - loss: 0.4508 - accuracy: 0.8456 - val_loss: 0.4416 - val_accuracy: 0.8465\n",
            "Epoch 3/5\n",
            "2700/2700 [==============================] - 6s 2ms/step - loss: 0.4168 - accuracy: 0.8540 - val_loss: 0.4289 - val_accuracy: 0.8500\n",
            "Epoch 4/5\n",
            "2700/2700 [==============================] - 6s 2ms/step - loss: 0.4033 - accuracy: 0.8579 - val_loss: 0.4225 - val_accuracy: 0.8509\n",
            "Epoch 5/5\n",
            "2700/2700 [==============================] - 6s 2ms/step - loss: 0.3955 - accuracy: 0.8598 - val_loss: 0.4196 - val_accuracy: 0.8512\n",
            "675/675 [==============================] - 1s 2ms/step - loss: 0.4122 - accuracy: 0.8541\n",
            "Epoch 1/5\n",
            "2700/2700 [==============================] - 7s 2ms/step - loss: 0.9017 - accuracy: 0.6595 - val_loss: 0.5352 - val_accuracy: 0.8229\n",
            "Epoch 2/5\n",
            "2700/2700 [==============================] - 6s 2ms/step - loss: 0.4694 - accuracy: 0.8412 - val_loss: 0.4525 - val_accuracy: 0.8437\n",
            "Epoch 3/5\n",
            "2700/2700 [==============================] - 6s 2ms/step - loss: 0.4225 - accuracy: 0.8537 - val_loss: 0.4340 - val_accuracy: 0.8491\n",
            "Epoch 4/5\n",
            "2700/2700 [==============================] - 6s 2ms/step - loss: 0.4051 - accuracy: 0.8577 - val_loss: 0.4251 - val_accuracy: 0.8503\n",
            "Epoch 5/5\n",
            "2700/2700 [==============================] - 6s 2ms/step - loss: 0.3954 - accuracy: 0.8609 - val_loss: 0.4195 - val_accuracy: 0.8512\n",
            "675/675 [==============================] - 1s 2ms/step - loss: 0.4255 - accuracy: 0.8475\n",
            "Epoch 1/5\n",
            "2700/2700 [==============================] - 7s 2ms/step - loss: 0.8372 - accuracy: 0.6949 - val_loss: 0.5079 - val_accuracy: 0.8296\n",
            "Epoch 2/5\n",
            "2700/2700 [==============================] - 6s 2ms/step - loss: 0.4603 - accuracy: 0.8421 - val_loss: 0.4497 - val_accuracy: 0.8443\n",
            "Epoch 3/5\n",
            "2700/2700 [==============================] - 6s 2ms/step - loss: 0.4245 - accuracy: 0.8513 - val_loss: 0.4338 - val_accuracy: 0.8494\n",
            "Epoch 4/5\n",
            "2700/2700 [==============================] - 6s 2ms/step - loss: 0.4096 - accuracy: 0.8557 - val_loss: 0.4259 - val_accuracy: 0.8493\n",
            "Epoch 5/5\n",
            "2700/2700 [==============================] - 6s 2ms/step - loss: 0.4007 - accuracy: 0.8577 - val_loss: 0.4196 - val_accuracy: 0.8521\n",
            "675/675 [==============================] - 1s 2ms/step - loss: 0.4084 - accuracy: 0.8564\n",
            "Epoch 1/5\n",
            "2700/2700 [==============================] - 7s 2ms/step - loss: 0.8569 - accuracy: 0.6961 - val_loss: 0.5173 - val_accuracy: 0.8274\n",
            "Epoch 2/5\n",
            "2700/2700 [==============================] - 8s 3ms/step - loss: 0.4608 - accuracy: 0.8417 - val_loss: 0.4498 - val_accuracy: 0.8432\n",
            "Epoch 3/5\n",
            "2700/2700 [==============================] - 6s 2ms/step - loss: 0.4200 - accuracy: 0.8535 - val_loss: 0.4321 - val_accuracy: 0.8508\n",
            "Epoch 4/5\n",
            "2700/2700 [==============================] - 6s 2ms/step - loss: 0.4037 - accuracy: 0.8574 - val_loss: 0.4243 - val_accuracy: 0.8525\n",
            "Epoch 5/5\n",
            "2700/2700 [==============================] - 6s 2ms/step - loss: 0.3944 - accuracy: 0.8595 - val_loss: 0.4195 - val_accuracy: 0.8521\n",
            "675/675 [==============================] - 1s 2ms/step - loss: 0.4187 - accuracy: 0.8512\n",
            "Epoch 1/5\n",
            "2700/2700 [==============================] - 7s 2ms/step - loss: 0.7621 - accuracy: 0.7386 - val_loss: 0.4814 - val_accuracy: 0.8359\n",
            "Epoch 2/5\n",
            "2700/2700 [==============================] - 6s 2ms/step - loss: 0.4439 - accuracy: 0.8467 - val_loss: 0.4397 - val_accuracy: 0.8464\n",
            "Epoch 3/5\n",
            "2700/2700 [==============================] - 6s 2ms/step - loss: 0.4154 - accuracy: 0.8548 - val_loss: 0.4291 - val_accuracy: 0.8498\n",
            "Epoch 4/5\n",
            "2700/2700 [==============================] - 6s 2ms/step - loss: 0.4035 - accuracy: 0.8579 - val_loss: 0.4222 - val_accuracy: 0.8510\n",
            "Epoch 5/5\n",
            "2700/2700 [==============================] - 6s 2ms/step - loss: 0.3961 - accuracy: 0.8594 - val_loss: 0.4188 - val_accuracy: 0.8506\n",
            "675/675 [==============================] - 1s 2ms/step - loss: 0.4049 - accuracy: 0.8563\n",
            "Epoch 1/5\n",
            "2700/2700 [==============================] - 7s 2ms/step - loss: 0.7544 - accuracy: 0.7406 - val_loss: 0.4806 - val_accuracy: 0.8369\n",
            "Epoch 2/5\n",
            "2700/2700 [==============================] - 7s 2ms/step - loss: 0.4401 - accuracy: 0.8479 - val_loss: 0.4403 - val_accuracy: 0.8478\n",
            "Epoch 3/5\n",
            "2700/2700 [==============================] - 7s 2ms/step - loss: 0.4128 - accuracy: 0.8553 - val_loss: 0.4308 - val_accuracy: 0.8501\n",
            "Epoch 4/5\n",
            "2700/2700 [==============================] - 7s 2ms/step - loss: 0.4012 - accuracy: 0.8585 - val_loss: 0.4241 - val_accuracy: 0.8512\n",
            "Epoch 5/5\n",
            "2700/2700 [==============================] - 7s 2ms/step - loss: 0.3940 - accuracy: 0.8604 - val_loss: 0.4214 - val_accuracy: 0.8520\n",
            "675/675 [==============================] - 1s 2ms/step - loss: 0.4134 - accuracy: 0.8522\n",
            "Epoch 1/5\n",
            "2700/2700 [==============================] - 7s 2ms/step - loss: 0.7898 - accuracy: 0.7203 - val_loss: 0.4837 - val_accuracy: 0.8388\n",
            "Epoch 2/5\n",
            "2700/2700 [==============================] - 6s 2ms/step - loss: 0.4394 - accuracy: 0.8491 - val_loss: 0.4383 - val_accuracy: 0.8489\n",
            "Epoch 3/5\n",
            "2700/2700 [==============================] - 6s 2ms/step - loss: 0.4103 - accuracy: 0.8556 - val_loss: 0.4278 - val_accuracy: 0.8488\n",
            "Epoch 4/5\n",
            "2700/2700 [==============================] - 6s 2ms/step - loss: 0.3981 - accuracy: 0.8600 - val_loss: 0.4230 - val_accuracy: 0.8501\n",
            "Epoch 5/5\n",
            "2700/2700 [==============================] - 6s 2ms/step - loss: 0.3907 - accuracy: 0.8618 - val_loss: 0.4186 - val_accuracy: 0.8517\n",
            "675/675 [==============================] - 1s 2ms/step - loss: 0.4244 - accuracy: 0.8470\n",
            "Epoch 1/5\n",
            "2700/2700 [==============================] - 7s 2ms/step - loss: 0.7846 - accuracy: 0.7246 - val_loss: 0.4834 - val_accuracy: 0.8363\n",
            "Epoch 2/5\n",
            "2700/2700 [==============================] - 7s 2ms/step - loss: 0.4448 - accuracy: 0.8459 - val_loss: 0.4389 - val_accuracy: 0.8462\n",
            "Epoch 3/5\n",
            "2700/2700 [==============================] - 7s 2ms/step - loss: 0.4157 - accuracy: 0.8535 - val_loss: 0.4279 - val_accuracy: 0.8499\n",
            "Epoch 4/5\n",
            "2700/2700 [==============================] - 6s 2ms/step - loss: 0.4035 - accuracy: 0.8570 - val_loss: 0.4239 - val_accuracy: 0.8498\n",
            "Epoch 5/5\n",
            "2700/2700 [==============================] - 6s 2ms/step - loss: 0.3960 - accuracy: 0.8589 - val_loss: 0.4180 - val_accuracy: 0.8509\n",
            "675/675 [==============================] - 1s 2ms/step - loss: 0.4079 - accuracy: 0.8560\n",
            "Epoch 1/5\n",
            "2700/2700 [==============================] - 7s 2ms/step - loss: 0.7802 - accuracy: 0.7199 - val_loss: 0.4872 - val_accuracy: 0.8342\n",
            "Epoch 2/5\n",
            "2700/2700 [==============================] - 6s 2ms/step - loss: 0.4452 - accuracy: 0.8472 - val_loss: 0.4446 - val_accuracy: 0.8457\n",
            "Epoch 3/5\n",
            "2700/2700 [==============================] - 6s 2ms/step - loss: 0.4166 - accuracy: 0.8549 - val_loss: 0.4328 - val_accuracy: 0.8493\n",
            "Epoch 4/5\n",
            "2700/2700 [==============================] - 6s 2ms/step - loss: 0.4040 - accuracy: 0.8575 - val_loss: 0.4267 - val_accuracy: 0.8512\n",
            "Epoch 5/5\n",
            "2700/2700 [==============================] - 6s 2ms/step - loss: 0.3965 - accuracy: 0.8593 - val_loss: 0.4223 - val_accuracy: 0.8507\n",
            "675/675 [==============================] - 1s 2ms/step - loss: 0.4226 - accuracy: 0.8508\n",
            "Epoch 1/5\n",
            "3375/3375 [==============================] - 8s 2ms/step - loss: 0.4713 - accuracy: 0.8278 - val_loss: 0.4132 - val_accuracy: 0.8517\n",
            "Epoch 2/5\n",
            "3375/3375 [==============================] - 8s 2ms/step - loss: 0.3900 - accuracy: 0.8567 - val_loss: 0.3996 - val_accuracy: 0.8543\n",
            "Epoch 3/5\n",
            "3375/3375 [==============================] - 7s 2ms/step - loss: 0.3662 - accuracy: 0.8646 - val_loss: 0.3911 - val_accuracy: 0.8578\n",
            "Epoch 4/5\n",
            "3375/3375 [==============================] - 8s 2ms/step - loss: 0.3491 - accuracy: 0.8707 - val_loss: 0.3911 - val_accuracy: 0.8580\n",
            "Epoch 5/5\n",
            "3375/3375 [==============================] - 7s 2ms/step - loss: 0.3348 - accuracy: 0.8764 - val_loss: 0.3918 - val_accuracy: 0.8593\n"
          ]
        },
        {
          "output_type": "execute_result",
          "data": {
            "text/plain": [
              "GridSearchCV(estimator=<keras.wrappers.scikit_learn.KerasRegressor object at 0x7f2f08384450>,\n",
              "             param_grid={'learning_rate': [0.01, 0.001, 0.0001],\n",
              "                         'n_units': [10, 20, 30]})"
            ]
          },
          "metadata": {},
          "execution_count": 27
        }
      ],
      "source": [
        "\n",
        "grid_search.fit(X_train.numpy(), y_train.numpy(), epochs=5,#The number of epochs can be modified (check what happens by increasing it)\n",
        "                validation_data=(X_valid.numpy(), y_valid.numpy()))"
      ]
    },
    {
      "cell_type": "markdown",
      "metadata": {
        "id": "aadmkiOoyM94"
      },
      "source": [
        "Print the best hyper-parameters, and evealuate the best model on the test set."
      ]
    },
    {
      "cell_type": "code",
      "execution_count": 28,
      "metadata": {
        "id": "b0nL5OZkylNX",
        "colab": {
          "base_uri": "https://localhost:8080/"
        },
        "outputId": "05957761-bc83-4aeb-bc9d-230c68320fd0"
      },
      "outputs": [
        {
          "output_type": "stream",
          "name": "stdout",
          "text": [
            "{'learning_rate': 0.001, 'n_units': 20}\n",
            "238/238 [==============================] - 1s 2ms/step - loss: 0.3974 - accuracy: 0.8551\n"
          ]
        },
        {
          "output_type": "execute_result",
          "data": {
            "text/plain": [
              "[0.39741379022598267, 0.8551315665245056]"
            ]
          },
          "metadata": {},
          "execution_count": 28
        }
      ],
      "source": [
        "print(grid_search.best_params_)\n",
        "\n",
        "model = grid_search.best_estimator_.model\n",
        "model.evaluate(X_test, y_test)"
      ]
    }
  ],
  "metadata": {
    "colab": {
      "collapsed_sections": [],
      "name": "HW2.ipynb",
      "provenance": []
    },
    "kernelspec": {
      "display_name": "Python 3 (ipykernel)",
      "language": "python",
      "name": "python3"
    },
    "language_info": {
      "codemirror_mode": {
        "name": "ipython",
        "version": 3
      },
      "file_extension": ".py",
      "mimetype": "text/x-python",
      "name": "python",
      "nbconvert_exporter": "python",
      "pygments_lexer": "ipython3",
      "version": "3.8.8"
    },
    "widgets": {
      "application/vnd.jupyter.widget-state+json": {
        "310ec5beaa7143529d4b1a24c5d2633b": {
          "model_module": "@jupyter-widgets/controls",
          "model_name": "HBoxModel",
          "model_module_version": "1.5.0",
          "state": {
            "_dom_classes": [],
            "_model_module": "@jupyter-widgets/controls",
            "_model_module_version": "1.5.0",
            "_model_name": "HBoxModel",
            "_view_count": null,
            "_view_module": "@jupyter-widgets/controls",
            "_view_module_version": "1.5.0",
            "_view_name": "HBoxView",
            "box_style": "",
            "children": [
              "IPY_MODEL_6769e2f883084f48a0bb1fe2c7bf4585",
              "IPY_MODEL_d9fc587b3ee74d46b5b9513572294408",
              "IPY_MODEL_efaefac1dab04cfdbf7e0f419d317692"
            ],
            "layout": "IPY_MODEL_2c06e702ede44db4a3353284edfd2e99"
          }
        },
        "6769e2f883084f48a0bb1fe2c7bf4585": {
          "model_module": "@jupyter-widgets/controls",
          "model_name": "HTMLModel",
          "model_module_version": "1.5.0",
          "state": {
            "_dom_classes": [],
            "_model_module": "@jupyter-widgets/controls",
            "_model_module_version": "1.5.0",
            "_model_name": "HTMLModel",
            "_view_count": null,
            "_view_module": "@jupyter-widgets/controls",
            "_view_module_version": "1.5.0",
            "_view_name": "HTMLView",
            "description": "",
            "description_tooltip": null,
            "layout": "IPY_MODEL_96fe2b91a2e348b686e1710f820e6165",
            "placeholder": "​",
            "style": "IPY_MODEL_77e06a202a3f41e9a2b9fff6bbb9719c",
            "value": "Dl Completed...: "
          }
        },
        "d9fc587b3ee74d46b5b9513572294408": {
          "model_module": "@jupyter-widgets/controls",
          "model_name": "FloatProgressModel",
          "model_module_version": "1.5.0",
          "state": {
            "_dom_classes": [],
            "_model_module": "@jupyter-widgets/controls",
            "_model_module_version": "1.5.0",
            "_model_name": "FloatProgressModel",
            "_view_count": null,
            "_view_module": "@jupyter-widgets/controls",
            "_view_module_version": "1.5.0",
            "_view_name": "ProgressView",
            "bar_style": "success",
            "description": "",
            "description_tooltip": null,
            "layout": "IPY_MODEL_f1bf86f429f94cf4a093f8b7a210fe57",
            "max": 1,
            "min": 0,
            "orientation": "horizontal",
            "style": "IPY_MODEL_e217673dc16641fc83a6c49b2127c5c4",
            "value": 0
          }
        },
        "efaefac1dab04cfdbf7e0f419d317692": {
          "model_module": "@jupyter-widgets/controls",
          "model_name": "HTMLModel",
          "model_module_version": "1.5.0",
          "state": {
            "_dom_classes": [],
            "_model_module": "@jupyter-widgets/controls",
            "_model_module_version": "1.5.0",
            "_model_name": "HTMLModel",
            "_view_count": null,
            "_view_module": "@jupyter-widgets/controls",
            "_view_module_version": "1.5.0",
            "_view_name": "HTMLView",
            "description": "",
            "description_tooltip": null,
            "layout": "IPY_MODEL_466cfd8b34a54299ab0de8231f976fe7",
            "placeholder": "​",
            "style": "IPY_MODEL_2dacad80547244d4a876ee85f8d654fa",
            "value": " 0/0 [00:00&lt;?, ? url/s]"
          }
        },
        "2c06e702ede44db4a3353284edfd2e99": {
          "model_module": "@jupyter-widgets/base",
          "model_name": "LayoutModel",
          "model_module_version": "1.2.0",
          "state": {
            "_model_module": "@jupyter-widgets/base",
            "_model_module_version": "1.2.0",
            "_model_name": "LayoutModel",
            "_view_count": null,
            "_view_module": "@jupyter-widgets/base",
            "_view_module_version": "1.2.0",
            "_view_name": "LayoutView",
            "align_content": null,
            "align_items": null,
            "align_self": null,
            "border": null,
            "bottom": null,
            "display": null,
            "flex": null,
            "flex_flow": null,
            "grid_area": null,
            "grid_auto_columns": null,
            "grid_auto_flow": null,
            "grid_auto_rows": null,
            "grid_column": null,
            "grid_gap": null,
            "grid_row": null,
            "grid_template_areas": null,
            "grid_template_columns": null,
            "grid_template_rows": null,
            "height": null,
            "justify_content": null,
            "justify_items": null,
            "left": null,
            "margin": null,
            "max_height": null,
            "max_width": null,
            "min_height": null,
            "min_width": null,
            "object_fit": null,
            "object_position": null,
            "order": null,
            "overflow": null,
            "overflow_x": null,
            "overflow_y": null,
            "padding": null,
            "right": null,
            "top": null,
            "visibility": null,
            "width": null
          }
        },
        "96fe2b91a2e348b686e1710f820e6165": {
          "model_module": "@jupyter-widgets/base",
          "model_name": "LayoutModel",
          "model_module_version": "1.2.0",
          "state": {
            "_model_module": "@jupyter-widgets/base",
            "_model_module_version": "1.2.0",
            "_model_name": "LayoutModel",
            "_view_count": null,
            "_view_module": "@jupyter-widgets/base",
            "_view_module_version": "1.2.0",
            "_view_name": "LayoutView",
            "align_content": null,
            "align_items": null,
            "align_self": null,
            "border": null,
            "bottom": null,
            "display": null,
            "flex": null,
            "flex_flow": null,
            "grid_area": null,
            "grid_auto_columns": null,
            "grid_auto_flow": null,
            "grid_auto_rows": null,
            "grid_column": null,
            "grid_gap": null,
            "grid_row": null,
            "grid_template_areas": null,
            "grid_template_columns": null,
            "grid_template_rows": null,
            "height": null,
            "justify_content": null,
            "justify_items": null,
            "left": null,
            "margin": null,
            "max_height": null,
            "max_width": null,
            "min_height": null,
            "min_width": null,
            "object_fit": null,
            "object_position": null,
            "order": null,
            "overflow": null,
            "overflow_x": null,
            "overflow_y": null,
            "padding": null,
            "right": null,
            "top": null,
            "visibility": null,
            "width": null
          }
        },
        "77e06a202a3f41e9a2b9fff6bbb9719c": {
          "model_module": "@jupyter-widgets/controls",
          "model_name": "DescriptionStyleModel",
          "model_module_version": "1.5.0",
          "state": {
            "_model_module": "@jupyter-widgets/controls",
            "_model_module_version": "1.5.0",
            "_model_name": "DescriptionStyleModel",
            "_view_count": null,
            "_view_module": "@jupyter-widgets/base",
            "_view_module_version": "1.2.0",
            "_view_name": "StyleView",
            "description_width": ""
          }
        },
        "f1bf86f429f94cf4a093f8b7a210fe57": {
          "model_module": "@jupyter-widgets/base",
          "model_name": "LayoutModel",
          "model_module_version": "1.2.0",
          "state": {
            "_model_module": "@jupyter-widgets/base",
            "_model_module_version": "1.2.0",
            "_model_name": "LayoutModel",
            "_view_count": null,
            "_view_module": "@jupyter-widgets/base",
            "_view_module_version": "1.2.0",
            "_view_name": "LayoutView",
            "align_content": null,
            "align_items": null,
            "align_self": null,
            "border": null,
            "bottom": null,
            "display": null,
            "flex": null,
            "flex_flow": null,
            "grid_area": null,
            "grid_auto_columns": null,
            "grid_auto_flow": null,
            "grid_auto_rows": null,
            "grid_column": null,
            "grid_gap": null,
            "grid_row": null,
            "grid_template_areas": null,
            "grid_template_columns": null,
            "grid_template_rows": null,
            "height": null,
            "justify_content": null,
            "justify_items": null,
            "left": null,
            "margin": null,
            "max_height": null,
            "max_width": null,
            "min_height": null,
            "min_width": null,
            "object_fit": null,
            "object_position": null,
            "order": null,
            "overflow": null,
            "overflow_x": null,
            "overflow_y": null,
            "padding": null,
            "right": null,
            "top": null,
            "visibility": null,
            "width": "20px"
          }
        },
        "e217673dc16641fc83a6c49b2127c5c4": {
          "model_module": "@jupyter-widgets/controls",
          "model_name": "ProgressStyleModel",
          "model_module_version": "1.5.0",
          "state": {
            "_model_module": "@jupyter-widgets/controls",
            "_model_module_version": "1.5.0",
            "_model_name": "ProgressStyleModel",
            "_view_count": null,
            "_view_module": "@jupyter-widgets/base",
            "_view_module_version": "1.2.0",
            "_view_name": "StyleView",
            "bar_color": null,
            "description_width": ""
          }
        },
        "466cfd8b34a54299ab0de8231f976fe7": {
          "model_module": "@jupyter-widgets/base",
          "model_name": "LayoutModel",
          "model_module_version": "1.2.0",
          "state": {
            "_model_module": "@jupyter-widgets/base",
            "_model_module_version": "1.2.0",
            "_model_name": "LayoutModel",
            "_view_count": null,
            "_view_module": "@jupyter-widgets/base",
            "_view_module_version": "1.2.0",
            "_view_name": "LayoutView",
            "align_content": null,
            "align_items": null,
            "align_self": null,
            "border": null,
            "bottom": null,
            "display": null,
            "flex": null,
            "flex_flow": null,
            "grid_area": null,
            "grid_auto_columns": null,
            "grid_auto_flow": null,
            "grid_auto_rows": null,
            "grid_column": null,
            "grid_gap": null,
            "grid_row": null,
            "grid_template_areas": null,
            "grid_template_columns": null,
            "grid_template_rows": null,
            "height": null,
            "justify_content": null,
            "justify_items": null,
            "left": null,
            "margin": null,
            "max_height": null,
            "max_width": null,
            "min_height": null,
            "min_width": null,
            "object_fit": null,
            "object_position": null,
            "order": null,
            "overflow": null,
            "overflow_x": null,
            "overflow_y": null,
            "padding": null,
            "right": null,
            "top": null,
            "visibility": null,
            "width": null
          }
        },
        "2dacad80547244d4a876ee85f8d654fa": {
          "model_module": "@jupyter-widgets/controls",
          "model_name": "DescriptionStyleModel",
          "model_module_version": "1.5.0",
          "state": {
            "_model_module": "@jupyter-widgets/controls",
            "_model_module_version": "1.5.0",
            "_model_name": "DescriptionStyleModel",
            "_view_count": null,
            "_view_module": "@jupyter-widgets/base",
            "_view_module_version": "1.2.0",
            "_view_name": "StyleView",
            "description_width": ""
          }
        },
        "6ab6818ab15e473d8a96d6293c51b773": {
          "model_module": "@jupyter-widgets/controls",
          "model_name": "HBoxModel",
          "model_module_version": "1.5.0",
          "state": {
            "_dom_classes": [],
            "_model_module": "@jupyter-widgets/controls",
            "_model_module_version": "1.5.0",
            "_model_name": "HBoxModel",
            "_view_count": null,
            "_view_module": "@jupyter-widgets/controls",
            "_view_module_version": "1.5.0",
            "_view_name": "HBoxView",
            "box_style": "",
            "children": [
              "IPY_MODEL_e9a87993de07443792b1a019cce1e787",
              "IPY_MODEL_847cd7db996243cd85094d7972171c26",
              "IPY_MODEL_a1575932d60148c1a81c999a998113be"
            ],
            "layout": "IPY_MODEL_e5d9ece9acd340b1850020f34c2fd657"
          }
        },
        "e9a87993de07443792b1a019cce1e787": {
          "model_module": "@jupyter-widgets/controls",
          "model_name": "HTMLModel",
          "model_module_version": "1.5.0",
          "state": {
            "_dom_classes": [],
            "_model_module": "@jupyter-widgets/controls",
            "_model_module_version": "1.5.0",
            "_model_name": "HTMLModel",
            "_view_count": null,
            "_view_module": "@jupyter-widgets/controls",
            "_view_module_version": "1.5.0",
            "_view_name": "HTMLView",
            "description": "",
            "description_tooltip": null,
            "layout": "IPY_MODEL_efd1fc343c0a409eaff1f5e95fd1d6ac",
            "placeholder": "​",
            "style": "IPY_MODEL_a1ba8b510173445c83c50de050863f62",
            "value": "Dl Size...: "
          }
        },
        "847cd7db996243cd85094d7972171c26": {
          "model_module": "@jupyter-widgets/controls",
          "model_name": "FloatProgressModel",
          "model_module_version": "1.5.0",
          "state": {
            "_dom_classes": [],
            "_model_module": "@jupyter-widgets/controls",
            "_model_module_version": "1.5.0",
            "_model_name": "FloatProgressModel",
            "_view_count": null,
            "_view_module": "@jupyter-widgets/controls",
            "_view_module_version": "1.5.0",
            "_view_name": "ProgressView",
            "bar_style": "success",
            "description": "",
            "description_tooltip": null,
            "layout": "IPY_MODEL_2fbaf7a7ca2b48e09414f9de2d14c93e",
            "max": 1,
            "min": 0,
            "orientation": "horizontal",
            "style": "IPY_MODEL_81ef94b0dbc340dea62bb111fac92725",
            "value": 0
          }
        },
        "a1575932d60148c1a81c999a998113be": {
          "model_module": "@jupyter-widgets/controls",
          "model_name": "HTMLModel",
          "model_module_version": "1.5.0",
          "state": {
            "_dom_classes": [],
            "_model_module": "@jupyter-widgets/controls",
            "_model_module_version": "1.5.0",
            "_model_name": "HTMLModel",
            "_view_count": null,
            "_view_module": "@jupyter-widgets/controls",
            "_view_module_version": "1.5.0",
            "_view_name": "HTMLView",
            "description": "",
            "description_tooltip": null,
            "layout": "IPY_MODEL_5788e316daf84750acae733c4592ceea",
            "placeholder": "​",
            "style": "IPY_MODEL_9305b0028eea48dd88b8651eb3aeb13e",
            "value": " 0/0 [00:00&lt;?, ? MiB/s]"
          }
        },
        "e5d9ece9acd340b1850020f34c2fd657": {
          "model_module": "@jupyter-widgets/base",
          "model_name": "LayoutModel",
          "model_module_version": "1.2.0",
          "state": {
            "_model_module": "@jupyter-widgets/base",
            "_model_module_version": "1.2.0",
            "_model_name": "LayoutModel",
            "_view_count": null,
            "_view_module": "@jupyter-widgets/base",
            "_view_module_version": "1.2.0",
            "_view_name": "LayoutView",
            "align_content": null,
            "align_items": null,
            "align_self": null,
            "border": null,
            "bottom": null,
            "display": null,
            "flex": null,
            "flex_flow": null,
            "grid_area": null,
            "grid_auto_columns": null,
            "grid_auto_flow": null,
            "grid_auto_rows": null,
            "grid_column": null,
            "grid_gap": null,
            "grid_row": null,
            "grid_template_areas": null,
            "grid_template_columns": null,
            "grid_template_rows": null,
            "height": null,
            "justify_content": null,
            "justify_items": null,
            "left": null,
            "margin": null,
            "max_height": null,
            "max_width": null,
            "min_height": null,
            "min_width": null,
            "object_fit": null,
            "object_position": null,
            "order": null,
            "overflow": null,
            "overflow_x": null,
            "overflow_y": null,
            "padding": null,
            "right": null,
            "top": null,
            "visibility": null,
            "width": null
          }
        },
        "efd1fc343c0a409eaff1f5e95fd1d6ac": {
          "model_module": "@jupyter-widgets/base",
          "model_name": "LayoutModel",
          "model_module_version": "1.2.0",
          "state": {
            "_model_module": "@jupyter-widgets/base",
            "_model_module_version": "1.2.0",
            "_model_name": "LayoutModel",
            "_view_count": null,
            "_view_module": "@jupyter-widgets/base",
            "_view_module_version": "1.2.0",
            "_view_name": "LayoutView",
            "align_content": null,
            "align_items": null,
            "align_self": null,
            "border": null,
            "bottom": null,
            "display": null,
            "flex": null,
            "flex_flow": null,
            "grid_area": null,
            "grid_auto_columns": null,
            "grid_auto_flow": null,
            "grid_auto_rows": null,
            "grid_column": null,
            "grid_gap": null,
            "grid_row": null,
            "grid_template_areas": null,
            "grid_template_columns": null,
            "grid_template_rows": null,
            "height": null,
            "justify_content": null,
            "justify_items": null,
            "left": null,
            "margin": null,
            "max_height": null,
            "max_width": null,
            "min_height": null,
            "min_width": null,
            "object_fit": null,
            "object_position": null,
            "order": null,
            "overflow": null,
            "overflow_x": null,
            "overflow_y": null,
            "padding": null,
            "right": null,
            "top": null,
            "visibility": null,
            "width": null
          }
        },
        "a1ba8b510173445c83c50de050863f62": {
          "model_module": "@jupyter-widgets/controls",
          "model_name": "DescriptionStyleModel",
          "model_module_version": "1.5.0",
          "state": {
            "_model_module": "@jupyter-widgets/controls",
            "_model_module_version": "1.5.0",
            "_model_name": "DescriptionStyleModel",
            "_view_count": null,
            "_view_module": "@jupyter-widgets/base",
            "_view_module_version": "1.2.0",
            "_view_name": "StyleView",
            "description_width": ""
          }
        },
        "2fbaf7a7ca2b48e09414f9de2d14c93e": {
          "model_module": "@jupyter-widgets/base",
          "model_name": "LayoutModel",
          "model_module_version": "1.2.0",
          "state": {
            "_model_module": "@jupyter-widgets/base",
            "_model_module_version": "1.2.0",
            "_model_name": "LayoutModel",
            "_view_count": null,
            "_view_module": "@jupyter-widgets/base",
            "_view_module_version": "1.2.0",
            "_view_name": "LayoutView",
            "align_content": null,
            "align_items": null,
            "align_self": null,
            "border": null,
            "bottom": null,
            "display": null,
            "flex": null,
            "flex_flow": null,
            "grid_area": null,
            "grid_auto_columns": null,
            "grid_auto_flow": null,
            "grid_auto_rows": null,
            "grid_column": null,
            "grid_gap": null,
            "grid_row": null,
            "grid_template_areas": null,
            "grid_template_columns": null,
            "grid_template_rows": null,
            "height": null,
            "justify_content": null,
            "justify_items": null,
            "left": null,
            "margin": null,
            "max_height": null,
            "max_width": null,
            "min_height": null,
            "min_width": null,
            "object_fit": null,
            "object_position": null,
            "order": null,
            "overflow": null,
            "overflow_x": null,
            "overflow_y": null,
            "padding": null,
            "right": null,
            "top": null,
            "visibility": null,
            "width": "20px"
          }
        },
        "81ef94b0dbc340dea62bb111fac92725": {
          "model_module": "@jupyter-widgets/controls",
          "model_name": "ProgressStyleModel",
          "model_module_version": "1.5.0",
          "state": {
            "_model_module": "@jupyter-widgets/controls",
            "_model_module_version": "1.5.0",
            "_model_name": "ProgressStyleModel",
            "_view_count": null,
            "_view_module": "@jupyter-widgets/base",
            "_view_module_version": "1.2.0",
            "_view_name": "StyleView",
            "bar_color": null,
            "description_width": ""
          }
        },
        "5788e316daf84750acae733c4592ceea": {
          "model_module": "@jupyter-widgets/base",
          "model_name": "LayoutModel",
          "model_module_version": "1.2.0",
          "state": {
            "_model_module": "@jupyter-widgets/base",
            "_model_module_version": "1.2.0",
            "_model_name": "LayoutModel",
            "_view_count": null,
            "_view_module": "@jupyter-widgets/base",
            "_view_module_version": "1.2.0",
            "_view_name": "LayoutView",
            "align_content": null,
            "align_items": null,
            "align_self": null,
            "border": null,
            "bottom": null,
            "display": null,
            "flex": null,
            "flex_flow": null,
            "grid_area": null,
            "grid_auto_columns": null,
            "grid_auto_flow": null,
            "grid_auto_rows": null,
            "grid_column": null,
            "grid_gap": null,
            "grid_row": null,
            "grid_template_areas": null,
            "grid_template_columns": null,
            "grid_template_rows": null,
            "height": null,
            "justify_content": null,
            "justify_items": null,
            "left": null,
            "margin": null,
            "max_height": null,
            "max_width": null,
            "min_height": null,
            "min_width": null,
            "object_fit": null,
            "object_position": null,
            "order": null,
            "overflow": null,
            "overflow_x": null,
            "overflow_y": null,
            "padding": null,
            "right": null,
            "top": null,
            "visibility": null,
            "width": null
          }
        },
        "9305b0028eea48dd88b8651eb3aeb13e": {
          "model_module": "@jupyter-widgets/controls",
          "model_name": "DescriptionStyleModel",
          "model_module_version": "1.5.0",
          "state": {
            "_model_module": "@jupyter-widgets/controls",
            "_model_module_version": "1.5.0",
            "_model_name": "DescriptionStyleModel",
            "_view_count": null,
            "_view_module": "@jupyter-widgets/base",
            "_view_module_version": "1.2.0",
            "_view_name": "StyleView",
            "description_width": ""
          }
        },
        "cc1fec97cd844142a7e98ee2246d3581": {
          "model_module": "@jupyter-widgets/controls",
          "model_name": "HBoxModel",
          "model_module_version": "1.5.0",
          "state": {
            "_dom_classes": [],
            "_model_module": "@jupyter-widgets/controls",
            "_model_module_version": "1.5.0",
            "_model_name": "HBoxModel",
            "_view_count": null,
            "_view_module": "@jupyter-widgets/controls",
            "_view_module_version": "1.5.0",
            "_view_name": "HBoxView",
            "box_style": "",
            "children": [
              "IPY_MODEL_476b1f40496c4921ab12f1b28fe083b2",
              "IPY_MODEL_37eeda44511e4292a879216afef97a2c",
              "IPY_MODEL_fd61b3d625d1483587f699ae734f2182"
            ],
            "layout": "IPY_MODEL_0186e2c36fca4295800ab4b203ee71cf"
          }
        },
        "476b1f40496c4921ab12f1b28fe083b2": {
          "model_module": "@jupyter-widgets/controls",
          "model_name": "HTMLModel",
          "model_module_version": "1.5.0",
          "state": {
            "_dom_classes": [],
            "_model_module": "@jupyter-widgets/controls",
            "_model_module_version": "1.5.0",
            "_model_name": "HTMLModel",
            "_view_count": null,
            "_view_module": "@jupyter-widgets/controls",
            "_view_module_version": "1.5.0",
            "_view_name": "HTMLView",
            "description": "",
            "description_tooltip": null,
            "layout": "IPY_MODEL_f89f55042e1546f8b10480b2a0f47bc1",
            "placeholder": "​",
            "style": "IPY_MODEL_9f1b121208024c1ebaf1e8ccc14573f7",
            "value": "Extraction completed...: 100%"
          }
        },
        "37eeda44511e4292a879216afef97a2c": {
          "model_module": "@jupyter-widgets/controls",
          "model_name": "FloatProgressModel",
          "model_module_version": "1.5.0",
          "state": {
            "_dom_classes": [],
            "_model_module": "@jupyter-widgets/controls",
            "_model_module_version": "1.5.0",
            "_model_name": "FloatProgressModel",
            "_view_count": null,
            "_view_module": "@jupyter-widgets/controls",
            "_view_module_version": "1.5.0",
            "_view_name": "ProgressView",
            "bar_style": "success",
            "description": "",
            "description_tooltip": null,
            "layout": "IPY_MODEL_e44f45dc869d41e19d700e327e8dd26b",
            "max": 1,
            "min": 0,
            "orientation": "horizontal",
            "style": "IPY_MODEL_6f41266a7c7a4ea1b42d2ea9629d3875",
            "value": 1
          }
        },
        "fd61b3d625d1483587f699ae734f2182": {
          "model_module": "@jupyter-widgets/controls",
          "model_name": "HTMLModel",
          "model_module_version": "1.5.0",
          "state": {
            "_dom_classes": [],
            "_model_module": "@jupyter-widgets/controls",
            "_model_module_version": "1.5.0",
            "_model_name": "HTMLModel",
            "_view_count": null,
            "_view_module": "@jupyter-widgets/controls",
            "_view_module_version": "1.5.0",
            "_view_name": "HTMLView",
            "description": "",
            "description_tooltip": null,
            "layout": "IPY_MODEL_3fe16598c94247908be3d7dc8ed60a5a",
            "placeholder": "​",
            "style": "IPY_MODEL_c7f10546e55b4d288a05d55a66369a08",
            "value": " 1/1 [00:00&lt;00:00,  2.09 file/s]"
          }
        },
        "0186e2c36fca4295800ab4b203ee71cf": {
          "model_module": "@jupyter-widgets/base",
          "model_name": "LayoutModel",
          "model_module_version": "1.2.0",
          "state": {
            "_model_module": "@jupyter-widgets/base",
            "_model_module_version": "1.2.0",
            "_model_name": "LayoutModel",
            "_view_count": null,
            "_view_module": "@jupyter-widgets/base",
            "_view_module_version": "1.2.0",
            "_view_name": "LayoutView",
            "align_content": null,
            "align_items": null,
            "align_self": null,
            "border": null,
            "bottom": null,
            "display": null,
            "flex": null,
            "flex_flow": null,
            "grid_area": null,
            "grid_auto_columns": null,
            "grid_auto_flow": null,
            "grid_auto_rows": null,
            "grid_column": null,
            "grid_gap": null,
            "grid_row": null,
            "grid_template_areas": null,
            "grid_template_columns": null,
            "grid_template_rows": null,
            "height": null,
            "justify_content": null,
            "justify_items": null,
            "left": null,
            "margin": null,
            "max_height": null,
            "max_width": null,
            "min_height": null,
            "min_width": null,
            "object_fit": null,
            "object_position": null,
            "order": null,
            "overflow": null,
            "overflow_x": null,
            "overflow_y": null,
            "padding": null,
            "right": null,
            "top": null,
            "visibility": null,
            "width": null
          }
        },
        "f89f55042e1546f8b10480b2a0f47bc1": {
          "model_module": "@jupyter-widgets/base",
          "model_name": "LayoutModel",
          "model_module_version": "1.2.0",
          "state": {
            "_model_module": "@jupyter-widgets/base",
            "_model_module_version": "1.2.0",
            "_model_name": "LayoutModel",
            "_view_count": null,
            "_view_module": "@jupyter-widgets/base",
            "_view_module_version": "1.2.0",
            "_view_name": "LayoutView",
            "align_content": null,
            "align_items": null,
            "align_self": null,
            "border": null,
            "bottom": null,
            "display": null,
            "flex": null,
            "flex_flow": null,
            "grid_area": null,
            "grid_auto_columns": null,
            "grid_auto_flow": null,
            "grid_auto_rows": null,
            "grid_column": null,
            "grid_gap": null,
            "grid_row": null,
            "grid_template_areas": null,
            "grid_template_columns": null,
            "grid_template_rows": null,
            "height": null,
            "justify_content": null,
            "justify_items": null,
            "left": null,
            "margin": null,
            "max_height": null,
            "max_width": null,
            "min_height": null,
            "min_width": null,
            "object_fit": null,
            "object_position": null,
            "order": null,
            "overflow": null,
            "overflow_x": null,
            "overflow_y": null,
            "padding": null,
            "right": null,
            "top": null,
            "visibility": null,
            "width": null
          }
        },
        "9f1b121208024c1ebaf1e8ccc14573f7": {
          "model_module": "@jupyter-widgets/controls",
          "model_name": "DescriptionStyleModel",
          "model_module_version": "1.5.0",
          "state": {
            "_model_module": "@jupyter-widgets/controls",
            "_model_module_version": "1.5.0",
            "_model_name": "DescriptionStyleModel",
            "_view_count": null,
            "_view_module": "@jupyter-widgets/base",
            "_view_module_version": "1.2.0",
            "_view_name": "StyleView",
            "description_width": ""
          }
        },
        "e44f45dc869d41e19d700e327e8dd26b": {
          "model_module": "@jupyter-widgets/base",
          "model_name": "LayoutModel",
          "model_module_version": "1.2.0",
          "state": {
            "_model_module": "@jupyter-widgets/base",
            "_model_module_version": "1.2.0",
            "_model_name": "LayoutModel",
            "_view_count": null,
            "_view_module": "@jupyter-widgets/base",
            "_view_module_version": "1.2.0",
            "_view_name": "LayoutView",
            "align_content": null,
            "align_items": null,
            "align_self": null,
            "border": null,
            "bottom": null,
            "display": null,
            "flex": null,
            "flex_flow": null,
            "grid_area": null,
            "grid_auto_columns": null,
            "grid_auto_flow": null,
            "grid_auto_rows": null,
            "grid_column": null,
            "grid_gap": null,
            "grid_row": null,
            "grid_template_areas": null,
            "grid_template_columns": null,
            "grid_template_rows": null,
            "height": null,
            "justify_content": null,
            "justify_items": null,
            "left": null,
            "margin": null,
            "max_height": null,
            "max_width": null,
            "min_height": null,
            "min_width": null,
            "object_fit": null,
            "object_position": null,
            "order": null,
            "overflow": null,
            "overflow_x": null,
            "overflow_y": null,
            "padding": null,
            "right": null,
            "top": null,
            "visibility": null,
            "width": "20px"
          }
        },
        "6f41266a7c7a4ea1b42d2ea9629d3875": {
          "model_module": "@jupyter-widgets/controls",
          "model_name": "ProgressStyleModel",
          "model_module_version": "1.5.0",
          "state": {
            "_model_module": "@jupyter-widgets/controls",
            "_model_module_version": "1.5.0",
            "_model_name": "ProgressStyleModel",
            "_view_count": null,
            "_view_module": "@jupyter-widgets/base",
            "_view_module_version": "1.2.0",
            "_view_name": "StyleView",
            "bar_color": null,
            "description_width": ""
          }
        },
        "3fe16598c94247908be3d7dc8ed60a5a": {
          "model_module": "@jupyter-widgets/base",
          "model_name": "LayoutModel",
          "model_module_version": "1.2.0",
          "state": {
            "_model_module": "@jupyter-widgets/base",
            "_model_module_version": "1.2.0",
            "_model_name": "LayoutModel",
            "_view_count": null,
            "_view_module": "@jupyter-widgets/base",
            "_view_module_version": "1.2.0",
            "_view_name": "LayoutView",
            "align_content": null,
            "align_items": null,
            "align_self": null,
            "border": null,
            "bottom": null,
            "display": null,
            "flex": null,
            "flex_flow": null,
            "grid_area": null,
            "grid_auto_columns": null,
            "grid_auto_flow": null,
            "grid_auto_rows": null,
            "grid_column": null,
            "grid_gap": null,
            "grid_row": null,
            "grid_template_areas": null,
            "grid_template_columns": null,
            "grid_template_rows": null,
            "height": null,
            "justify_content": null,
            "justify_items": null,
            "left": null,
            "margin": null,
            "max_height": null,
            "max_width": null,
            "min_height": null,
            "min_width": null,
            "object_fit": null,
            "object_position": null,
            "order": null,
            "overflow": null,
            "overflow_x": null,
            "overflow_y": null,
            "padding": null,
            "right": null,
            "top": null,
            "visibility": null,
            "width": null
          }
        },
        "c7f10546e55b4d288a05d55a66369a08": {
          "model_module": "@jupyter-widgets/controls",
          "model_name": "DescriptionStyleModel",
          "model_module_version": "1.5.0",
          "state": {
            "_model_module": "@jupyter-widgets/controls",
            "_model_module_version": "1.5.0",
            "_model_name": "DescriptionStyleModel",
            "_view_count": null,
            "_view_module": "@jupyter-widgets/base",
            "_view_module_version": "1.2.0",
            "_view_name": "StyleView",
            "description_width": ""
          }
        },
        "1f5c2c7c6e954144a206e73966295082": {
          "model_module": "@jupyter-widgets/controls",
          "model_name": "HBoxModel",
          "model_module_version": "1.5.0",
          "state": {
            "_dom_classes": [],
            "_model_module": "@jupyter-widgets/controls",
            "_model_module_version": "1.5.0",
            "_model_name": "HBoxModel",
            "_view_count": null,
            "_view_module": "@jupyter-widgets/controls",
            "_view_module_version": "1.5.0",
            "_view_name": "HBoxView",
            "box_style": "",
            "children": [
              "IPY_MODEL_1845d674112443c1931532c875906110",
              "IPY_MODEL_bbdc62c0ad8a4dd89e6a65cd9cd3a139",
              "IPY_MODEL_6551a6d22c724db18561b4fb4ff0c6ad"
            ],
            "layout": "IPY_MODEL_dac03c599051400097536ca0957b091b"
          }
        },
        "1845d674112443c1931532c875906110": {
          "model_module": "@jupyter-widgets/controls",
          "model_name": "HTMLModel",
          "model_module_version": "1.5.0",
          "state": {
            "_dom_classes": [],
            "_model_module": "@jupyter-widgets/controls",
            "_model_module_version": "1.5.0",
            "_model_name": "HTMLModel",
            "_view_count": null,
            "_view_module": "@jupyter-widgets/controls",
            "_view_module_version": "1.5.0",
            "_view_name": "HTMLView",
            "description": "",
            "description_tooltip": null,
            "layout": "IPY_MODEL_2332c3bfbe1347a598cf14b6562265c0",
            "placeholder": "​",
            "style": "IPY_MODEL_837fafff76114e5bab13bbe975dda49e",
            "value": ""
          }
        },
        "bbdc62c0ad8a4dd89e6a65cd9cd3a139": {
          "model_module": "@jupyter-widgets/controls",
          "model_name": "FloatProgressModel",
          "model_module_version": "1.5.0",
          "state": {
            "_dom_classes": [],
            "_model_module": "@jupyter-widgets/controls",
            "_model_module_version": "1.5.0",
            "_model_name": "FloatProgressModel",
            "_view_count": null,
            "_view_module": "@jupyter-widgets/controls",
            "_view_module_version": "1.5.0",
            "_view_name": "ProgressView",
            "bar_style": "info",
            "description": "",
            "description_tooltip": null,
            "layout": "IPY_MODEL_eac19ddbae444cc8a9a7dbbfc2d419f3",
            "max": 1,
            "min": 0,
            "orientation": "horizontal",
            "style": "IPY_MODEL_683be22a55714929aedbe9c2cb9abc9a",
            "value": 1
          }
        },
        "6551a6d22c724db18561b4fb4ff0c6ad": {
          "model_module": "@jupyter-widgets/controls",
          "model_name": "HTMLModel",
          "model_module_version": "1.5.0",
          "state": {
            "_dom_classes": [],
            "_model_module": "@jupyter-widgets/controls",
            "_model_module_version": "1.5.0",
            "_model_name": "HTMLModel",
            "_view_count": null,
            "_view_module": "@jupyter-widgets/controls",
            "_view_module_version": "1.5.0",
            "_view_name": "HTMLView",
            "description": "",
            "description_tooltip": null,
            "layout": "IPY_MODEL_6b934a33725e4c89bbba4cabf678f6e0",
            "placeholder": "​",
            "style": "IPY_MODEL_4abf57f89fd445fcade9dc51da5dc60b",
            "value": " 119734/0 [00:34&lt;00:00, 3482.32 examples/s]"
          }
        },
        "dac03c599051400097536ca0957b091b": {
          "model_module": "@jupyter-widgets/base",
          "model_name": "LayoutModel",
          "model_module_version": "1.2.0",
          "state": {
            "_model_module": "@jupyter-widgets/base",
            "_model_module_version": "1.2.0",
            "_model_name": "LayoutModel",
            "_view_count": null,
            "_view_module": "@jupyter-widgets/base",
            "_view_module_version": "1.2.0",
            "_view_name": "LayoutView",
            "align_content": null,
            "align_items": null,
            "align_self": null,
            "border": null,
            "bottom": null,
            "display": null,
            "flex": null,
            "flex_flow": null,
            "grid_area": null,
            "grid_auto_columns": null,
            "grid_auto_flow": null,
            "grid_auto_rows": null,
            "grid_column": null,
            "grid_gap": null,
            "grid_row": null,
            "grid_template_areas": null,
            "grid_template_columns": null,
            "grid_template_rows": null,
            "height": null,
            "justify_content": null,
            "justify_items": null,
            "left": null,
            "margin": null,
            "max_height": null,
            "max_width": null,
            "min_height": null,
            "min_width": null,
            "object_fit": null,
            "object_position": null,
            "order": null,
            "overflow": null,
            "overflow_x": null,
            "overflow_y": null,
            "padding": null,
            "right": null,
            "top": null,
            "visibility": null,
            "width": null
          }
        },
        "2332c3bfbe1347a598cf14b6562265c0": {
          "model_module": "@jupyter-widgets/base",
          "model_name": "LayoutModel",
          "model_module_version": "1.2.0",
          "state": {
            "_model_module": "@jupyter-widgets/base",
            "_model_module_version": "1.2.0",
            "_model_name": "LayoutModel",
            "_view_count": null,
            "_view_module": "@jupyter-widgets/base",
            "_view_module_version": "1.2.0",
            "_view_name": "LayoutView",
            "align_content": null,
            "align_items": null,
            "align_self": null,
            "border": null,
            "bottom": null,
            "display": null,
            "flex": null,
            "flex_flow": null,
            "grid_area": null,
            "grid_auto_columns": null,
            "grid_auto_flow": null,
            "grid_auto_rows": null,
            "grid_column": null,
            "grid_gap": null,
            "grid_row": null,
            "grid_template_areas": null,
            "grid_template_columns": null,
            "grid_template_rows": null,
            "height": null,
            "justify_content": null,
            "justify_items": null,
            "left": null,
            "margin": null,
            "max_height": null,
            "max_width": null,
            "min_height": null,
            "min_width": null,
            "object_fit": null,
            "object_position": null,
            "order": null,
            "overflow": null,
            "overflow_x": null,
            "overflow_y": null,
            "padding": null,
            "right": null,
            "top": null,
            "visibility": null,
            "width": null
          }
        },
        "837fafff76114e5bab13bbe975dda49e": {
          "model_module": "@jupyter-widgets/controls",
          "model_name": "DescriptionStyleModel",
          "model_module_version": "1.5.0",
          "state": {
            "_model_module": "@jupyter-widgets/controls",
            "_model_module_version": "1.5.0",
            "_model_name": "DescriptionStyleModel",
            "_view_count": null,
            "_view_module": "@jupyter-widgets/base",
            "_view_module_version": "1.2.0",
            "_view_name": "StyleView",
            "description_width": ""
          }
        },
        "eac19ddbae444cc8a9a7dbbfc2d419f3": {
          "model_module": "@jupyter-widgets/base",
          "model_name": "LayoutModel",
          "model_module_version": "1.2.0",
          "state": {
            "_model_module": "@jupyter-widgets/base",
            "_model_module_version": "1.2.0",
            "_model_name": "LayoutModel",
            "_view_count": null,
            "_view_module": "@jupyter-widgets/base",
            "_view_module_version": "1.2.0",
            "_view_name": "LayoutView",
            "align_content": null,
            "align_items": null,
            "align_self": null,
            "border": null,
            "bottom": null,
            "display": null,
            "flex": null,
            "flex_flow": null,
            "grid_area": null,
            "grid_auto_columns": null,
            "grid_auto_flow": null,
            "grid_auto_rows": null,
            "grid_column": null,
            "grid_gap": null,
            "grid_row": null,
            "grid_template_areas": null,
            "grid_template_columns": null,
            "grid_template_rows": null,
            "height": null,
            "justify_content": null,
            "justify_items": null,
            "left": null,
            "margin": null,
            "max_height": null,
            "max_width": null,
            "min_height": null,
            "min_width": null,
            "object_fit": null,
            "object_position": null,
            "order": null,
            "overflow": null,
            "overflow_x": null,
            "overflow_y": null,
            "padding": null,
            "right": null,
            "top": null,
            "visibility": null,
            "width": "20px"
          }
        },
        "683be22a55714929aedbe9c2cb9abc9a": {
          "model_module": "@jupyter-widgets/controls",
          "model_name": "ProgressStyleModel",
          "model_module_version": "1.5.0",
          "state": {
            "_model_module": "@jupyter-widgets/controls",
            "_model_module_version": "1.5.0",
            "_model_name": "ProgressStyleModel",
            "_view_count": null,
            "_view_module": "@jupyter-widgets/base",
            "_view_module_version": "1.2.0",
            "_view_name": "StyleView",
            "bar_color": null,
            "description_width": ""
          }
        },
        "6b934a33725e4c89bbba4cabf678f6e0": {
          "model_module": "@jupyter-widgets/base",
          "model_name": "LayoutModel",
          "model_module_version": "1.2.0",
          "state": {
            "_model_module": "@jupyter-widgets/base",
            "_model_module_version": "1.2.0",
            "_model_name": "LayoutModel",
            "_view_count": null,
            "_view_module": "@jupyter-widgets/base",
            "_view_module_version": "1.2.0",
            "_view_name": "LayoutView",
            "align_content": null,
            "align_items": null,
            "align_self": null,
            "border": null,
            "bottom": null,
            "display": null,
            "flex": null,
            "flex_flow": null,
            "grid_area": null,
            "grid_auto_columns": null,
            "grid_auto_flow": null,
            "grid_auto_rows": null,
            "grid_column": null,
            "grid_gap": null,
            "grid_row": null,
            "grid_template_areas": null,
            "grid_template_columns": null,
            "grid_template_rows": null,
            "height": null,
            "justify_content": null,
            "justify_items": null,
            "left": null,
            "margin": null,
            "max_height": null,
            "max_width": null,
            "min_height": null,
            "min_width": null,
            "object_fit": null,
            "object_position": null,
            "order": null,
            "overflow": null,
            "overflow_x": null,
            "overflow_y": null,
            "padding": null,
            "right": null,
            "top": null,
            "visibility": null,
            "width": null
          }
        },
        "4abf57f89fd445fcade9dc51da5dc60b": {
          "model_module": "@jupyter-widgets/controls",
          "model_name": "DescriptionStyleModel",
          "model_module_version": "1.5.0",
          "state": {
            "_model_module": "@jupyter-widgets/controls",
            "_model_module_version": "1.5.0",
            "_model_name": "DescriptionStyleModel",
            "_view_count": null,
            "_view_module": "@jupyter-widgets/base",
            "_view_module_version": "1.2.0",
            "_view_name": "StyleView",
            "description_width": ""
          }
        },
        "606d1d56a003496db6b92c8f264dcd60": {
          "model_module": "@jupyter-widgets/controls",
          "model_name": "HBoxModel",
          "model_module_version": "1.5.0",
          "state": {
            "_dom_classes": [],
            "_model_module": "@jupyter-widgets/controls",
            "_model_module_version": "1.5.0",
            "_model_name": "HBoxModel",
            "_view_count": null,
            "_view_module": "@jupyter-widgets/controls",
            "_view_module_version": "1.5.0",
            "_view_name": "HBoxView",
            "box_style": "",
            "children": [
              "IPY_MODEL_658d32b49ed744358cf1248ec11f7696",
              "IPY_MODEL_81755f8bb88244daac1aff9624c8f632",
              "IPY_MODEL_81c6a34dfe9443a3b003803a326a1f9d"
            ],
            "layout": "IPY_MODEL_2342fbc65ef6424586071197da5a8346"
          }
        },
        "658d32b49ed744358cf1248ec11f7696": {
          "model_module": "@jupyter-widgets/controls",
          "model_name": "HTMLModel",
          "model_module_version": "1.5.0",
          "state": {
            "_dom_classes": [],
            "_model_module": "@jupyter-widgets/controls",
            "_model_module_version": "1.5.0",
            "_model_name": "HTMLModel",
            "_view_count": null,
            "_view_module": "@jupyter-widgets/controls",
            "_view_module_version": "1.5.0",
            "_view_name": "HTMLView",
            "description": "",
            "description_tooltip": null,
            "layout": "IPY_MODEL_07ac76dc201644f6b2b8cc4ba75d628c",
            "placeholder": "​",
            "style": "IPY_MODEL_43357f8dc23d475499dcf62529e985f0",
            "value": "100%"
          }
        },
        "81755f8bb88244daac1aff9624c8f632": {
          "model_module": "@jupyter-widgets/controls",
          "model_name": "FloatProgressModel",
          "model_module_version": "1.5.0",
          "state": {
            "_dom_classes": [],
            "_model_module": "@jupyter-widgets/controls",
            "_model_module_version": "1.5.0",
            "_model_name": "FloatProgressModel",
            "_view_count": null,
            "_view_module": "@jupyter-widgets/controls",
            "_view_module_version": "1.5.0",
            "_view_name": "ProgressView",
            "bar_style": "danger",
            "description": "",
            "description_tooltip": null,
            "layout": "IPY_MODEL_4ce926320c704f26be36b580daef2e80",
            "max": 120000,
            "min": 0,
            "orientation": "horizontal",
            "style": "IPY_MODEL_0a60dfc7cd504cb793c87650fa9119ad",
            "value": 119999
          }
        },
        "81c6a34dfe9443a3b003803a326a1f9d": {
          "model_module": "@jupyter-widgets/controls",
          "model_name": "HTMLModel",
          "model_module_version": "1.5.0",
          "state": {
            "_dom_classes": [],
            "_model_module": "@jupyter-widgets/controls",
            "_model_module_version": "1.5.0",
            "_model_name": "HTMLModel",
            "_view_count": null,
            "_view_module": "@jupyter-widgets/controls",
            "_view_module_version": "1.5.0",
            "_view_name": "HTMLView",
            "description": "",
            "description_tooltip": null,
            "layout": "IPY_MODEL_b01f90942e494b909d88408e469b4c7d",
            "placeholder": "​",
            "style": "IPY_MODEL_9a9ea94eed514027963ef7b757f555e7",
            "value": " 119999/120000 [00:00&lt;00:00, 263985.97 examples/s]"
          }
        },
        "2342fbc65ef6424586071197da5a8346": {
          "model_module": "@jupyter-widgets/base",
          "model_name": "LayoutModel",
          "model_module_version": "1.2.0",
          "state": {
            "_model_module": "@jupyter-widgets/base",
            "_model_module_version": "1.2.0",
            "_model_name": "LayoutModel",
            "_view_count": null,
            "_view_module": "@jupyter-widgets/base",
            "_view_module_version": "1.2.0",
            "_view_name": "LayoutView",
            "align_content": null,
            "align_items": null,
            "align_self": null,
            "border": null,
            "bottom": null,
            "display": null,
            "flex": null,
            "flex_flow": null,
            "grid_area": null,
            "grid_auto_columns": null,
            "grid_auto_flow": null,
            "grid_auto_rows": null,
            "grid_column": null,
            "grid_gap": null,
            "grid_row": null,
            "grid_template_areas": null,
            "grid_template_columns": null,
            "grid_template_rows": null,
            "height": null,
            "justify_content": null,
            "justify_items": null,
            "left": null,
            "margin": null,
            "max_height": null,
            "max_width": null,
            "min_height": null,
            "min_width": null,
            "object_fit": null,
            "object_position": null,
            "order": null,
            "overflow": null,
            "overflow_x": null,
            "overflow_y": null,
            "padding": null,
            "right": null,
            "top": null,
            "visibility": null,
            "width": null
          }
        },
        "07ac76dc201644f6b2b8cc4ba75d628c": {
          "model_module": "@jupyter-widgets/base",
          "model_name": "LayoutModel",
          "model_module_version": "1.2.0",
          "state": {
            "_model_module": "@jupyter-widgets/base",
            "_model_module_version": "1.2.0",
            "_model_name": "LayoutModel",
            "_view_count": null,
            "_view_module": "@jupyter-widgets/base",
            "_view_module_version": "1.2.0",
            "_view_name": "LayoutView",
            "align_content": null,
            "align_items": null,
            "align_self": null,
            "border": null,
            "bottom": null,
            "display": null,
            "flex": null,
            "flex_flow": null,
            "grid_area": null,
            "grid_auto_columns": null,
            "grid_auto_flow": null,
            "grid_auto_rows": null,
            "grid_column": null,
            "grid_gap": null,
            "grid_row": null,
            "grid_template_areas": null,
            "grid_template_columns": null,
            "grid_template_rows": null,
            "height": null,
            "justify_content": null,
            "justify_items": null,
            "left": null,
            "margin": null,
            "max_height": null,
            "max_width": null,
            "min_height": null,
            "min_width": null,
            "object_fit": null,
            "object_position": null,
            "order": null,
            "overflow": null,
            "overflow_x": null,
            "overflow_y": null,
            "padding": null,
            "right": null,
            "top": null,
            "visibility": null,
            "width": null
          }
        },
        "43357f8dc23d475499dcf62529e985f0": {
          "model_module": "@jupyter-widgets/controls",
          "model_name": "DescriptionStyleModel",
          "model_module_version": "1.5.0",
          "state": {
            "_model_module": "@jupyter-widgets/controls",
            "_model_module_version": "1.5.0",
            "_model_name": "DescriptionStyleModel",
            "_view_count": null,
            "_view_module": "@jupyter-widgets/base",
            "_view_module_version": "1.2.0",
            "_view_name": "StyleView",
            "description_width": ""
          }
        },
        "4ce926320c704f26be36b580daef2e80": {
          "model_module": "@jupyter-widgets/base",
          "model_name": "LayoutModel",
          "model_module_version": "1.2.0",
          "state": {
            "_model_module": "@jupyter-widgets/base",
            "_model_module_version": "1.2.0",
            "_model_name": "LayoutModel",
            "_view_count": null,
            "_view_module": "@jupyter-widgets/base",
            "_view_module_version": "1.2.0",
            "_view_name": "LayoutView",
            "align_content": null,
            "align_items": null,
            "align_self": null,
            "border": null,
            "bottom": null,
            "display": null,
            "flex": null,
            "flex_flow": null,
            "grid_area": null,
            "grid_auto_columns": null,
            "grid_auto_flow": null,
            "grid_auto_rows": null,
            "grid_column": null,
            "grid_gap": null,
            "grid_row": null,
            "grid_template_areas": null,
            "grid_template_columns": null,
            "grid_template_rows": null,
            "height": null,
            "justify_content": null,
            "justify_items": null,
            "left": null,
            "margin": null,
            "max_height": null,
            "max_width": null,
            "min_height": null,
            "min_width": null,
            "object_fit": null,
            "object_position": null,
            "order": null,
            "overflow": null,
            "overflow_x": null,
            "overflow_y": null,
            "padding": null,
            "right": null,
            "top": null,
            "visibility": null,
            "width": null
          }
        },
        "0a60dfc7cd504cb793c87650fa9119ad": {
          "model_module": "@jupyter-widgets/controls",
          "model_name": "ProgressStyleModel",
          "model_module_version": "1.5.0",
          "state": {
            "_model_module": "@jupyter-widgets/controls",
            "_model_module_version": "1.5.0",
            "_model_name": "ProgressStyleModel",
            "_view_count": null,
            "_view_module": "@jupyter-widgets/base",
            "_view_module_version": "1.2.0",
            "_view_name": "StyleView",
            "bar_color": null,
            "description_width": ""
          }
        },
        "b01f90942e494b909d88408e469b4c7d": {
          "model_module": "@jupyter-widgets/base",
          "model_name": "LayoutModel",
          "model_module_version": "1.2.0",
          "state": {
            "_model_module": "@jupyter-widgets/base",
            "_model_module_version": "1.2.0",
            "_model_name": "LayoutModel",
            "_view_count": null,
            "_view_module": "@jupyter-widgets/base",
            "_view_module_version": "1.2.0",
            "_view_name": "LayoutView",
            "align_content": null,
            "align_items": null,
            "align_self": null,
            "border": null,
            "bottom": null,
            "display": null,
            "flex": null,
            "flex_flow": null,
            "grid_area": null,
            "grid_auto_columns": null,
            "grid_auto_flow": null,
            "grid_auto_rows": null,
            "grid_column": null,
            "grid_gap": null,
            "grid_row": null,
            "grid_template_areas": null,
            "grid_template_columns": null,
            "grid_template_rows": null,
            "height": null,
            "justify_content": null,
            "justify_items": null,
            "left": null,
            "margin": null,
            "max_height": null,
            "max_width": null,
            "min_height": null,
            "min_width": null,
            "object_fit": null,
            "object_position": null,
            "order": null,
            "overflow": null,
            "overflow_x": null,
            "overflow_y": null,
            "padding": null,
            "right": null,
            "top": null,
            "visibility": null,
            "width": null
          }
        },
        "9a9ea94eed514027963ef7b757f555e7": {
          "model_module": "@jupyter-widgets/controls",
          "model_name": "DescriptionStyleModel",
          "model_module_version": "1.5.0",
          "state": {
            "_model_module": "@jupyter-widgets/controls",
            "_model_module_version": "1.5.0",
            "_model_name": "DescriptionStyleModel",
            "_view_count": null,
            "_view_module": "@jupyter-widgets/base",
            "_view_module_version": "1.2.0",
            "_view_name": "StyleView",
            "description_width": ""
          }
        },
        "0072d3b2a9f24664939026acdc0f180b": {
          "model_module": "@jupyter-widgets/controls",
          "model_name": "HBoxModel",
          "model_module_version": "1.5.0",
          "state": {
            "_dom_classes": [],
            "_model_module": "@jupyter-widgets/controls",
            "_model_module_version": "1.5.0",
            "_model_name": "HBoxModel",
            "_view_count": null,
            "_view_module": "@jupyter-widgets/controls",
            "_view_module_version": "1.5.0",
            "_view_name": "HBoxView",
            "box_style": "",
            "children": [
              "IPY_MODEL_08aa1f45a02749e0916c77388053118f",
              "IPY_MODEL_a95168e564c1405a9127d99057b6b1da",
              "IPY_MODEL_4a47c9df775447c887d2239585732c75"
            ],
            "layout": "IPY_MODEL_b75fc15e65bf47c09dbd96b8cf67748e"
          }
        },
        "08aa1f45a02749e0916c77388053118f": {
          "model_module": "@jupyter-widgets/controls",
          "model_name": "HTMLModel",
          "model_module_version": "1.5.0",
          "state": {
            "_dom_classes": [],
            "_model_module": "@jupyter-widgets/controls",
            "_model_module_version": "1.5.0",
            "_model_name": "HTMLModel",
            "_view_count": null,
            "_view_module": "@jupyter-widgets/controls",
            "_view_module_version": "1.5.0",
            "_view_name": "HTMLView",
            "description": "",
            "description_tooltip": null,
            "layout": "IPY_MODEL_00a235af9c8f4d4996d8c310bf400db7",
            "placeholder": "​",
            "style": "IPY_MODEL_2893f0d5ee1340c0a6db8ce7b4870fd7",
            "value": ""
          }
        },
        "a95168e564c1405a9127d99057b6b1da": {
          "model_module": "@jupyter-widgets/controls",
          "model_name": "FloatProgressModel",
          "model_module_version": "1.5.0",
          "state": {
            "_dom_classes": [],
            "_model_module": "@jupyter-widgets/controls",
            "_model_module_version": "1.5.0",
            "_model_name": "FloatProgressModel",
            "_view_count": null,
            "_view_module": "@jupyter-widgets/controls",
            "_view_module_version": "1.5.0",
            "_view_name": "ProgressView",
            "bar_style": "info",
            "description": "",
            "description_tooltip": null,
            "layout": "IPY_MODEL_bf29711c08a241b1bc638ac6d09a4741",
            "max": 1,
            "min": 0,
            "orientation": "horizontal",
            "style": "IPY_MODEL_daeb9e8805f14e8cb658fece861c6483",
            "value": 1
          }
        },
        "4a47c9df775447c887d2239585732c75": {
          "model_module": "@jupyter-widgets/controls",
          "model_name": "HTMLModel",
          "model_module_version": "1.5.0",
          "state": {
            "_dom_classes": [],
            "_model_module": "@jupyter-widgets/controls",
            "_model_module_version": "1.5.0",
            "_model_name": "HTMLModel",
            "_view_count": null,
            "_view_module": "@jupyter-widgets/controls",
            "_view_module_version": "1.5.0",
            "_view_name": "HTMLView",
            "description": "",
            "description_tooltip": null,
            "layout": "IPY_MODEL_8e2cc6ec63e84350b0175803c851018d",
            "placeholder": "​",
            "style": "IPY_MODEL_29cf250db7cb4252b9dd5581b0b749db",
            "value": " 7355/0 [00:01&lt;00:00, 3566.94 examples/s]"
          }
        },
        "b75fc15e65bf47c09dbd96b8cf67748e": {
          "model_module": "@jupyter-widgets/base",
          "model_name": "LayoutModel",
          "model_module_version": "1.2.0",
          "state": {
            "_model_module": "@jupyter-widgets/base",
            "_model_module_version": "1.2.0",
            "_model_name": "LayoutModel",
            "_view_count": null,
            "_view_module": "@jupyter-widgets/base",
            "_view_module_version": "1.2.0",
            "_view_name": "LayoutView",
            "align_content": null,
            "align_items": null,
            "align_self": null,
            "border": null,
            "bottom": null,
            "display": null,
            "flex": null,
            "flex_flow": null,
            "grid_area": null,
            "grid_auto_columns": null,
            "grid_auto_flow": null,
            "grid_auto_rows": null,
            "grid_column": null,
            "grid_gap": null,
            "grid_row": null,
            "grid_template_areas": null,
            "grid_template_columns": null,
            "grid_template_rows": null,
            "height": null,
            "justify_content": null,
            "justify_items": null,
            "left": null,
            "margin": null,
            "max_height": null,
            "max_width": null,
            "min_height": null,
            "min_width": null,
            "object_fit": null,
            "object_position": null,
            "order": null,
            "overflow": null,
            "overflow_x": null,
            "overflow_y": null,
            "padding": null,
            "right": null,
            "top": null,
            "visibility": null,
            "width": null
          }
        },
        "00a235af9c8f4d4996d8c310bf400db7": {
          "model_module": "@jupyter-widgets/base",
          "model_name": "LayoutModel",
          "model_module_version": "1.2.0",
          "state": {
            "_model_module": "@jupyter-widgets/base",
            "_model_module_version": "1.2.0",
            "_model_name": "LayoutModel",
            "_view_count": null,
            "_view_module": "@jupyter-widgets/base",
            "_view_module_version": "1.2.0",
            "_view_name": "LayoutView",
            "align_content": null,
            "align_items": null,
            "align_self": null,
            "border": null,
            "bottom": null,
            "display": null,
            "flex": null,
            "flex_flow": null,
            "grid_area": null,
            "grid_auto_columns": null,
            "grid_auto_flow": null,
            "grid_auto_rows": null,
            "grid_column": null,
            "grid_gap": null,
            "grid_row": null,
            "grid_template_areas": null,
            "grid_template_columns": null,
            "grid_template_rows": null,
            "height": null,
            "justify_content": null,
            "justify_items": null,
            "left": null,
            "margin": null,
            "max_height": null,
            "max_width": null,
            "min_height": null,
            "min_width": null,
            "object_fit": null,
            "object_position": null,
            "order": null,
            "overflow": null,
            "overflow_x": null,
            "overflow_y": null,
            "padding": null,
            "right": null,
            "top": null,
            "visibility": null,
            "width": null
          }
        },
        "2893f0d5ee1340c0a6db8ce7b4870fd7": {
          "model_module": "@jupyter-widgets/controls",
          "model_name": "DescriptionStyleModel",
          "model_module_version": "1.5.0",
          "state": {
            "_model_module": "@jupyter-widgets/controls",
            "_model_module_version": "1.5.0",
            "_model_name": "DescriptionStyleModel",
            "_view_count": null,
            "_view_module": "@jupyter-widgets/base",
            "_view_module_version": "1.2.0",
            "_view_name": "StyleView",
            "description_width": ""
          }
        },
        "bf29711c08a241b1bc638ac6d09a4741": {
          "model_module": "@jupyter-widgets/base",
          "model_name": "LayoutModel",
          "model_module_version": "1.2.0",
          "state": {
            "_model_module": "@jupyter-widgets/base",
            "_model_module_version": "1.2.0",
            "_model_name": "LayoutModel",
            "_view_count": null,
            "_view_module": "@jupyter-widgets/base",
            "_view_module_version": "1.2.0",
            "_view_name": "LayoutView",
            "align_content": null,
            "align_items": null,
            "align_self": null,
            "border": null,
            "bottom": null,
            "display": null,
            "flex": null,
            "flex_flow": null,
            "grid_area": null,
            "grid_auto_columns": null,
            "grid_auto_flow": null,
            "grid_auto_rows": null,
            "grid_column": null,
            "grid_gap": null,
            "grid_row": null,
            "grid_template_areas": null,
            "grid_template_columns": null,
            "grid_template_rows": null,
            "height": null,
            "justify_content": null,
            "justify_items": null,
            "left": null,
            "margin": null,
            "max_height": null,
            "max_width": null,
            "min_height": null,
            "min_width": null,
            "object_fit": null,
            "object_position": null,
            "order": null,
            "overflow": null,
            "overflow_x": null,
            "overflow_y": null,
            "padding": null,
            "right": null,
            "top": null,
            "visibility": null,
            "width": "20px"
          }
        },
        "daeb9e8805f14e8cb658fece861c6483": {
          "model_module": "@jupyter-widgets/controls",
          "model_name": "ProgressStyleModel",
          "model_module_version": "1.5.0",
          "state": {
            "_model_module": "@jupyter-widgets/controls",
            "_model_module_version": "1.5.0",
            "_model_name": "ProgressStyleModel",
            "_view_count": null,
            "_view_module": "@jupyter-widgets/base",
            "_view_module_version": "1.2.0",
            "_view_name": "StyleView",
            "bar_color": null,
            "description_width": ""
          }
        },
        "8e2cc6ec63e84350b0175803c851018d": {
          "model_module": "@jupyter-widgets/base",
          "model_name": "LayoutModel",
          "model_module_version": "1.2.0",
          "state": {
            "_model_module": "@jupyter-widgets/base",
            "_model_module_version": "1.2.0",
            "_model_name": "LayoutModel",
            "_view_count": null,
            "_view_module": "@jupyter-widgets/base",
            "_view_module_version": "1.2.0",
            "_view_name": "LayoutView",
            "align_content": null,
            "align_items": null,
            "align_self": null,
            "border": null,
            "bottom": null,
            "display": null,
            "flex": null,
            "flex_flow": null,
            "grid_area": null,
            "grid_auto_columns": null,
            "grid_auto_flow": null,
            "grid_auto_rows": null,
            "grid_column": null,
            "grid_gap": null,
            "grid_row": null,
            "grid_template_areas": null,
            "grid_template_columns": null,
            "grid_template_rows": null,
            "height": null,
            "justify_content": null,
            "justify_items": null,
            "left": null,
            "margin": null,
            "max_height": null,
            "max_width": null,
            "min_height": null,
            "min_width": null,
            "object_fit": null,
            "object_position": null,
            "order": null,
            "overflow": null,
            "overflow_x": null,
            "overflow_y": null,
            "padding": null,
            "right": null,
            "top": null,
            "visibility": null,
            "width": null
          }
        },
        "29cf250db7cb4252b9dd5581b0b749db": {
          "model_module": "@jupyter-widgets/controls",
          "model_name": "DescriptionStyleModel",
          "model_module_version": "1.5.0",
          "state": {
            "_model_module": "@jupyter-widgets/controls",
            "_model_module_version": "1.5.0",
            "_model_name": "DescriptionStyleModel",
            "_view_count": null,
            "_view_module": "@jupyter-widgets/base",
            "_view_module_version": "1.2.0",
            "_view_name": "StyleView",
            "description_width": ""
          }
        },
        "1dc4dcc2e62d45178d954d95bbda8160": {
          "model_module": "@jupyter-widgets/controls",
          "model_name": "HBoxModel",
          "model_module_version": "1.5.0",
          "state": {
            "_dom_classes": [],
            "_model_module": "@jupyter-widgets/controls",
            "_model_module_version": "1.5.0",
            "_model_name": "HBoxModel",
            "_view_count": null,
            "_view_module": "@jupyter-widgets/controls",
            "_view_module_version": "1.5.0",
            "_view_name": "HBoxView",
            "box_style": "",
            "children": [
              "IPY_MODEL_f815a82038a14bf092e1aaa23238cd41",
              "IPY_MODEL_ab2340164a564213b92abbce41524d3a",
              "IPY_MODEL_4ed76884d4da4877a82536671a054ae6"
            ],
            "layout": "IPY_MODEL_2bfda299ad6b4cd883a0da535e5e934f"
          }
        },
        "f815a82038a14bf092e1aaa23238cd41": {
          "model_module": "@jupyter-widgets/controls",
          "model_name": "HTMLModel",
          "model_module_version": "1.5.0",
          "state": {
            "_dom_classes": [],
            "_model_module": "@jupyter-widgets/controls",
            "_model_module_version": "1.5.0",
            "_model_name": "HTMLModel",
            "_view_count": null,
            "_view_module": "@jupyter-widgets/controls",
            "_view_module_version": "1.5.0",
            "_view_name": "HTMLView",
            "description": "",
            "description_tooltip": null,
            "layout": "IPY_MODEL_b4b9a0140bbf430ebe58337760997923",
            "placeholder": "​",
            "style": "IPY_MODEL_bcf86c3061db4c88b29ffa8db9bd1123",
            "value": "100%"
          }
        },
        "ab2340164a564213b92abbce41524d3a": {
          "model_module": "@jupyter-widgets/controls",
          "model_name": "FloatProgressModel",
          "model_module_version": "1.5.0",
          "state": {
            "_dom_classes": [],
            "_model_module": "@jupyter-widgets/controls",
            "_model_module_version": "1.5.0",
            "_model_name": "FloatProgressModel",
            "_view_count": null,
            "_view_module": "@jupyter-widgets/controls",
            "_view_module_version": "1.5.0",
            "_view_name": "ProgressView",
            "bar_style": "danger",
            "description": "",
            "description_tooltip": null,
            "layout": "IPY_MODEL_3358ab108eca421dabb8edf71e824e28",
            "max": 7600,
            "min": 0,
            "orientation": "horizontal",
            "style": "IPY_MODEL_eff9635647104b21969990443f0f7689",
            "value": 7599
          }
        },
        "4ed76884d4da4877a82536671a054ae6": {
          "model_module": "@jupyter-widgets/controls",
          "model_name": "HTMLModel",
          "model_module_version": "1.5.0",
          "state": {
            "_dom_classes": [],
            "_model_module": "@jupyter-widgets/controls",
            "_model_module_version": "1.5.0",
            "_model_name": "HTMLModel",
            "_view_count": null,
            "_view_module": "@jupyter-widgets/controls",
            "_view_module_version": "1.5.0",
            "_view_name": "HTMLView",
            "description": "",
            "description_tooltip": null,
            "layout": "IPY_MODEL_4c69d296ca134c8dbf454fda91fb9706",
            "placeholder": "​",
            "style": "IPY_MODEL_3923a30860724da9ad468c5c74aba624",
            "value": " 7599/7600 [00:00&lt;00:00, 88041.73 examples/s]"
          }
        },
        "2bfda299ad6b4cd883a0da535e5e934f": {
          "model_module": "@jupyter-widgets/base",
          "model_name": "LayoutModel",
          "model_module_version": "1.2.0",
          "state": {
            "_model_module": "@jupyter-widgets/base",
            "_model_module_version": "1.2.0",
            "_model_name": "LayoutModel",
            "_view_count": null,
            "_view_module": "@jupyter-widgets/base",
            "_view_module_version": "1.2.0",
            "_view_name": "LayoutView",
            "align_content": null,
            "align_items": null,
            "align_self": null,
            "border": null,
            "bottom": null,
            "display": null,
            "flex": null,
            "flex_flow": null,
            "grid_area": null,
            "grid_auto_columns": null,
            "grid_auto_flow": null,
            "grid_auto_rows": null,
            "grid_column": null,
            "grid_gap": null,
            "grid_row": null,
            "grid_template_areas": null,
            "grid_template_columns": null,
            "grid_template_rows": null,
            "height": null,
            "justify_content": null,
            "justify_items": null,
            "left": null,
            "margin": null,
            "max_height": null,
            "max_width": null,
            "min_height": null,
            "min_width": null,
            "object_fit": null,
            "object_position": null,
            "order": null,
            "overflow": null,
            "overflow_x": null,
            "overflow_y": null,
            "padding": null,
            "right": null,
            "top": null,
            "visibility": null,
            "width": null
          }
        },
        "b4b9a0140bbf430ebe58337760997923": {
          "model_module": "@jupyter-widgets/base",
          "model_name": "LayoutModel",
          "model_module_version": "1.2.0",
          "state": {
            "_model_module": "@jupyter-widgets/base",
            "_model_module_version": "1.2.0",
            "_model_name": "LayoutModel",
            "_view_count": null,
            "_view_module": "@jupyter-widgets/base",
            "_view_module_version": "1.2.0",
            "_view_name": "LayoutView",
            "align_content": null,
            "align_items": null,
            "align_self": null,
            "border": null,
            "bottom": null,
            "display": null,
            "flex": null,
            "flex_flow": null,
            "grid_area": null,
            "grid_auto_columns": null,
            "grid_auto_flow": null,
            "grid_auto_rows": null,
            "grid_column": null,
            "grid_gap": null,
            "grid_row": null,
            "grid_template_areas": null,
            "grid_template_columns": null,
            "grid_template_rows": null,
            "height": null,
            "justify_content": null,
            "justify_items": null,
            "left": null,
            "margin": null,
            "max_height": null,
            "max_width": null,
            "min_height": null,
            "min_width": null,
            "object_fit": null,
            "object_position": null,
            "order": null,
            "overflow": null,
            "overflow_x": null,
            "overflow_y": null,
            "padding": null,
            "right": null,
            "top": null,
            "visibility": null,
            "width": null
          }
        },
        "bcf86c3061db4c88b29ffa8db9bd1123": {
          "model_module": "@jupyter-widgets/controls",
          "model_name": "DescriptionStyleModel",
          "model_module_version": "1.5.0",
          "state": {
            "_model_module": "@jupyter-widgets/controls",
            "_model_module_version": "1.5.0",
            "_model_name": "DescriptionStyleModel",
            "_view_count": null,
            "_view_module": "@jupyter-widgets/base",
            "_view_module_version": "1.2.0",
            "_view_name": "StyleView",
            "description_width": ""
          }
        },
        "3358ab108eca421dabb8edf71e824e28": {
          "model_module": "@jupyter-widgets/base",
          "model_name": "LayoutModel",
          "model_module_version": "1.2.0",
          "state": {
            "_model_module": "@jupyter-widgets/base",
            "_model_module_version": "1.2.0",
            "_model_name": "LayoutModel",
            "_view_count": null,
            "_view_module": "@jupyter-widgets/base",
            "_view_module_version": "1.2.0",
            "_view_name": "LayoutView",
            "align_content": null,
            "align_items": null,
            "align_self": null,
            "border": null,
            "bottom": null,
            "display": null,
            "flex": null,
            "flex_flow": null,
            "grid_area": null,
            "grid_auto_columns": null,
            "grid_auto_flow": null,
            "grid_auto_rows": null,
            "grid_column": null,
            "grid_gap": null,
            "grid_row": null,
            "grid_template_areas": null,
            "grid_template_columns": null,
            "grid_template_rows": null,
            "height": null,
            "justify_content": null,
            "justify_items": null,
            "left": null,
            "margin": null,
            "max_height": null,
            "max_width": null,
            "min_height": null,
            "min_width": null,
            "object_fit": null,
            "object_position": null,
            "order": null,
            "overflow": null,
            "overflow_x": null,
            "overflow_y": null,
            "padding": null,
            "right": null,
            "top": null,
            "visibility": null,
            "width": null
          }
        },
        "eff9635647104b21969990443f0f7689": {
          "model_module": "@jupyter-widgets/controls",
          "model_name": "ProgressStyleModel",
          "model_module_version": "1.5.0",
          "state": {
            "_model_module": "@jupyter-widgets/controls",
            "_model_module_version": "1.5.0",
            "_model_name": "ProgressStyleModel",
            "_view_count": null,
            "_view_module": "@jupyter-widgets/base",
            "_view_module_version": "1.2.0",
            "_view_name": "StyleView",
            "bar_color": null,
            "description_width": ""
          }
        },
        "4c69d296ca134c8dbf454fda91fb9706": {
          "model_module": "@jupyter-widgets/base",
          "model_name": "LayoutModel",
          "model_module_version": "1.2.0",
          "state": {
            "_model_module": "@jupyter-widgets/base",
            "_model_module_version": "1.2.0",
            "_model_name": "LayoutModel",
            "_view_count": null,
            "_view_module": "@jupyter-widgets/base",
            "_view_module_version": "1.2.0",
            "_view_name": "LayoutView",
            "align_content": null,
            "align_items": null,
            "align_self": null,
            "border": null,
            "bottom": null,
            "display": null,
            "flex": null,
            "flex_flow": null,
            "grid_area": null,
            "grid_auto_columns": null,
            "grid_auto_flow": null,
            "grid_auto_rows": null,
            "grid_column": null,
            "grid_gap": null,
            "grid_row": null,
            "grid_template_areas": null,
            "grid_template_columns": null,
            "grid_template_rows": null,
            "height": null,
            "justify_content": null,
            "justify_items": null,
            "left": null,
            "margin": null,
            "max_height": null,
            "max_width": null,
            "min_height": null,
            "min_width": null,
            "object_fit": null,
            "object_position": null,
            "order": null,
            "overflow": null,
            "overflow_x": null,
            "overflow_y": null,
            "padding": null,
            "right": null,
            "top": null,
            "visibility": null,
            "width": null
          }
        },
        "3923a30860724da9ad468c5c74aba624": {
          "model_module": "@jupyter-widgets/controls",
          "model_name": "DescriptionStyleModel",
          "model_module_version": "1.5.0",
          "state": {
            "_model_module": "@jupyter-widgets/controls",
            "_model_module_version": "1.5.0",
            "_model_name": "DescriptionStyleModel",
            "_view_count": null,
            "_view_module": "@jupyter-widgets/base",
            "_view_module_version": "1.2.0",
            "_view_name": "StyleView",
            "description_width": ""
          }
        }
      }
    }
  },
  "nbformat": 4,
  "nbformat_minor": 0
}